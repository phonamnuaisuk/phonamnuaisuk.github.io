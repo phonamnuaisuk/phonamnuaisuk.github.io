{
 "cells": [
  {
   "cell_type": "markdown",
   "metadata": {},
   "source": [
    "# Bird Classification (Task 1)\n",
    "\n",
    "<hr>\n",
    "\n",
    "## Please read the instruction carefully\n",
    "- You shall construct a neural network to classify different type of birds.\n",
    "- The constructed model accept input image of size 128 x 128 x 3\n",
    "- A dataset of bird will be provided. There are two main folders: train and vaidation folders.\n",
    "- You are not allowed to add extra images or remove images from the provided dataset. \n",
    "- You are not allowed to manipulate the image manually. However, you may write code to perform image augmentation while training, but you shall not create extra physical copies for the training data and insert them to the existing dataset.\n",
    "- You shall develop your code using Tensorflow and Google Colab. You may use TF1.x or TF2.x.\n",
    "- Submit your code in ipython notebook format. Some guided sections have been provided as a minimum requirements, you have a total freedom to add extra sections as desired.\n",
    "- Plagiarism is a serious offence, always acknowledge codes, texts, images taken from other sources.\n",
    "- The dataset is too big to be posted here, please contact span.amnuaisuk@gmail.com"
   ]
  },
  {
   "cell_type": "markdown",
   "metadata": {},
   "source": [
    "## Bird Classification Task\n",
    "\n",
    "You are going to construct a model to recognise the following 25 classes of birds.\n",
    "The following data is provided in the dataTask1 folder whih can be downloaded from ...\n",
    "\n",
    "dataTask1\n",
    "\n",
    "- Image files\n",
    " - train Folders: 'Albatross', 'Auklet', 'Blackbird', 'Bunting', 'Catbird', 'Cormorant', 'Cowbird', 'Crow', 'Cuckoo', 'Flycatcher', 'Goldfinch', 'Grebe', 'Grosbeak', 'Jay', 'Kingfisher', 'Oriole', 'Raven', 'Sparrow', 'Swallow', 'Tern', 'Vireo', 'Warbler', 'Waxwing', 'Woodpecker', 'Wren'\n",
    "\n",
    " - validation Folders: 'Albatross', 'Auklet', 'Blackbird', 'Bunting', 'Catbird', 'Cormorant', 'Cowbird', 'Crow', 'Cuckoo', 'Flycatcher', 'Goldfinch', 'Grebe', 'Grosbeak', 'Jay', 'Kingfisher', 'Oriole', 'Raven', 'Sparrow', 'Swallow', 'Tern', 'Vireo', 'Warbler', 'Waxwing', 'Woodpecker', 'Wren'\n",
    "\n",
    "- Image paths and labels\n",
    " - task1train.csv\n",
    " - task1train_onehot.csv\n",
    " - task1validation.csv\n",
    " - task1validation_onehot.csv\n"
   ]
  },
  {
   "cell_type": "markdown",
   "metadata": {},
   "source": [
    "<hr>\n",
    "\n",
    "# 1. Problem Formulation (10%)\n",
    "\n",
    "In this section, you should explain the bird classification problem posed in this competition. The nature of the dataset and the proposed solution. After reading this section, readers should have good idea of the way you see the problem and the appoarch you have taked to solve it.\n",
    "\n",
    "Image worth a thousand words, always add images to elaborated and clarify your presentation."
   ]
  },
  {
   "cell_type": "markdown",
   "metadata": {},
   "source": []
  },
  {
   "cell_type": "markdown",
   "metadata": {},
   "source": [
    "## 1.1 Model architecture\n",
    "\n"
   ]
  },
  {
   "cell_type": "markdown",
   "metadata": {},
   "source": [
    "Give theoretical background of the implemented model, use numbering citation style e.g., [1]. Please include a reference section (if any) at the end of the section 3."
   ]
  },
  {
   "cell_type": "markdown",
   "metadata": {},
   "source": [
    "<hr>\n",
    "\n",
    "# 2. Implementation (20%)\n",
    "\n",
    "After clearly establish the problem and the approach, then all implementation details should be explained in this section. Always use meaningful variable names and give extra effort to comment your code.\n",
    "\n",
    "## 2.1 Load all required libraries\n"
   ]
  },
  {
   "cell_type": "code",
   "execution_count": null,
   "metadata": {},
   "outputs": [],
   "source": []
  },
  {
   "cell_type": "markdown",
   "metadata": {},
   "source": [
    "### Print out\n",
    "- Tensorflow version\n",
    "- Keras version"
   ]
  },
  {
   "cell_type": "code",
   "execution_count": null,
   "metadata": {},
   "outputs": [],
   "source": []
  },
  {
   "cell_type": "markdown",
   "metadata": {},
   "source": [
    "## 2.2 Construct model\n",
    "\n",
    "### Parameters settings\n",
    "\n",
    "Explain the value of each parameters"
   ]
  },
  {
   "cell_type": "code",
   "execution_count": null,
   "metadata": {},
   "outputs": [],
   "source": []
  },
  {
   "cell_type": "markdown",
   "metadata": {},
   "source": [
    "### Print out a summary of the model"
   ]
  },
  {
   "cell_type": "code",
   "execution_count": null,
   "metadata": {},
   "outputs": [],
   "source": []
  },
  {
   "cell_type": "markdown",
   "metadata": {},
   "source": [
    "## 2.3 Preparation of Train Data and Validation Data \n",
    "\n",
    "Explain the training process"
   ]
  },
  {
   "cell_type": "code",
   "execution_count": null,
   "metadata": {},
   "outputs": [],
   "source": []
  },
  {
   "cell_type": "markdown",
   "metadata": {},
   "source": [
    "## 2.4 Train the Model"
   ]
  },
  {
   "cell_type": "code",
   "execution_count": null,
   "metadata": {},
   "outputs": [],
   "source": []
  },
  {
   "cell_type": "markdown",
   "metadata": {},
   "source": [
    "### Plots \n",
    "#### Training Accuracy and Loss"
   ]
  },
  {
   "cell_type": "code",
   "execution_count": null,
   "metadata": {},
   "outputs": [],
   "source": []
  },
  {
   "cell_type": "markdown",
   "metadata": {},
   "source": [
    "### Analyse performance based on validation data\n",
    "\n",
    "#### Accuracy, Confusion matrix"
   ]
  },
  {
   "cell_type": "code",
   "execution_count": null,
   "metadata": {},
   "outputs": [],
   "source": []
  },
  {
   "cell_type": "markdown",
   "metadata": {},
   "source": [
    "## 2.5 Save and Load Model\n",
    "\n",
    "- Know how to save and load model\n",
    "- You need to submit a complete model for evaluation with the test dataset. It is a good idea to save and verify that the saved model can be loaded."
   ]
  },
  {
   "cell_type": "code",
   "execution_count": null,
   "metadata": {},
   "outputs": [],
   "source": []
  },
  {
   "cell_type": "markdown",
   "metadata": {},
   "source": [
    "# 3. Conclusion and Future Enhancement\n",
    "\n",
    "Summarise key cocepts, summarise motivations for the model architecture, the parameters settings, etc. Summarise the performance of the system and discuss ways to improve its performance.\n",
    "\n",
    "You may want to discuss business opportunity or other extension from the current stage."
   ]
  },
  {
   "cell_type": "markdown",
   "metadata": {},
   "source": []
  },
  {
   "cell_type": "markdown",
   "metadata": {},
   "source": [
    "# 4. References"
   ]
  },
  {
   "cell_type": "markdown",
   "metadata": {},
   "source": []
  },
  {
   "cell_type": "markdown",
   "metadata": {},
   "source": [
    "<hr> \n",
    "\n",
    "# 5. The sections below are for the judge.\n",
    "\n",
    "This section will be completed by the judge. Your saved model will be loaded and tested with a common nseen test dataset. Hence, it is important to ensure that your model can be loaded before submitting your work.\n",
    "\n",
    "## Coding Quality (10%)\n",
    "\n",
    "### Comment"
   ]
  },
  {
   "cell_type": "markdown",
   "metadata": {},
   "source": [
    "## Problem Formulation (10%)\n",
    "### Comment"
   ]
  },
  {
   "cell_type": "markdown",
   "metadata": {},
   "source": [
    "## Implementation (20%)\n",
    "### Comment"
   ]
  },
  {
   "cell_type": "markdown",
   "metadata": {},
   "source": [
    "## Evaluate the model with unseen test dataset (30%)\n",
    "\n"
   ]
  },
  {
   "cell_type": "code",
   "execution_count": null,
   "metadata": {},
   "outputs": [],
   "source": []
  }
 ],
 "metadata": {
  "kernelspec": {
   "display_name": "Python 3",
   "language": "python",
   "name": "python3"
  },
  "language_info": {
   "codemirror_mode": {
    "name": "ipython",
    "version": 3
   },
   "file_extension": ".py",
   "mimetype": "text/x-python",
   "name": "python",
   "nbconvert_exporter": "python",
   "pygments_lexer": "ipython3",
   "version": "3.7.4"
  }
 },
 "nbformat": 4,
 "nbformat_minor": 2
}
