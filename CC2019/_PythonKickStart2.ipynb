{
 "cells": [
  {
   "cell_type": "markdown",
   "metadata": {
    "colab_type": "text",
    "id": "YnHLUe5TZD04"
   },
   "source": [
    "# Using Python as a Programming Language\n",
    "\n",
    "\n",
    "We will start with the most important function **help()**"
   ]
  },
  {
   "cell_type": "code",
   "execution_count": 0,
   "metadata": {
    "colab": {},
    "colab_type": "code",
    "id": "vdP-YJ5JYKQ_"
   },
   "outputs": [],
   "source": [
    "help(str)"
   ]
  },
  {
   "cell_type": "markdown",
   "metadata": {
    "colab_type": "text",
    "id": "-UrFYy3DXLRQ"
   },
   "source": [
    "## Representig Time"
   ]
  },
  {
   "cell_type": "code",
   "execution_count": 0,
   "metadata": {
    "colab": {
     "base_uri": "https://localhost:8080/",
     "height": 54
    },
    "colab_type": "code",
    "executionInfo": {
     "elapsed": 878,
     "status": "ok",
     "timestamp": 1569548227692,
     "user": {
      "displayName": "span amnuaisuk",
      "photoUrl": "",
      "userId": "17774227008582465577"
     },
     "user_tz": -480
    },
    "id": "3W-myk7ZXT_e",
    "outputId": "11c56426-653d-49bc-bf65-4806b7fadecf"
   },
   "outputs": [
    {
     "name": "stdout",
     "output_type": "stream",
     "text": [
      "Local current time : time.struct_time(tm_year=2019, tm_mon=9, tm_mday=27, tm_hour=1, tm_min=37, tm_sec=6, tm_wday=4, tm_yday=270, tm_isdst=0)\n"
     ]
    }
   ],
   "source": [
    "import time\n",
    "\n",
    "localtime = time.localtime(time.time())\n",
    "print (\"Local current time :\", localtime)"
   ]
  },
  {
   "cell_type": "code",
   "execution_count": 0,
   "metadata": {
    "colab": {
     "base_uri": "https://localhost:8080/",
     "height": 170
    },
    "colab_type": "code",
    "executionInfo": {
     "elapsed": 855,
     "status": "ok",
     "timestamp": 1569548523568,
     "user": {
      "displayName": "span amnuaisuk",
      "photoUrl": "",
      "userId": "17774227008582465577"
     },
     "user_tz": -480
    },
    "id": "e_dKR7DAYZSe",
    "outputId": "74600906-a9cb-4dce-c9d2-7b285a945677"
   },
   "outputs": [
    {
     "name": "stdout",
     "output_type": "stream",
     "text": [
      "Here is the calendar:\n",
      "   November 2019\n",
      "Mo Tu We Th Fr Sa Su\n",
      "             1  2  3\n",
      " 4  5  6  7  8  9 10\n",
      "11 12 13 14 15 16 17\n",
      "18 19 20 21 22 23 24\n",
      "25 26 27 28 29 30\n",
      "\n"
     ]
    }
   ],
   "source": [
    "import calendar\n",
    "\n",
    "cal = calendar.month(2019, 11)\n",
    "print (\"Here is the calendar:\")\n",
    "print (cal)"
   ]
  },
  {
   "cell_type": "markdown",
   "metadata": {
    "colab_type": "text",
    "id": "-7M5dBwrJiwH"
   },
   "source": [
    "## Representation of Numbers"
   ]
  },
  {
   "cell_type": "code",
   "execution_count": 0,
   "metadata": {
    "colab": {
     "base_uri": "https://localhost:8080/",
     "height": 34
    },
    "colab_type": "code",
    "executionInfo": {
     "elapsed": 861,
     "status": "ok",
     "timestamp": 1569544936789,
     "user": {
      "displayName": "span amnuaisuk",
      "photoUrl": "",
      "userId": "17774227008582465577"
     },
     "user_tz": -480
    },
    "id": "sssj-lDdYQGA",
    "outputId": "38811fe2-81ae-49dc-ae22-6ef6fe5e5149"
   },
   "outputs": [
    {
     "name": "stdout",
     "output_type": "stream",
     "text": [
      "255 255 255 255\n"
     ]
    }
   ],
   "source": [
    "print(0b11111111,0o377,0xFF,255)"
   ]
  },
  {
   "cell_type": "markdown",
   "metadata": {
    "colab_type": "text",
    "id": "5znf204dLaY3"
   },
   "source": [
    "## Built-in Math Functions"
   ]
  },
  {
   "cell_type": "code",
   "execution_count": 0,
   "metadata": {
    "colab": {
     "base_uri": "https://localhost:8080/",
     "height": 85
    },
    "colab_type": "code",
    "executionInfo": {
     "elapsed": 847,
     "status": "ok",
     "timestamp": 1569545609552,
     "user": {
      "displayName": "span amnuaisuk",
      "photoUrl": "",
      "userId": "17774227008582465577"
     },
     "user_tz": -480
    },
    "id": "IBDRPQVzLXTJ",
    "outputId": "a4cbb410-f662-4c68-dce3-dd6fc27a1224"
   },
   "outputs": [
    {
     "name": "stdout",
     "output_type": "stream",
     "text": [
      "10 4 1\n",
      "2.718281828459045 3.141592653589793\n",
      "3 2 2.718281828459045 10.0 1.0\n",
      "8.0 4.0\n"
     ]
    }
   ],
   "source": [
    "import math\n",
    "print( abs(-10), max([1,2,3,4,3,2,1]), min([1,2,3,4,3,2,1]) )\n",
    "print( math.e, math.pi )\n",
    "print( math.ceil(12/5), math.floor(12/5), math.exp(1), math.log(math.exp(10)), math.log10(10) )\n",
    "print( math.pow(2,3), math.sqrt(16) )"
   ]
  },
  {
   "cell_type": "code",
   "execution_count": 0,
   "metadata": {
    "colab": {
     "base_uri": "https://localhost:8080/",
     "height": 119
    },
    "colab_type": "code",
    "executionInfo": {
     "elapsed": 1790,
     "status": "ok",
     "timestamp": 1569547233168,
     "user": {
      "displayName": "span amnuaisuk",
      "photoUrl": "",
      "userId": "17774227008582465577"
     },
     "user_tz": -480
    },
    "id": "jJhJBbOhQ4j4",
    "outputId": "b10bdfe1-a300-45d1-99f9-519f3b4b5f30"
   },
   "outputs": [
    {
     "name": "stdout",
     "output_type": "stream",
     "text": [
      "0.0\n",
      "1.0\n",
      "1.2246467991473532e-16\n",
      "6.123233995736766e-17\n",
      "1.0\n",
      "-1.0\n"
     ]
    }
   ],
   "source": [
    "print(math.sin(0))\n",
    "print(math.cos(0))\n",
    "print(math.sin(math.pi))\n",
    "print(math.cos(math.pi/2))\n",
    "print(math.sin(math.pi/2))\n",
    "print(math.cos(math.pi))"
   ]
  },
  {
   "cell_type": "code",
   "execution_count": 0,
   "metadata": {
    "colab": {
     "base_uri": "https://localhost:8080/",
     "height": 85
    },
    "colab_type": "code",
    "executionInfo": {
     "elapsed": 864,
     "status": "ok",
     "timestamp": 1569548020029,
     "user": {
      "displayName": "span amnuaisuk",
      "photoUrl": "",
      "userId": "17774227008582465577"
     },
     "user_tz": -480
    },
    "id": "prUHEk-nULBI",
    "outputId": "722d757e-a226-488e-89b0-caec4da074de"
   },
   "outputs": [
    {
     "name": "stdout",
     "output_type": "stream",
     "text": [
      "0.5124332406178557\n",
      "1\n",
      "1\n",
      "None [2, 3, 1, 4, 5]\n"
     ]
    }
   ],
   "source": [
    "import random\n",
    "print( random.random() )\n",
    "print( random.choice([1,2,3,4,5]) )\n",
    "print( random.randrange (-5,6) )\n",
    "a = [1,2,3,4,5]\n",
    "print( random.shuffle(a),a )"
   ]
  },
  {
   "cell_type": "markdown",
   "metadata": {
    "colab_type": "text",
    "id": "a8jzovKNXIbx"
   },
   "source": [
    "## Data Structures: Set, List, Tuple, Dictionary, Matrix and Array"
   ]
  },
  {
   "cell_type": "markdown",
   "metadata": {
    "colab_type": "text",
    "id": "3cdU-b91JHg_"
   },
   "source": [
    "### Set, List, Tuple and Dictionary"
   ]
  },
  {
   "cell_type": "code",
   "execution_count": 0,
   "metadata": {
    "colab": {
     "base_uri": "https://localhost:8080/",
     "height": 50
    },
    "colab_type": "code",
    "executionInfo": {
     "elapsed": 871,
     "status": "ok",
     "timestamp": 1569109792921,
     "user": {
      "displayName": "span amnuaisuk",
      "photoUrl": "",
      "userId": "17774227008582465577"
     },
     "user_tz": -480
    },
    "id": "OHPWdKjAABlx",
    "outputId": "b004ad44-dc48-40c5-8211-73a50c1cb0b0"
   },
   "outputs": [
    {
     "name": "stdout",
     "output_type": "stream",
     "text": [
      "<class 'set'> \n",
      " 5\n"
     ]
    }
   ],
   "source": [
    "A = {1,2,3,5,7}\n",
    "print(type(A),'\\n',len(A))"
   ]
  },
  {
   "cell_type": "code",
   "execution_count": 0,
   "metadata": {
    "colab": {
     "base_uri": "https://localhost:8080/",
     "height": 168
    },
    "colab_type": "code",
    "executionInfo": {
     "elapsed": 866,
     "status": "ok",
     "timestamp": 1569109809057,
     "user": {
      "displayName": "span amnuaisuk",
      "photoUrl": "",
      "userId": "17774227008582465577"
     },
     "user_tz": -480
    },
    "id": "3qwTv_pdCgfb",
    "outputId": "9ec5ee45-cf37-480c-a4f0-d95b3ca27939"
   },
   "outputs": [
    {
     "name": "stdout",
     "output_type": "stream",
     "text": [
      "{1, 2, 3, 4}\n",
      "{3, 4, 5, 6}\n",
      "{1, 2, 3, 4, 5, 6}\n",
      "{3, 4}\n",
      "{1, 2}\n",
      "{1, 2, 3, 4, 'a'}\n",
      "{1, 2, 3, 4, 'b', 'a'}\n",
      "{1, 3, 4, 'b', 'a'}\n",
      "{1, 3, 4, 'b'}\n"
     ]
    }
   ],
   "source": [
    "A = set([1,2,3,4])\n",
    "print(A)\n",
    "B = set([3,4,5,6])\n",
    "print(B)\n",
    "print(A.union(B))\n",
    "print(A.intersection(B))\n",
    "print(A.difference(B))\n",
    "A.add('a')\n",
    "print(A)\n",
    "A.update({1,'b'})\n",
    "print(A)\n",
    "A.remove(2)\n",
    "print(A)\n",
    "A.remove('a')\n",
    "print(A)"
   ]
  },
  {
   "cell_type": "code",
   "execution_count": 0,
   "metadata": {
    "colab": {
     "base_uri": "https://localhost:8080/",
     "height": 34
    },
    "colab_type": "code",
    "executionInfo": {
     "elapsed": 874,
     "status": "ok",
     "timestamp": 1569109820975,
     "user": {
      "displayName": "span amnuaisuk",
      "photoUrl": "",
      "userId": "17774227008582465577"
     },
     "user_tz": -480
    },
    "id": "hgSWkgML_goE",
    "outputId": "21f224b6-0b33-41dd-aa2e-69e01c256eb2"
   },
   "outputs": [
    {
     "data": {
      "text/plain": [
       "{1, 2, 3, 4}"
      ]
     },
     "execution_count": 16,
     "metadata": {
      "tags": []
     },
     "output_type": "execute_result"
    }
   ],
   "source": [
    "{x for x in range(-5,5) if x > 0}"
   ]
  },
  {
   "cell_type": "code",
   "execution_count": 0,
   "metadata": {
    "colab": {
     "base_uri": "https://localhost:8080/",
     "height": 34
    },
    "colab_type": "code",
    "executionInfo": {
     "elapsed": 864,
     "status": "ok",
     "timestamp": 1569109826353,
     "user": {
      "displayName": "span amnuaisuk",
      "photoUrl": "",
      "userId": "17774227008582465577"
     },
     "user_tz": -480
    },
    "id": "OFRlaJhY_3ob",
    "outputId": "e4c1ab4a-1523-4a89-b5b8-71ad6cf26d33"
   },
   "outputs": [
    {
     "data": {
      "text/plain": [
       "{(1, 'a'), (1, 'b'), (2, 'a'), (2, 'b'), (3, 'a'), (3, 'b')}"
      ]
     },
     "execution_count": 17,
     "metadata": {
      "tags": []
     },
     "output_type": "execute_result"
    }
   ],
   "source": [
    "{(x,y) for x in {1,2,3} for y in {'a','b'}}"
   ]
  },
  {
   "cell_type": "code",
   "execution_count": 0,
   "metadata": {
    "colab": {
     "base_uri": "https://localhost:8080/",
     "height": 121
    },
    "colab_type": "code",
    "executionInfo": {
     "elapsed": 854,
     "status": "ok",
     "timestamp": 1569109835821,
     "user": {
      "displayName": "span amnuaisuk",
      "photoUrl": "",
      "userId": "17774227008582465577"
     },
     "user_tz": -480
    },
    "id": "PvBaF_UkSi6m",
    "outputId": "0b947f68-ca8b-431c-b992-af50c943b022"
   },
   "outputs": [
    {
     "name": "stdout",
     "output_type": "stream",
     "text": [
      "{(-1, 0), (-2, 0), (2, 1), (0, -1), (1, -2), (1, -1), (1, 2), (-1, 1), (-2, 1), (-1, -1), (-1, -2), (2, 2), (-2, -1), (-2, -2), (1, 1), (0, 0), (2, -1), (2, -2), (-1, 2), (-2, 2), (1, 0), (0, 1), (2, 0), (0, -2), (0, 2)}\n",
      "{(1, 2), (0, 1), (-1, 1), (-2, 1), (0, 0), (-2, 0), (-1, 0), (2, 2), (-2, -1), (-2, -2), (-1, 2), (-2, 2), (0, 2), (-1, -1), (1, 1)}\n",
      "{(2, -1), (2, -2), (2, 1), (2, 0), (1, -1), (0, -2), (-1, -2), (0, -1), (1, 0), (1, -2)}\n",
      "{(-1, 1), (0, 0), (-2, -2), (-1, -1), (2, -2), (-2, 2), (2, 2), (1, -1), (1, 1)}\n",
      "{(0, 0), (-2, -2), (-1, -1), (2, 2), (1, 1)}\n"
     ]
    }
   ],
   "source": [
    "R = {(a,b) for a in {-2,-1,0,1,2} for b in {-2,-1,0,1,2}}\n",
    "print(R)\n",
    "R1 = {(a,b) for (a,b) in R if a <= b}\n",
    "print(R1)\n",
    "R2 = {(a,b) for (a,b) in R if a > b}\n",
    "print(R2)\n",
    "R3 = {(a,b) for (a,b) in R if a == b or a == (-b)}\n",
    "print(R3)\n",
    "R4 = {(a,b) for (a,b) in R if a == b}\n",
    "print(R4)"
   ]
  },
  {
   "cell_type": "code",
   "execution_count": 0,
   "metadata": {
    "colab": {
     "base_uri": "https://localhost:8080/",
     "height": 134
    },
    "colab_type": "code",
    "executionInfo": {
     "elapsed": 886,
     "status": "ok",
     "timestamp": 1569109851879,
     "user": {
      "displayName": "span amnuaisuk",
      "photoUrl": "",
      "userId": "17774227008582465577"
     },
     "user_tz": -480
    },
    "id": "58zwBQ0v4BJw",
    "outputId": "f846d3c6-abd0-49f4-8ebc-d78a8cdb4e55"
   },
   "outputs": [
    {
     "name": "stdout",
     "output_type": "stream",
     "text": [
      "1\n",
      "2\n",
      "2\n",
      "None [1, 2, 3, 'a', 'b', 'c', 1, 'x']\n",
      "None ['x', 1, 'c', 'b', 'a', 3, 2, 1]\n",
      "8\n",
      "['A', 'x', 1, 'B', 'c', 'b', 'a', 3, 2, 1] 10\n"
     ]
    }
   ],
   "source": [
    "L = [1,2,3,'a','b','c',1,2]\n",
    "print(L[0])\n",
    "print(L[-1])\n",
    "print(L.pop())\n",
    "print(L.append('x'),L)\n",
    "print(L.reverse(),L)\n",
    "print(len(L))\n",
    "L.insert(0,'A')\n",
    "L.insert(3,'B')\n",
    "print(L, len(L))\n"
   ]
  },
  {
   "cell_type": "code",
   "execution_count": 0,
   "metadata": {
    "colab": {
     "base_uri": "https://localhost:8080/",
     "height": 84
    },
    "colab_type": "code",
    "executionInfo": {
     "elapsed": 866,
     "status": "ok",
     "timestamp": 1569110021608,
     "user": {
      "displayName": "span amnuaisuk",
      "photoUrl": "",
      "userId": "17774227008582465577"
     },
     "user_tz": -480
    },
    "id": "9vV6jO0STEh6",
    "outputId": "ca6a6bcb-342e-414d-bcc4-68cefbd778b8"
   },
   "outputs": [
    {
     "name": "stdout",
     "output_type": "stream",
     "text": [
      "None [-7, 3, 6, 8, 10]\n",
      "[-7, 3, 6]\n",
      "10\n",
      "-7\n"
     ]
    }
   ],
   "source": [
    "L = [8,3,-7,10,6]\n",
    "print(L.sort(),L)\n",
    "print(L[:3])\n",
    "print(max(L))\n",
    "print(min(L))"
   ]
  },
  {
   "cell_type": "code",
   "execution_count": 0,
   "metadata": {
    "colab": {},
    "colab_type": "code",
    "id": "AjLmmECB4ccv"
   },
   "outputs": [],
   "source": [
    "L = ['a','A','b','B','x','X']\n",
    "print(L.sort(),L)\n",
    "print(max(L))\n",
    "print(min(L))"
   ]
  },
  {
   "cell_type": "code",
   "execution_count": 0,
   "metadata": {
    "colab": {
     "base_uri": "https://localhost:8080/",
     "height": 34
    },
    "colab_type": "code",
    "executionInfo": {
     "elapsed": 1100,
     "status": "ok",
     "timestamp": 1556975907710,
     "user": {
      "displayName": "Somnuk Phon-Amnuaisuk",
      "photoUrl": "",
      "userId": "02367141521173446408"
     },
     "user_tz": -480
    },
    "id": "ZEznXSkQYl0k",
    "outputId": "bc99f5d1-075e-4ff2-affb-4094723e05e3"
   },
   "outputs": [
    {
     "name": "stdout",
     "output_type": "stream",
     "text": [
      "1 6\n"
     ]
    }
   ],
   "source": [
    "p1 = (1,2,3)\n",
    "p2 = (4,5,6)\n",
    "print(p1[0],p2[2])"
   ]
  },
  {
   "cell_type": "code",
   "execution_count": 0,
   "metadata": {
    "colab": {},
    "colab_type": "code",
    "id": "LeAyecZrlhNg"
   },
   "outputs": [],
   "source": [
    "# tuple and list\n",
    "p = (1,2,3,4,5)\n",
    "q = (4,5,6,7,8)\n",
    "print(p+q)\n",
    "print( p[0], p[0:2], p[0:5:2])\n",
    "p = [1,2,3,4,5]\n",
    "q = [4,5,6,7,8]\n",
    "print(p+q)\n",
    "print( p[0], p[0:2], p[0:5:2])"
   ]
  },
  {
   "cell_type": "code",
   "execution_count": 0,
   "metadata": {
    "colab": {},
    "colab_type": "code",
    "id": "iAy2bD5nloag"
   },
   "outputs": [],
   "source": [
    "fruits = ['orange', 'apple', 'pear', 'banana', 'kiwi', 'apple', 'banana']\n",
    "print(len(fruits))\n",
    "fruits.append('garlic')\n",
    "print(fruits)\n",
    "fruits.count('banana')\n",
    "fruits.reverse()\n",
    "print(fruits)\n",
    "print(fruits.pop())\n",
    "print(fruits)"
   ]
  },
  {
   "cell_type": "code",
   "execution_count": 0,
   "metadata": {
    "colab": {},
    "colab_type": "code",
    "id": "Vgst4-Cfltme"
   },
   "outputs": [],
   "source": [
    "A = [1,2,3]\n",
    "B = [4,5,6]\n",
    "print(A+B)\n",
    "A = [[1,2,3],[4,5,6]]\n",
    "B = [[6,5,4],[3,2,1]]\n",
    "print(A+B)\n",
    "print( A[0], A[0:2], A[0][0], A[0][0:2], A[0:2][0] )"
   ]
  },
  {
   "cell_type": "code",
   "execution_count": 0,
   "metadata": {
    "colab": {
     "base_uri": "https://localhost:8080/",
     "height": 85
    },
    "colab_type": "code",
    "executionInfo": {
     "elapsed": 1830,
     "status": "ok",
     "timestamp": 1556975944758,
     "user": {
      "displayName": "Somnuk Phon-Amnuaisuk",
      "photoUrl": "",
      "userId": "02367141521173446408"
     },
     "user_tz": -480
    },
    "id": "7QL6R7zKZSF_",
    "outputId": "c4618526-fddc-4b97-886d-195a078f6cb8"
   },
   "outputs": [
    {
     "name": "stdout",
     "output_type": "stream",
     "text": [
      "<class 'list'> [1, 2, 3, 4]\n",
      "<class 'list'> [[1], [2], [3], [4]]\n",
      "<class 'list'> [[1, 2, 3], [4, 5, 6]]\n",
      "<class 'list'> [[[1, 2, 3], [4, 5, 6]], [[1, 2, 3], [4, 5, 6]], [[1, 2, 3], [4, 5, 6]]]\n"
     ]
    }
   ],
   "source": [
    "a = [1,2,3,4]\n",
    "print(type(a),a)\n",
    "b = [ [1],[2],[3],[4]]\n",
    "print(type(b),b)\n",
    "c = [ [1,2,3], [4,5,6]]\n",
    "print(type(c),c)\n",
    "d = [ [ [1,2,3], [4,5,6] ], [ [1,2,3], [4,5,6] ], [ [1,2,3], [4,5,6] ] ]\n",
    "print(type(d),d)\n"
   ]
  },
  {
   "cell_type": "code",
   "execution_count": 0,
   "metadata": {
    "colab": {},
    "colab_type": "code",
    "id": "_wTAxmgDG9Fc"
   },
   "outputs": [],
   "source": [
    "# dictionary\n",
    "D = {}\n",
    "D['a'] = 1\n",
    "D['b'] = [1,2,3]\n",
    "D['c'] = {6,5}\n",
    "D['e'] = \"Hello\"\n",
    "D"
   ]
  },
  {
   "cell_type": "code",
   "execution_count": 0,
   "metadata": {
    "colab": {},
    "colab_type": "code",
    "id": "J-VbHy7lYvFq"
   },
   "outputs": [],
   "source": [
    "D = {'a':'Apple', 'b':'Bat', 'c':3, 4:'April'}\n",
    "print(D.keys())\n",
    "print(D.values())\n",
    "print(D['a'])\n",
    "print(D.get('a'))\n",
    "print(type(D))"
   ]
  },
  {
   "cell_type": "code",
   "execution_count": 0,
   "metadata": {
    "colab": {
     "base_uri": "https://localhost:8080/",
     "height": 185
    },
    "colab_type": "code",
    "executionInfo": {
     "elapsed": 869,
     "status": "ok",
     "timestamp": 1569118056482,
     "user": {
      "displayName": "span amnuaisuk",
      "photoUrl": "",
      "userId": "17774227008582465577"
     },
     "user_tz": -480
    },
    "id": "ZUe7G7immr_2",
    "outputId": "aabc7ff8-6f2a-4eaf-ab48-3d325605c4cc"
   },
   "outputs": [
    {
     "name": "stdout",
     "output_type": "stream",
     "text": [
      "BKK\n",
      "True\n",
      "False\n",
      "Thailand Malaysia Brunei\n",
      "BKK\n",
      "KL\n",
      "BWN\n",
      "BKK\n",
      "KL\n",
      "BWN\n"
     ]
    }
   ],
   "source": [
    "# dictionary\n",
    "capital = {'Thailand': 'BKK', 'Malaysia':'KL', 'Brunei':'BWN'}\n",
    "print(capital['Thailand'])\n",
    "print('Thailand' in capital)\n",
    "print('BKK' in capital)\n",
    "print(*capital)\n",
    "for c in capital.keys():\n",
    "  print(capital[c])\n",
    "for v in capital.values():\n",
    "  print(v)"
   ]
  },
  {
   "cell_type": "markdown",
   "metadata": {
    "colab_type": "text",
    "id": "5ZPepV6T4rCx"
   },
   "source": [
    "### A note on list, array and matrix\n",
    "\n",
    "Python does not have a specific data structure for matrix and array, but a python list may be employed as stack, quque, matrix and array"
   ]
  },
  {
   "cell_type": "markdown",
   "metadata": {
    "colab_type": "text",
    "id": "rcrS2ryI40He"
   },
   "source": [
    "### Exercises"
   ]
  },
  {
   "cell_type": "code",
   "execution_count": 0,
   "metadata": {
    "colab": {
     "base_uri": "https://localhost:8080/",
     "height": 34
    },
    "colab_type": "code",
    "executionInfo": {
     "elapsed": 875,
     "status": "ok",
     "timestamp": 1569123339801,
     "user": {
      "displayName": "span amnuaisuk",
      "photoUrl": "",
      "userId": "17774227008582465577"
     },
     "user_tz": -480
    },
    "id": "PU6JkCJrzT7V",
    "outputId": "21c251c0-3d01-4447-c28c-cbf38d748f21"
   },
   "outputs": [
    {
     "name": "stdout",
     "output_type": "stream",
     "text": [
      "0 1 1 2 3 5 8 13 21 34 55 89 \n"
     ]
    }
   ],
   "source": [
    "# write Fibonacci series up to n\n",
    "def fib(n):    \n",
    "  \"\"\"Print a Fibonacci series up to n.\"\"\"\n",
    "  a, b = 0, 1\n",
    "  while a < n:\n",
    "    print(a, end=' ')\n",
    "    a, b = b, a+b\n",
    "  print()\n",
    "  \n",
    "fib(100)"
   ]
  },
  {
   "cell_type": "code",
   "execution_count": 0,
   "metadata": {
    "colab": {},
    "colab_type": "code",
    "id": "7XoFZlz94zLQ"
   },
   "outputs": [],
   "source": [
    "words = ['cat', 'window', 'defenestrate']\n",
    "for w in words:\n",
    "  print(w, len(w))"
   ]
  },
  {
   "cell_type": "code",
   "execution_count": 0,
   "metadata": {
    "colab": {},
    "colab_type": "code",
    "id": "JG7q84beRazP"
   },
   "outputs": [],
   "source": [
    "def countWordLength():\n",
    "  words = input('Type a sentence : ')\n",
    "  print(words)\n",
    "  for w in words.split():\n",
    "    print(w, len(w))\n",
    "    \n",
    "countWords()"
   ]
  },
  {
   "cell_type": "code",
   "execution_count": 0,
   "metadata": {
    "colab": {
     "base_uri": "https://localhost:8080/",
     "height": 67
    },
    "colab_type": "code",
    "executionInfo": {
     "elapsed": 10803,
     "status": "ok",
     "timestamp": 1569117301186,
     "user": {
      "displayName": "span amnuaisuk",
      "photoUrl": "",
      "userId": "17774227008582465577"
     },
     "user_tz": -480
    },
    "id": "giQQJd1lqCG1",
    "outputId": "2aa53765-4ec6-42ad-a6c3-b530caf21019"
   },
   "outputs": [
    {
     "name": "stdout",
     "output_type": "stream",
     "text": [
      "Type a sentence : this is this is a test\n",
      "this is this is a test\n",
      "{'this': 2, 'is': 2, 'a': 1, 'test': 1}\n"
     ]
    }
   ],
   "source": [
    "def countWordFreq():\n",
    "  words = input('Type a sentence : ')\n",
    "  print(words)\n",
    "  D = {}\n",
    "  for w in words.split():\n",
    "    if w in D:\n",
    "      D[w]+= 1\n",
    "    else:\n",
    "      D[w] = 1\n",
    "  print(D)\n",
    "    \n",
    "countWordFreq()"
   ]
  },
  {
   "cell_type": "code",
   "execution_count": 0,
   "metadata": {
    "colab": {},
    "colab_type": "code",
    "id": "uBEwLkEM0HvW"
   },
   "outputs": [],
   "source": []
  },
  {
   "cell_type": "markdown",
   "metadata": {
    "colab_type": "text",
    "id": "SeogqY0Kpwzq"
   },
   "source": [
    "## Numpy\n",
    "\n",
    "Numpy is a library for the Python programming language. Numpy adds support for large, multi-dimensional arrays and matrices, along with a large collection of high-level mathematical functions to operate on these arrays. "
   ]
  },
  {
   "cell_type": "code",
   "execution_count": 0,
   "metadata": {
    "colab": {},
    "colab_type": "code",
    "id": "VhTX159sXAh5"
   },
   "outputs": [],
   "source": [
    "import numpy as np\n",
    "a = np.ones(10)\n",
    "b = np.zeros(10)\n",
    "print(a,b)\n",
    "c = np.zeros([2,3])\n",
    "print(c)\n",
    "a = np.zeros([2,3])\n",
    "b = np.ones( [3,2] )\n",
    "print(a,b)\n",
    "c = np.ones([10,10],dtype=np.uint8)\n",
    "print(c)"
   ]
  },
  {
   "cell_type": "code",
   "execution_count": 0,
   "metadata": {
    "colab": {
     "base_uri": "https://localhost:8080/",
     "height": 323
    },
    "colab_type": "code",
    "executionInfo": {
     "elapsed": 1076,
     "status": "ok",
     "timestamp": 1556975971773,
     "user": {
      "displayName": "Somnuk Phon-Amnuaisuk",
      "photoUrl": "",
      "userId": "02367141521173446408"
     },
     "user_tz": -480
    },
    "id": "yppFsj7xaN80",
    "outputId": "b4ea7729-48ad-4a7e-b1a7-77dc1e9456b3"
   },
   "outputs": [
    {
     "name": "stdout",
     "output_type": "stream",
     "text": [
      "<class 'numpy.ndarray'> (4,) [1 2 3 4] 2\n",
      "<class 'numpy.ndarray'> (4,) [1 2 3 4] 2\n",
      "<class 'numpy.ndarray'> (1, 4) [[1 2 3 4]] [1 2 3 4]\n",
      "<class 'numpy.ndarray'> (4, 1) [[1]\n",
      " [2]\n",
      " [3]\n",
      " [4]] [2]\n",
      "<class 'numpy.ndarray'> (2, 3) [[1 2 3]\n",
      " [4 5 6]] [4 5 6]\n",
      "<class 'numpy.ndarray'> (3, 2, 3) [[[1 2 3]\n",
      "  [4 5 6]]\n",
      "\n",
      " [[1 2 3]\n",
      "  [4 5 6]]\n",
      "\n",
      " [[1 2 3]\n",
      "  [4 5 6]]] [[1 2 3]\n",
      " [4 5 6]]\n"
     ]
    }
   ],
   "source": [
    "\n",
    "a = np.array([1,2,3,4])\n",
    "print(type(a), np.shape(a), a, a[1])\n",
    "\n",
    "a = np.transpose(np.array([1,2,3,4]))\n",
    "print(type(a), np.shape(a), a, a[1])\n",
    "\n",
    "a = np.array([[1,2,3,4]])\n",
    "print(type(a), np.shape(a), a, a[0])\n",
    "\n",
    "b = np.array([ [1],[2],[3],[4]])\n",
    "print(type(b), np.shape(b), b, b[1])\n",
    "\n",
    "c = np.array([ [1,2,3], [4,5,6]])\n",
    "print(type(c), np.shape(c), c, c[1])\n",
    "\n",
    "d = np.array([ [ [1,2,3], [4,5,6] ], [ [1,2,3], [4,5,6] ], [ [1,2,3], [4,5,6] ] ])\n",
    "print(type(d), np.shape(d), d, d[1])\n"
   ]
  },
  {
   "cell_type": "code",
   "execution_count": 0,
   "metadata": {
    "colab": {
     "base_uri": "https://localhost:8080/",
     "height": 119
    },
    "colab_type": "code",
    "executionInfo": {
     "elapsed": 1244,
     "status": "ok",
     "timestamp": 1556976001464,
     "user": {
      "displayName": "Somnuk Phon-Amnuaisuk",
      "photoUrl": "",
      "userId": "02367141521173446408"
     },
     "user_tz": -480
    },
    "id": "EP1uzjnMwV0v",
    "outputId": "bdd42a5c-c972-48e9-fdae-b2274951f619"
   },
   "outputs": [
    {
     "name": "stdout",
     "output_type": "stream",
     "text": [
      "[1 2 3]\n",
      "[1, 2, 3]\n",
      "[[1, 2, 3]]\n",
      "[[1], [2], [3]]\n",
      "[[[1], [2], [3]]]\n",
      "[[[[1]], [[2]], [[3]]]]\n"
     ]
    }
   ],
   "source": [
    "print(np.array([1,2,3]))\n",
    "print(np.array([1,2,3]).tolist())\n",
    "print(np.array([1,2,3]).reshape(1,3).tolist())\n",
    "print(np.array([1,2,3]).reshape(3,1).tolist())\n",
    "print(np.array([1,2,3]).reshape(1,3,1).tolist())\n",
    "print(np.array([1,2,3]).reshape(1,3,1,1).tolist())"
   ]
  },
  {
   "cell_type": "code",
   "execution_count": 0,
   "metadata": {
    "colab": {},
    "colab_type": "code",
    "id": "snhP0Z0kp3dQ"
   },
   "outputs": [],
   "source": [
    "p = np.array((1,2,3))\n",
    "q = np.array((4,5,6))\n",
    "print(p+q)\n",
    "print(p*q)\n",
    "print(p/q)\n",
    "print(p//q)\n",
    "print(p%q)\n",
    "p = np.array([1,2,3])\n",
    "q = np.array([4,5,6])\n",
    "print(p+q)\n",
    "print(p*q)\n",
    "print(p/q)\n",
    "print(p//q)\n",
    "print(p%q)\n",
    "p = np.array([[1,2,3],[4,5,6]])\n",
    "q = np.array([[6,5,4],[3,2,1]])\n",
    "print(p+q)\n",
    "print(p*q)\n",
    "print(p/q)\n",
    "print(p//q)\n",
    "print(p%q)"
   ]
  },
  {
   "cell_type": "code",
   "execution_count": 0,
   "metadata": {
    "colab": {
     "base_uri": "https://localhost:8080/",
     "height": 68
    },
    "colab_type": "code",
    "executionInfo": {
     "elapsed": 1166,
     "status": "ok",
     "timestamp": 1556976010555,
     "user": {
      "displayName": "Somnuk Phon-Amnuaisuk",
      "photoUrl": "",
      "userId": "02367141521173446408"
     },
     "user_tz": -480
    },
    "id": "BZLhrtVghDY1",
    "outputId": "0d61f8ca-16c9-4a25-a21e-47a455b57eb8"
   },
   "outputs": [
    {
     "name": "stdout",
     "output_type": "stream",
     "text": [
      "(4,) (4,) [-2 18  4  6] [-2 18  4  6]\n",
      "(4,) (4,)\n",
      "[-2 18  4  6] [-2 18  4  6]\n"
     ]
    }
   ],
   "source": [
    "A = np.array( [2,3,4,2] )\n",
    "B = np.array([-1,6,1,3] )\n",
    "print(np.shape(A),np.shape(B),A*B, B*A)\n",
    "print(np.shape(np.transpose(A)*B),np.shape(A*np.transpose(B)))\n",
    "print(np.transpose(A)*B, A*np.transpose(B))"
   ]
  },
  {
   "cell_type": "code",
   "execution_count": 0,
   "metadata": {
    "colab": {
     "base_uri": "https://localhost:8080/",
     "height": 272
    },
    "colab_type": "code",
    "executionInfo": {
     "elapsed": 1351,
     "status": "ok",
     "timestamp": 1556976016196,
     "user": {
      "displayName": "Somnuk Phon-Amnuaisuk",
      "photoUrl": "",
      "userId": "02367141521173446408"
     },
     "user_tz": -480
    },
    "id": "iMaKW5d5h6dN",
    "outputId": "244c254c-52cb-4264-f7d9-c549fad27e9b"
   },
   "outputs": [
    {
     "name": "stdout",
     "output_type": "stream",
     "text": [
      "(1, 4) (4, 1)\n",
      "[[-2 -3 -4 -2]\n",
      " [12 18 24 12]\n",
      " [ 2  3  4  2]\n",
      " [ 6  9 12  6]]\n",
      "[[-2 -3 -4 -2]\n",
      " [12 18 24 12]\n",
      " [ 2  3  4  2]\n",
      " [ 6  9 12  6]]\n",
      "(4, 1)\n",
      "[[-2]\n",
      " [18]\n",
      " [ 4]\n",
      " [ 6]]\n",
      "[[-2 18  4  6]]\n"
     ]
    }
   ],
   "source": [
    "# note that this is not matrix multiplication\n",
    "A = np.array( [[2,3,4,2]] )\n",
    "B = np.array([[-1],[6],[1],[3]] )\n",
    "print(np.shape(A),np.shape(B))\n",
    "print(A*B)\n",
    "print(B*A)\n",
    "print(np.shape(np.transpose(A)*B))\n",
    "print(np.transpose(A)*B)\n",
    "print(A*np.transpose(B))"
   ]
  },
  {
   "cell_type": "code",
   "execution_count": 0,
   "metadata": {
    "colab": {
     "base_uri": "https://localhost:8080/",
     "height": 85
    },
    "colab_type": "code",
    "executionInfo": {
     "elapsed": 1070,
     "status": "ok",
     "timestamp": 1556976057506,
     "user": {
      "displayName": "Somnuk Phon-Amnuaisuk",
      "photoUrl": "",
      "userId": "02367141521173446408"
     },
     "user_tz": -480
    },
    "id": "6N_QwB8xk8De",
    "outputId": "21ac293a-8849-47d6-8ea4-a919a3ed9e31"
   },
   "outputs": [
    {
     "name": "stdout",
     "output_type": "stream",
     "text": [
      "(3, 2, 2)\n",
      "(2, 2, 3)\n",
      "(3, 2, 2)\n",
      "(2, 2, 3)\n"
     ]
    }
   ],
   "source": [
    "A = np.array( [ [ [2,3],[4,2] ], [ [-1,6],[1,3] ], [ [0,-3],[2,4] ] ] )\n",
    "B = np.array( [ [ [2,3],[4,2] ], [ [-1,6],[1,3] ], [ [0,-3],[2,4] ] ] )\n",
    "print(np.shape(A))\n",
    "print(np.shape(np.transpose(A)))\n",
    "print(np.shape(B))\n",
    "print(np.shape(np.transpose(B)))"
   ]
  },
  {
   "cell_type": "code",
   "execution_count": 0,
   "metadata": {
    "colab": {
     "base_uri": "https://localhost:8080/",
     "height": 85
    },
    "colab_type": "code",
    "executionInfo": {
     "elapsed": 1146,
     "status": "ok",
     "timestamp": 1556976309601,
     "user": {
      "displayName": "Somnuk Phon-Amnuaisuk",
      "photoUrl": "",
      "userId": "02367141521173446408"
     },
     "user_tz": -480
    },
    "id": "utMomd1Ivo_a",
    "outputId": "4a536c8f-cfc5-41bd-f3e4-bee1bf903f5c"
   },
   "outputs": [
    {
     "name": "stdout",
     "output_type": "stream",
     "text": [
      "(3, 2)\n",
      "(2, 3)\n",
      "(3, 2)\n",
      "(2, 3)\n"
     ]
    }
   ],
   "source": [
    "A = np.matrix( [ [1,3],[0,-3],[2,4] ]  )\n",
    "B = np.matrix( [ [2,3],[4,2],[-1,6] ]  )\n",
    "print(np.shape(A))\n",
    "print(np.shape(np.transpose(A)))\n",
    "print(np.shape(B))\n",
    "print(np.shape(np.transpose(B)))"
   ]
  },
  {
   "cell_type": "code",
   "execution_count": 0,
   "metadata": {
    "colab": {
     "base_uri": "https://localhost:8080/",
     "height": 68
    },
    "colab_type": "code",
    "executionInfo": {
     "elapsed": 1296,
     "status": "ok",
     "timestamp": 1556976351794,
     "user": {
      "displayName": "Somnuk Phon-Amnuaisuk",
      "photoUrl": "",
      "userId": "02367141521173446408"
     },
     "user_tz": -480
    },
    "id": "c9CAqc-l9k5b",
    "outputId": "173364aa-88ec-4234-a614-8ee57632d025"
   },
   "outputs": [
    {
     "name": "stdout",
     "output_type": "stream",
     "text": [
      "[[ 2  9]\n",
      " [ 0 -6]\n",
      " [-2 24]]\n"
     ]
    }
   ],
   "source": [
    "A = np.array( [ [2,3],[4,2],[-1,6] ] )\n",
    "B = np.array( [ [1,3],[0,-3],[2,4] ] )\n",
    "print(np.multiply(A,B))"
   ]
  },
  {
   "cell_type": "code",
   "execution_count": 0,
   "metadata": {
    "colab": {
     "base_uri": "https://localhost:8080/",
     "height": 153
    },
    "colab_type": "code",
    "executionInfo": {
     "elapsed": 1084,
     "status": "ok",
     "timestamp": 1556976543407,
     "user": {
      "displayName": "Somnuk Phon-Amnuaisuk",
      "photoUrl": "",
      "userId": "02367141521173446408"
     },
     "user_tz": -480
    },
    "id": "NN6MSb5TdZOq",
    "outputId": "c7d1f7f8-619b-4b12-9e5c-6059353955cb"
   },
   "outputs": [
    {
     "name": "stdout",
     "output_type": "stream",
     "text": [
      "[[[ 4  9]\n",
      "  [16  4]]\n",
      "\n",
      " [[ 1 36]\n",
      "  [ 1  9]]\n",
      "\n",
      " [[ 0  9]\n",
      "  [ 4 16]]]\n"
     ]
    }
   ],
   "source": [
    "A = np.array( [ [ [2,3],[4,2] ], [ [-1,6],[1,3] ], [ [0,-3],[2,4] ] ] )\n",
    "B = np.array( [ [ [2,3],[4,2] ], [ [-1,6],[1,3] ], [ [0,-3],[2,4] ] ] )\n",
    "print(np.multiply(A,B))"
   ]
  },
  {
   "cell_type": "code",
   "execution_count": 0,
   "metadata": {
    "colab": {
     "base_uri": "https://localhost:8080/",
     "height": 102
    },
    "colab_type": "code",
    "executionInfo": {
     "elapsed": 1051,
     "status": "ok",
     "timestamp": 1556951861286,
     "user": {
      "displayName": "Somnuk Phon-Amnuaisuk",
      "photoUrl": "",
      "userId": "02367141521173446408"
     },
     "user_tz": -480
    },
    "id": "JtnQT5SmjGwT",
    "outputId": "88188b48-876e-479d-96ff-93fd66df8291"
   },
   "outputs": [
    {
     "name": "stdout",
     "output_type": "stream",
     "text": [
      "[[-2 12  2  6]\n",
      " [-3 18  3  9]\n",
      " [-4 24  4 12]\n",
      " [-2 12  2  6]]\n",
      "[[26]]\n"
     ]
    }
   ],
   "source": [
    "A = np.matrix( [[2,3,4,2]] )\n",
    "B = np.matrix( [[-1,6,1,3]] )\n",
    "print(np.transpose(A)*B)\n",
    "print(A*np.transpose(B))"
   ]
  },
  {
   "cell_type": "code",
   "execution_count": 0,
   "metadata": {
    "colab": {
     "base_uri": "https://localhost:8080/",
     "height": 136
    },
    "colab_type": "code",
    "executionInfo": {
     "elapsed": 1430,
     "status": "ok",
     "timestamp": 1556951993278,
     "user": {
      "displayName": "Somnuk Phon-Amnuaisuk",
      "photoUrl": "",
      "userId": "02367141521173446408"
     },
     "user_tz": -480
    },
    "id": "h-iosFo7eEJ7",
    "outputId": "ecbffc88-2920-4c1e-aa44-0e596600e2f7"
   },
   "outputs": [
    {
     "name": "stdout",
     "output_type": "stream",
     "text": [
      "(2, 4) (4, 2)\n",
      "[[14 42]\n",
      " [24 24]]\n",
      "[[ 1 24 11 13]\n",
      " [ 6 24 18 14]\n",
      " [-8 33  2 16]\n",
      " [-1 21  7 11]]\n"
     ]
    }
   ],
   "source": [
    "A = np.matrix( [ [2,3,4,2], [-1,6,1,3] ])\n",
    "B = np.matrix( [ [2,3],[4,2],[-1,6],[1,3] ])\n",
    "print(np.shape(A),np.shape(B))\n",
    "print(A*B)\n",
    "print(B*A)"
   ]
  },
  {
   "cell_type": "code",
   "execution_count": 0,
   "metadata": {
    "colab": {},
    "colab_type": "code",
    "id": "toIWX7eqqMq7"
   },
   "outputs": [],
   "source": [
    "p = np.array([[1,2,3],[4,5,6]])\n",
    "q = np.array([[6,5,4],[3,2,1]])\n",
    "print(np.dot(p,np.transpose(q)))\n",
    "print(np.dot(np.transpose(p),q))"
   ]
  },
  {
   "cell_type": "markdown",
   "metadata": {
    "colab_type": "text",
    "id": "5mjj6FyoVUgy"
   },
   "source": [
    "## Flow Chart, Control Flow and Control Structure\n",
    "\n",
    "- See https://en.wikipedia.org/wiki/Flowchart\n",
    "- See https://docs.python.org/3/tutorial/controlflow.html\n",
    "- Discuss the nature of control ones would expect from writing a computer program"
   ]
  },
  {
   "cell_type": "code",
   "execution_count": 0,
   "metadata": {
    "colab": {
     "base_uri": "https://localhost:8080/",
     "height": 51
    },
    "colab_type": "code",
    "executionInfo": {
     "elapsed": 11498,
     "status": "ok",
     "timestamp": 1557023953341,
     "user": {
      "displayName": "Somnuk Phon-Amnuaisuk",
      "photoUrl": "",
      "userId": "02367141521173446408"
     },
     "user_tz": -480
    },
    "id": "GW89n1HUJKcz",
    "outputId": "e53cea0a-e905-420d-ef8d-899aee7cb3e1"
   },
   "outputs": [
    {
     "name": "stdout",
     "output_type": "stream",
     "text": [
      "Please enter an integer: 56\n",
      "More\n"
     ]
    }
   ],
   "source": [
    "def f1():\n",
    "  \"\"\"\n",
    "  add a lot of comment here\n",
    "  \"\"\"\n",
    "  # add one line coomment here\n",
    "  x = int(input(\"Please enter an integer: \"))\n",
    "  if x < 0:\n",
    "    x = 0\n",
    "    print('Negative changed to zero')\n",
    "  elif x == 0:\n",
    "    print('Zero')\n",
    "  elif x == 1:\n",
    "    print('Single')\n",
    "  else:\n",
    "    print('Higher than 1')\n",
    "    \n",
    "f1()    "
   ]
  },
  {
   "cell_type": "code",
   "execution_count": 0,
   "metadata": {
    "colab": {
     "base_uri": "https://localhost:8080/",
     "height": 68
    },
    "colab_type": "code",
    "executionInfo": {
     "elapsed": 909,
     "status": "ok",
     "timestamp": 1557012175671,
     "user": {
      "displayName": "Somnuk Phon-Amnuaisuk",
      "photoUrl": "",
      "userId": "02367141521173446408"
     },
     "user_tz": -480
    },
    "id": "Zjmamr1BJt9c",
    "outputId": "d963fa16-d025-4cb6-c709-3429829477dd"
   },
   "outputs": [
    {
     "name": "stdout",
     "output_type": "stream",
     "text": [
      "cat 3 <class 'str'>\n",
      "window 6 <class 'str'>\n",
      "defenestrate 12 <class 'str'>\n"
     ]
    }
   ],
   "source": [
    "def f2():\n",
    "  words = ['cat', 'window', 'defenestrate']\n",
    "  for w in words:\n",
    "    print(w, len(w), type(w))\n",
    "    \n",
    "f2()"
   ]
  },
  {
   "cell_type": "code",
   "execution_count": 0,
   "metadata": {
    "colab": {},
    "colab_type": "code",
    "id": "qEXBTRx2MIcQ"
   },
   "outputs": [],
   "source": [
    "def f3():\n",
    "  for num in range(2, 10):\n",
    "    if num % 2 == 0:\n",
    "      print(\"Found an even number\", num)\n",
    "      continue\n",
    "    print(\"Found a number\", num)\n",
    "    \n",
    "f3()"
   ]
  },
  {
   "cell_type": "code",
   "execution_count": 0,
   "metadata": {
    "colab": {},
    "colab_type": "code",
    "id": "hRQzsg77LDA5"
   },
   "outputs": [],
   "source": [
    "def f4(max):\n",
    "  for n in range(2, max):\n",
    "    for x in range(2, n):\n",
    "      if n % x == 0:\n",
    "        print(n, 'equals', x, '*', n//x)\n",
    "        break\n",
    "    else:\n",
    "      # loop fell through without finding a factor\n",
    "      print(n, 'is a prime number')\n",
    "        \n",
    "f4(20)"
   ]
  },
  {
   "cell_type": "code",
   "execution_count": 0,
   "metadata": {
    "colab": {
     "base_uri": "https://localhost:8080/",
     "height": 51
    },
    "colab_type": "code",
    "executionInfo": {
     "elapsed": 884,
     "status": "ok",
     "timestamp": 1570140090032,
     "user": {
      "displayName": "span amnuaisuk",
      "photoUrl": "",
      "userId": "17774227008582465577"
     },
     "user_tz": -480
    },
    "id": "XC3iEZi-uS29",
    "outputId": "a130772a-339f-4fb1-f167-3b6b4ededa24"
   },
   "outputs": [
    {
     "name": "stdout",
     "output_type": "stream",
     "text": [
      "Divide by zero\n"
     ]
    },
    {
     "data": {
      "text/plain": [
       "0.0"
      ]
     },
     "execution_count": 19,
     "metadata": {
      "tags": []
     },
     "output_type": "execute_result"
    }
   ],
   "source": [
    "def f5():\n",
    "  try:\n",
    "    1/0\n",
    "  except:\n",
    "    print( \"Divide by zero\" )\n",
    "  finally:\n",
    "    return 0/1\n",
    "    \n",
    "f5()"
   ]
  },
  {
   "cell_type": "code",
   "execution_count": 0,
   "metadata": {
    "colab": {},
    "colab_type": "code",
    "id": "U9VUXezjrram"
   },
   "outputs": [],
   "source": [
    "def g1(a, L=[]):\n",
    "  L.append(a)\n",
    "  return L"
   ]
  },
  {
   "cell_type": "code",
   "execution_count": 0,
   "metadata": {
    "colab": {},
    "colab_type": "code",
    "id": "jeDKgtsjrusS"
   },
   "outputs": [],
   "source": [
    "def g2(a, L=None):\n",
    "  if L is None:\n",
    "    L = []\n",
    "  L.append(a)\n",
    "  return L"
   ]
  },
  {
   "cell_type": "code",
   "execution_count": 0,
   "metadata": {
    "colab": {
     "base_uri": "https://localhost:8080/",
     "height": 51
    },
    "colab_type": "code",
    "executionInfo": {
     "elapsed": 7068,
     "status": "ok",
     "timestamp": 1570140387481,
     "user": {
      "displayName": "span amnuaisuk",
      "photoUrl": "",
      "userId": "17774227008582465577"
     },
     "user_tz": -480
    },
    "id": "TB0MqRSgNayD",
    "outputId": "ac337419-1986-4230-bbd7-1ae02a98d8e8"
   },
   "outputs": [
    {
     "name": "stdout",
     "output_type": "stream",
     "text": [
      "How is your mum? is she ok?  y\n"
     ]
    },
    {
     "data": {
      "text/plain": [
       "True"
      ]
     },
     "execution_count": 24,
     "metadata": {
      "tags": []
     },
     "output_type": "execute_result"
    }
   ],
   "source": [
    "def ask_ok(prompt, retries=4, reminder='Please try again!'):\n",
    "  while True:\n",
    "    ok = input(prompt)\n",
    "    if ok in ('y', 'ye', 'yes'):\n",
    "      return True\n",
    "    if ok in ('n', 'no', 'nop', 'nope'):\n",
    "      return False\n",
    "    retries = retries - 1\n",
    "    if retries < 0:\n",
    "      raise ValueError('invalid user response')\n",
    "    print(reminder)y\n",
    "    \n",
    "ask_ok(\"How is your mum? is she ok?  \")"
   ]
  },
  {
   "cell_type": "code",
   "execution_count": 0,
   "metadata": {
    "colab": {
     "base_uri": "https://localhost:8080/",
     "height": 51
    },
    "colab_type": "code",
    "executionInfo": {
     "elapsed": 7727,
     "status": "ok",
     "timestamp": 1570140427285,
     "user": {
      "displayName": "span amnuaisuk",
      "photoUrl": "",
      "userId": "17774227008582465577"
     },
     "user_tz": -480
    },
    "id": "WSuglV17G2AS",
    "outputId": "79c7961f-0799-48b8-e66e-15e8b846ba61"
   },
   "outputs": [
    {
     "name": "stdout",
     "output_type": "stream",
     "text": [
      "How is your mum?she is ok\n"
     ]
    },
    {
     "data": {
      "text/plain": [
       "'she is ok'"
      ]
     },
     "execution_count": 25,
     "metadata": {
      "tags": []
     },
     "output_type": "execute_result"
    }
   ],
   "source": [
    "adhocask = lambda s : input(s)\n",
    "adhocask(\"How is your mum?\")"
   ]
  },
  {
   "cell_type": "code",
   "execution_count": 0,
   "metadata": {
    "colab": {
     "base_uri": "https://localhost:8080/",
     "height": 68
    },
    "colab_type": "code",
    "executionInfo": {
     "elapsed": 1041,
     "status": "ok",
     "timestamp": 1570141806446,
     "user": {
      "displayName": "span amnuaisuk",
      "photoUrl": "",
      "userId": "17774227008582465577"
     },
     "user_tz": -480
    },
    "id": "OdqjobYeuswz",
    "outputId": "f92ab1a7-a8af-4a75-fd0c-bb22eb00ce56"
   },
   "outputs": [
    {
     "name": "stdout",
     "output_type": "stream",
     "text": [
      "The item in the list is 1\n",
      "The item in the list is 23\n",
      "The item in the list is 456\n"
     ]
    }
   ],
   "source": [
    "def h1(L):\n",
    "  for i in L:\n",
    "    print(f\"The item in the list is {i}\")\n",
    "    \n",
    "h1([1, 23, 456])"
   ]
  },
  {
   "cell_type": "code",
   "execution_count": 0,
   "metadata": {
    "colab": {
     "base_uri": "https://localhost:8080/",
     "height": 68
    },
    "colab_type": "code",
    "executionInfo": {
     "elapsed": 954,
     "status": "ok",
     "timestamp": 1570141883734,
     "user": {
      "displayName": "span amnuaisuk",
      "photoUrl": "",
      "userId": "17774227008582465577"
     },
     "user_tz": -480
    },
    "id": "qSjLVmK0vtsA",
    "outputId": "50cf3722-5624-41ca-8b36-a3b264ff0618"
   },
   "outputs": [
    {
     "name": "stdout",
     "output_type": "stream",
     "text": [
      "The item 0 in the list is 1\n",
      "The item 1 in the list is 23\n",
      "The item 2 in the list is 456\n"
     ]
    }
   ],
   "source": [
    "def h2(L):\n",
    "  for n,i in enumerate(L):\n",
    "    print(f\"The item {n} in the list is {i}\")\n",
    "    \n",
    "h2([1, 23, 456])"
   ]
  },
  {
   "cell_type": "code",
   "execution_count": 0,
   "metadata": {
    "colab": {
     "base_uri": "https://localhost:8080/",
     "height": 68
    },
    "colab_type": "code",
    "executionInfo": {
     "elapsed": 1028,
     "status": "ok",
     "timestamp": 1570141987274,
     "user": {
      "displayName": "span amnuaisuk",
      "photoUrl": "",
      "userId": "17774227008582465577"
     },
     "user_tz": -480
    },
    "id": "giAJrySiwCso",
    "outputId": "d79683ba-ac39-45e8-a5ff-2fa1e32ad358"
   },
   "outputs": [
    {
     "name": "stdout",
     "output_type": "stream",
     "text": [
      "The item are 1 and 123\n",
      "The item are 23 and 45\n",
      "The item are 456 and 6\n"
     ]
    }
   ],
   "source": [
    "def h3(L1,L2):\n",
    "  for i1,i2 in zip(L1,L2):\n",
    "    print(f\"The item are {i1} and {i2}\")\n",
    "    \n",
    "h3([1, 23, 456], [123,45,6])"
   ]
  },
  {
   "cell_type": "code",
   "execution_count": 0,
   "metadata": {
    "colab": {
     "base_uri": "https://localhost:8080/",
     "height": 34
    },
    "colab_type": "code",
    "executionInfo": {
     "elapsed": 908,
     "status": "ok",
     "timestamp": 1557015552286,
     "user": {
      "displayName": "Somnuk Phon-Amnuaisuk",
      "photoUrl": "",
      "userId": "02367141521173446408"
     },
     "user_tz": -480
    },
    "id": "Kj-s2FPBVFhY",
    "outputId": "a8a51d99-163d-46c5-d9b4-75042f095b1a"
   },
   "outputs": [
    {
     "name": "stdout",
     "output_type": "stream",
     "text": [
      "[1, 1, 2, 3, 6, 8, 10]\n"
     ]
    }
   ],
   "source": [
    "def bubbleSort(arr):\n",
    "  n = len(arr)\n",
    "  for i in range(n):\n",
    "    # Last i elements are already in place\n",
    "    for j in range(0, n-i-1):\n",
    "      if arr[j] > arr[j+1]:\n",
    "        arr[j], arr[j+1] = arr[j+1], arr[j]\n",
    "  return arr\n",
    "\n",
    "print(bubbleSort([3,6,8,10,1,2,1]))"
   ]
  },
  {
   "cell_type": "code",
   "execution_count": 0,
   "metadata": {
    "colab": {
     "base_uri": "https://localhost:8080/",
     "height": 34
    },
    "colab_type": "code",
    "executionInfo": {
     "elapsed": 909,
     "status": "ok",
     "timestamp": 1557015226749,
     "user": {
      "displayName": "Somnuk Phon-Amnuaisuk",
      "photoUrl": "",
      "userId": "02367141521173446408"
     },
     "user_tz": -480
    },
    "id": "oyeBeoCZvmKB",
    "outputId": "d32be056-b236-48f6-9876-ae1aad05393d"
   },
   "outputs": [
    {
     "name": "stdout",
     "output_type": "stream",
     "text": [
      "[1, 1, 2, 3, 6, 8, 10]\n"
     ]
    }
   ],
   "source": [
    "def quickSort(arr):\n",
    "  if len(arr) <= 1:\n",
    "    return arr\n",
    "  pivot = arr[len(arr) // 2]\n",
    "  left = [x for x in arr if x < pivot]\n",
    "  middle = [x for x in arr if x == pivot]\n",
    "  right = [x for x in arr if x > pivot]\n",
    "  return quickSort(left) + middle + quickSort(right)\n",
    "\n",
    "print(quickSort([3,6,8,10,1,2,1]))"
   ]
  },
  {
   "cell_type": "markdown",
   "metadata": {
    "colab_type": "text",
    "id": "f7E_9aRrn2T9"
   },
   "source": [
    "## Object Oriented Programming \n",
    "\n",
    "All classes have a function called __init__(), which is always executed when the class is being initiated.\n",
    "\n",
    "Use the __init__() function to assign values to object properties, or other operations that are necessary to do when the object is being created."
   ]
  },
  {
   "cell_type": "code",
   "execution_count": 0,
   "metadata": {
    "colab": {
     "base_uri": "https://localhost:8080/",
     "height": 85
    },
    "colab_type": "code",
    "executionInfo": {
     "elapsed": 1023,
     "status": "ok",
     "timestamp": 1570138224554,
     "user": {
      "displayName": "span amnuaisuk",
      "photoUrl": "",
      "userId": "17774227008582465577"
     },
     "user_tz": -480
    },
    "id": "CbC7dgxKPUo3",
    "outputId": "65d3f35f-181d-4c92-ec7c-9af35f3d95d0"
   },
   "outputs": [
    {
     "name": "stdout",
     "output_type": "stream",
     "text": [
      "12 bars\n",
      "12 bars\n",
      "foo 12\n",
      "12 bars\n"
     ]
    }
   ],
   "source": [
    "class A:\n",
    "  var1 = 12\n",
    "  var2 = 'bars'\n",
    "  \n",
    "a1 = A()\n",
    "a2 = A()\n",
    "print(a1.var1, a1.var2)\n",
    "print(a2.var1, a2.var2)\n",
    "a1.var1 = 'foo'\n",
    "a1.var2 = 12\n",
    "print(a1.var1, a1.var2)\n",
    "print(a2.var1, a2.var2)"
   ]
  },
  {
   "cell_type": "code",
   "execution_count": 0,
   "metadata": {
    "colab": {
     "base_uri": "https://localhost:8080/",
     "height": 51
    },
    "colab_type": "code",
    "executionInfo": {
     "elapsed": 1034,
     "status": "ok",
     "timestamp": 1570138227184,
     "user": {
      "displayName": "span amnuaisuk",
      "photoUrl": "",
      "userId": "17774227008582465577"
     },
     "user_tz": -480
    },
    "id": "PZbegazo3Ma2",
    "outputId": "d74c1550-ebfc-4761-e24e-8c9840b51415"
   },
   "outputs": [
    {
     "name": "stdout",
     "output_type": "stream",
     "text": [
      "16 bars\n",
      "17 foobars\n"
     ]
    }
   ],
   "source": [
    "class B:\n",
    "  def __init__(self):\n",
    "    self.var1 = 16\n",
    "    self.var2 = 'bars'\n",
    "  \n",
    "  def boo(self):\n",
    "    print(self.var1+1,'foo'+self.var2)\n",
    "  \n",
    "b1 = B()\n",
    "print(b1.var1, b1.var2)\n",
    "b1.boo()"
   ]
  },
  {
   "cell_type": "code",
   "execution_count": 0,
   "metadata": {
    "colab": {
     "base_uri": "https://localhost:8080/",
     "height": 85
    },
    "colab_type": "code",
    "executionInfo": {
     "elapsed": 987,
     "status": "ok",
     "timestamp": 1570137855615,
     "user": {
      "displayName": "span amnuaisuk",
      "photoUrl": "",
      "userId": "17774227008582465577"
     },
     "user_tz": -480
    },
    "id": "ypjU72Y03TW_",
    "outputId": "3c350654-edf4-4a13-da2b-b99ca29bee3f"
   },
   "outputs": [
    {
     "name": "stdout",
     "output_type": "stream",
     "text": [
      "12 bars\n",
      "144 bottles\n",
      "13 foobars\n",
      "144 bottles\n"
     ]
    }
   ],
   "source": [
    "class C(B):\n",
    "  def __init__(self):\n",
    "    super().__init__()\n",
    "    self.var3 = 144\n",
    "    self.var4 = 'bottles'\n",
    "  \n",
    "  def boom(self):\n",
    "    print(self.var3,self.var4)\n",
    "  \n",
    "c1 = C()\n",
    "print(c1.var1, c1.var2)\n",
    "print(c1.var3, c1.var4)\n",
    "c1.boo()\n",
    "c1.boom()"
   ]
  },
  {
   "cell_type": "code",
   "execution_count": 0,
   "metadata": {
    "colab": {
     "base_uri": "https://localhost:8080/",
     "height": 68
    },
    "colab_type": "code",
    "executionInfo": {
     "elapsed": 997,
     "status": "ok",
     "timestamp": 1570138267922,
     "user": {
      "displayName": "span amnuaisuk",
      "photoUrl": "",
      "userId": "17774227008582465577"
     },
     "user_tz": -480
    },
    "id": "HfwhXWJjgg2b",
    "outputId": "41b854b2-c41f-4bad-8984-bfe733712ff2"
   },
   "outputs": [
    {
     "name": "stdout",
     "output_type": "stream",
     "text": [
      "12 bars\n",
      "13 foobars\n",
      "144 bottles\n"
     ]
    }
   ],
   "source": [
    "class D(A,C):\n",
    "  def __init__(self):\n",
    "    super().__init__()\n",
    "    \n",
    "d1 = D()\n",
    "print(d1.var1, d1.var2)\n",
    "d1.boo()\n",
    "d1.boom()"
   ]
  },
  {
   "cell_type": "code",
   "execution_count": 0,
   "metadata": {
    "colab": {
     "base_uri": "https://localhost:8080/",
     "height": 34
    },
    "colab_type": "code",
    "executionInfo": {
     "elapsed": 743,
     "status": "ok",
     "timestamp": 1570138453367,
     "user": {
      "displayName": "span amnuaisuk",
      "photoUrl": "",
      "userId": "17774227008582465577"
     },
     "user_tz": -480
    },
    "id": "4obiusQ53YbM",
    "outputId": "01463168-a46c-4747-8d0e-031d3e1b349e"
   },
   "outputs": [
    {
     "name": "stdout",
     "output_type": "stream",
     "text": [
      "2.8284271247461903 2.828\n"
     ]
    }
   ],
   "source": [
    "import math\n",
    "\n",
    "class Point:\n",
    "  def __init__(self,x,y):\n",
    "    self.x = x\n",
    "    self.y = y\n",
    "  \n",
    "  def dist2(self, p):\n",
    "    return math.sqrt((self.x-p.x)**2 + (self.y-p.y)**2)\n",
    "  \n",
    "\n",
    "p1 = Point(1,2)\n",
    "p2 = Point(3,4)\n",
    "#p1.dist2(p2)\n",
    "print( p1.dist2(p2), round(p1.dist2(p2), 3) )"
   ]
  },
  {
   "cell_type": "markdown",
   "metadata": {
    "colab_type": "text",
    "id": "tF1H9hZNPXmw"
   },
   "source": [
    "## Exercises\n",
    "\n",
    "Try out exercises from  https://www.w3resource.com/python-exercises/\n",
    "\n",
    "\n"
   ]
  },
  {
   "cell_type": "code",
   "execution_count": 0,
   "metadata": {
    "colab": {},
    "colab_type": "code",
    "id": "B3Q2_1H0JOZK"
   },
   "outputs": [],
   "source": [
    "# Write a Python program which adds up columns and rows of given table as shown in the 2D array below\n",
    "import numpy as np\n",
    "M = np.array( [[25,69,51,26], [68,35,29,54], [54,57,45,63], [61,68,47,59]] )\n",
    "\n",
    "def printSumRowsSumCols(M):\n",
    "  pass\n",
    "\n",
    "printSumRowsSumCols(M)"
   ]
  },
  {
   "cell_type": "code",
   "execution_count": 0,
   "metadata": {
    "colab": {
     "base_uri": "https://localhost:8080/",
     "height": 50
    },
    "colab_type": "code",
    "executionInfo": {
     "elapsed": 8016,
     "status": "ok",
     "timestamp": 1569127628721,
     "user": {
      "displayName": "span amnuaisuk",
      "photoUrl": "",
      "userId": "17774227008582465577"
     },
     "user_tz": -480
    },
    "id": "LB_gKWZEPfbt",
    "outputId": "e06fa6c0-a680-4eb1-fcdf-aea0f934b050"
   },
   "outputs": [
    {
     "name": "stdout",
     "output_type": "stream",
     "text": [
      "Enter an integer less than 100,000 : 1000000\n",
      "Your number is more than 100,000, try again...\n"
     ]
    }
   ],
   "source": [
    "# Write a Python program to print the prime number which are less than or equal to a given integer (lower than 100,000).\n",
    "# For example, execute findLEPrime(10) should retuen [2,3,5,7]\n",
    "\n",
    "while True:\n",
    "  try:\n",
    "    n = int(input('Enter an integer less than 100,000 : '))\n",
    "    break\n",
    "  except ValueError:\n",
    "    print(\"Oops!  That was no valid number.  Try again...\")\n",
    "if n > 100000:\n",
    "  print('Your number is more than 100,000, try again...')\n",
    "else:\n",
    "  findLEPrime(n)\n",
    "    \n",
    "def findLEPrime(n):\n",
    "  pass"
   ]
  },
  {
   "cell_type": "code",
   "execution_count": 0,
   "metadata": {
    "colab": {},
    "colab_type": "code",
    "id": "zJg5RvJPMnXf"
   },
   "outputs": [],
   "source": [
    "# Write a Python program to output isolated blobs of binary image below\n",
    "import numpy as np\n",
    "I = np.array([[1,1,0,0,0,0,0,1,1,1],[1,0,0,0,0,0,0,1,1,1],[0,0,0,0,0,0,0,1,1,1],\n",
    "              [0,0,1,0,0,0,0,0,0,0],[0,0,0,0,0,1,1,1,0,0],[0,0,0,0,1,1,1,1,1,0],\n",
    "              [0,0,0,1,1,1,1,1,1,1],[1,0,0,0,1,1,1,1,1,0],[1,1,0,0,0,1,1,1,0,0],\n",
    "              [1,1,1,0,0,0,1,0,0,0]])\n",
    "\n",
    "def countBlobOnes(I):\n",
    "  pass\n",
    "\n",
    "countBlobOnes(I)"
   ]
  }
 ],
 "metadata": {
  "colab": {
   "collapsed_sections": [
    "SeogqY0Kpwzq"
   ],
   "name": "_PythonKickStart2",
   "provenance": []
  },
  "kernelspec": {
   "display_name": "Python 3",
   "language": "python",
   "name": "python3"
  },
  "language_info": {
   "codemirror_mode": {
    "name": "ipython",
    "version": 3
   },
   "file_extension": ".py",
   "mimetype": "text/x-python",
   "name": "python",
   "nbconvert_exporter": "python",
   "pygments_lexer": "ipython3",
   "version": "3.8.5"
  }
 },
 "nbformat": 4,
 "nbformat_minor": 1
}
