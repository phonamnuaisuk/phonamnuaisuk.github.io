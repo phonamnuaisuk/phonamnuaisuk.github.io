{
 "cells": [
  {
   "cell_type": "markdown",
   "metadata": {
    "colab_type": "text",
    "id": "EzJCoAmAeFdU"
   },
   "source": [
    "# Image Processing wth Scikit-Image (Filters and Convolution)\n",
    "\n",
    "scikit-image is a collection of algorithms for image processing. It is available free of charge and free of restriction. We pride ourselves on high-quality, peer-reviewed code, written by an active community of volunteers.\n",
    "\n",
    "Visit\n",
    "- https://scikit-image.org/"
   ]
  },
  {
   "cell_type": "code",
   "execution_count": null,
   "metadata": {
    "colab": {},
    "colab_type": "code",
    "id": "FcCUG_jFYiOf"
   },
   "outputs": [],
   "source": [
    "import numpy as np\n",
    "import matplotlib.pyplot as plt\n",
    "from google.colab import files"
   ]
  },
  {
   "cell_type": "markdown",
   "metadata": {
    "colab_type": "text",
    "id": "wGwEsYYI_1qY"
   },
   "source": [
    "### Filters"
   ]
  },
  {
   "cell_type": "markdown",
   "metadata": {
    "colab_type": "text",
    "id": "FyZIUHD3WVkU"
   },
   "source": []
  },
  {
   "cell_type": "code",
   "execution_count": null,
   "metadata": {
    "colab": {
     "base_uri": "https://localhost:8080/",
     "height": 320
    },
    "colab_type": "code",
    "executionInfo": {
     "elapsed": 2282,
     "status": "ok",
     "timestamp": 1575269372936,
     "user": {
      "displayName": "span amnuaisuk",
      "photoUrl": "",
      "userId": "17774227008582465577"
     },
     "user_tz": -480
    },
    "id": "VA6ms-tpow1v",
    "outputId": "71b2067c-9341-454a-9340-7a2e136b3f23"
   },
   "outputs": [],
   "source": [
    "from skimage import filters\n",
    "from skimage import data\n",
    "from skimage.exposure import rescale_intensity\n",
    "import matplotlib.pyplot as plt\n",
    "\n",
    "\n",
    "image = data.camera()\n",
    "edge_roberts = filters.roberts(image)\n",
    "edge_sobel = filters.sobel(image)\n",
    "edge_prewitt = filters.prewitt(image)\n",
    "\n",
    "fig, ax = plt.subplots(ncols=3, sharex=True, sharey=True,figsize=(12, 6))\n",
    "\n",
    "ax[0].imshow(edge_roberts, cmap=plt.cm.gray)\n",
    "ax[0].set_title('Roberts Edge Detection')\n",
    "\n",
    "ax[1].imshow(edge_sobel, cmap=plt.cm.gray)\n",
    "ax[1].set_title('Sobel Edge Detection')\n",
    "\n",
    "ax[2].imshow(edge_prewitt, cmap=plt.cm.gray)\n",
    "ax[2].set_title('Prewitt Edge Detection')\n",
    "\n",
    "for a in ax:\n",
    "    a.axis('off')\n",
    "\n",
    "plt.tight_layout()\n",
    "plt.show()"
   ]
  },
  {
   "cell_type": "markdown",
   "metadata": {
    "colab_type": "text",
    "id": "QCu25BA1rg74"
   },
   "source": [
    "## Convolution"
   ]
  },
  {
   "cell_type": "code",
   "execution_count": null,
   "metadata": {
    "colab": {
     "base_uri": "https://localhost:8080/",
     "height": 286
    },
    "colab_type": "code",
    "executionInfo": {
     "elapsed": 1060,
     "status": "ok",
     "timestamp": 1575269663724,
     "user": {
      "displayName": "span amnuaisuk",
      "photoUrl": "",
      "userId": "17774227008582465577"
     },
     "user_tz": -480
    },
    "id": "D7aj-Qef360A",
    "outputId": "4ad9d47d-a032-4e52-f2bc-e0225430b97b"
   },
   "outputs": [],
   "source": [
    "from scipy import ndimage\n",
    "#\n",
    "a = np.array([[1, 2, 0, 0],[5, 3, 0, 4],[0, 0, 0, 7],[9, 3, 0, 0]])\n",
    "k = np.array([[0,0,0],[1,1,1],[0,0,0]])\n",
    "#\n",
    "ac = ndimage.convolve(a, k, mode='constant', cval=0.0)\n",
    "#\n",
    "print(a,'\\n', ac)\n",
    "#\n",
    "ac = ndimage.convolve(a, k, mode='constant', cval=1.0)\n",
    "#\n",
    "print(a,'\\n', ac)"
   ]
  },
  {
   "cell_type": "code",
   "execution_count": null,
   "metadata": {
    "colab": {
     "base_uri": "https://localhost:8080/",
     "height": 278
    },
    "colab_type": "code",
    "executionInfo": {
     "elapsed": 2198,
     "status": "ok",
     "timestamp": 1575269714554,
     "user": {
      "displayName": "span amnuaisuk",
      "photoUrl": "",
      "userId": "17774227008582465577"
     },
     "user_tz": -480
    },
    "id": "7wlGXNeyukSn",
    "outputId": "732b617c-8658-4275-d822-60c1faf6a356"
   },
   "outputs": [],
   "source": [
    "from skimage import transform\n",
    "im1 = image.copy()\n",
    "im1 = transform.resize(im1,[200,200])\n",
    "k1 = np.array([[1/9,1/9,1/9],[1/9,1/9,1/9],[1/9,1/9,1/9]])\n",
    "k2 = np.array([[1/25,1/25,1/25,1/25,1/25],[1/25,1/25,1/25,1/25,1/25],[1/25,1/25,1/25,1/25,1/25],[1/25,1/25,1/25,1/25,1/25],[1/25,1/25,1/25,1/25,1/25]])\n",
    "\n",
    "#\n",
    "im2 = ndimage.convolve(im1, k1, mode='constant', cval=1.0)\n",
    "im3 = ndimage.convolve(im1, k2, mode='constant', cval=1.0)\n",
    "#\n",
    "fig, ax = plt.subplots(ncols=3, sharex=True, sharey=True,figsize=(12, 6))\n",
    "\n",
    "ax[0].imshow(im1, cmap=plt.cm.gray)\n",
    "ax[0].set_title('no filter')\n",
    "\n",
    "ax[1].imshow(im2, cmap=plt.cm.gray)\n",
    "ax[1].set_title('blur filter')\n",
    "\n",
    "ax[2].imshow(im3, cmap=plt.cm.gray)\n",
    "ax[2].set_title('blur filter')\n"
   ]
  },
  {
   "cell_type": "code",
   "execution_count": null,
   "metadata": {
    "colab": {
     "base_uri": "https://localhost:8080/",
     "height": 278
    },
    "colab_type": "code",
    "executionInfo": {
     "elapsed": 1776,
     "status": "ok",
     "timestamp": 1570160027719,
     "user": {
      "displayName": "span amnuaisuk",
      "photoUrl": "",
      "userId": "17774227008582465577"
     },
     "user_tz": -480
    },
    "id": "EkAUN7TUy9tf",
    "outputId": "25d5fdf4-e998-4e1e-a533-a5fa20783bad"
   },
   "outputs": [],
   "source": [
    "from skimage import transform\n",
    "im1 = image.copy()\n",
    "im1 = transform.resize(im1,[200,200])\n",
    "k1 = np.array([[-1/5,0,1/5],[-1/5,0,1/5],[-1/5,0,1/5]])\n",
    "k2 = np.array([[-1/25,-1/25,-1/25,1/25,1/25],[-1/25,-1/25,-1/25,1/25,1/25],[-1/25,-1/25,-1/25,1/25,1/25],[-1/25,-1/25,-1/25,1/25,1/25],[-1/25,-1/25,-1/25,1/25,1/25]])\n",
    "\n",
    "#\n",
    "im2 = ndimage.convolve(im1, k1, mode='constant', cval=0.0)\n",
    "im3 = ndimage.convolve(im1, k2, mode='constant', cval=1.0)\n",
    "#\n",
    "fig, ax = plt.subplots(ncols=3, sharex=True, sharey=True,figsize=(12, 6))\n",
    "\n",
    "ax[0].imshow(im1, cmap=plt.cm.gray)\n",
    "ax[0].set_title('no filter')\n",
    "\n",
    "ax[1].imshow(im2, cmap=plt.cm.gray)\n",
    "ax[1].set_title('filter')\n",
    "\n",
    "ax[2].imshow(im3, cmap=plt.cm.gray)\n",
    "ax[2].set_title('filter')\n"
   ]
  },
  {
   "cell_type": "markdown",
   "metadata": {
    "colab_type": "text",
    "id": "huppQQ1VWl7e"
   },
   "source": [
    "## Excercises\n",
    "\n",
    "- Write your own covolutional process from scratch"
   ]
  },
  {
   "cell_type": "code",
   "execution_count": null,
   "metadata": {
    "colab": {},
    "colab_type": "code",
    "id": "k5JJ8rZRWpWB"
   },
   "outputs": [],
   "source": []
  }
 ],
 "metadata": {
  "colab": {
   "collapsed_sections": [],
   "name": "_ImageProcessingSK2",
   "provenance": [
    {
     "file_id": "14KsIJ6C6lEYKQq0CXC2OcAbTUq5QHx-c",
     "timestamp": 1557034098720
    }
   ]
  },
  "kernelspec": {
   "display_name": "Python 3",
   "language": "python",
   "name": "python3"
  },
  "language_info": {
   "codemirror_mode": {
    "name": "ipython",
    "version": 3
   },
   "file_extension": ".py",
   "mimetype": "text/x-python",
   "name": "python",
   "nbconvert_exporter": "python",
   "pygments_lexer": "ipython3",
   "version": "3.8.5"
  }
 },
 "nbformat": 4,
 "nbformat_minor": 1
}
