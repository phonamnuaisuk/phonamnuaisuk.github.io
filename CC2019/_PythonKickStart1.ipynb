{
 "cells": [
  {
   "cell_type": "markdown",
   "metadata": {
    "colab_type": "text",
    "id": "XjnM89qqCxbH"
   },
   "source": [
    "<h1>Using Python as a Programmable Calculator</h1>\n",
    "https://en.wikipedia.org/wiki/Python_(programming_language)\n",
    "\n",
    "Python is an interpreted, high-level, general-purpose programming language. Created by Guido van Rossum and first released in 1991, Python has a design philosophy that emphasizes code readability, notably using significant whitespace. It provides constructs that enable clear programming on both small and large scales. Van Rossum led the language community until July 2018.\n",
    "\n",
    "Python is dynamically typed and garbage-collected. It supports multiple programming paradigms, including procedural, object-oriented, and functional programming. Python has an expansive standard library.\n",
    "\n",
    "Python interpreters are available for many operating systems. CPython, the reference implementation of Python, is open-source software and has a community-based development model. Python and CPython are managed by the non-profit Python Software Foundation.\n",
    "\n",
    "Visit: \n",
    "- https://www.python.org/\n",
    "- https://www.w3schools.com/python/default.asp\n",
    "- https://www.tutorialspoint.com/python3/python_numbers.htm\n"
   ]
  },
  {
   "cell_type": "markdown",
   "metadata": {
    "colab_type": "text",
    "id": "mSahckyx9JF4"
   },
   "source": [
    "## Basic concepts\n",
    "\n",
    "- Discuss computing and the concept of computabilty in a layman term\n",
    "- Discuss how computer compute\n",
    "  - ALU (Arithmetic Logic Unit)\n",
    "  - ALU is the building blocks of Floating-Point Unit (FPU), Central Processing Unit (CPU), Graphics Processing Unit (GPU)\n",
    "  - Memories (ROM, RAM)\n",
    "  - Constant and Variables\n",
    "  - Place holder of different data types\n",
    "  - Programs\n",
    "- Programming Language (see https://en.wikipedia.org/wiki/List_of_programming_languages_by_type#Fourth-generation_languages)\n",
    "  - 1st Gen e.g., machine level\n",
    "  - 2nd Gen e.g., assembly language\n",
    "  - 3nd Gen e.g.,  C, C++, C#, Java, and JavaScript \n",
    "  - 4th Gen is originally referred to as 'non-procedural, high-level formal language'. It is now referred to as 'a low code development platform' (LCDP).\n",
    "  \n",
    "### Python programming references:  \n",
    "- https://docs.python.org/3/tutorial/index.html\n",
    "- https://www.w3schools.com/python/default.asp\n",
    "\n",
    "This overview is based on the above references"
   ]
  },
  {
   "cell_type": "markdown",
   "metadata": {
    "colab_type": "text",
    "id": "HehErSxP_q8X"
   },
   "source": [
    "## Numbers and Strings"
   ]
  },
  {
   "cell_type": "code",
   "execution_count": 0,
   "metadata": {
    "colab": {
     "base_uri": "https://localhost:8080/",
     "height": 106
    },
    "colab_type": "code",
    "executionInfo": {
     "elapsed": 1047,
     "status": "ok",
     "timestamp": 1573468500895,
     "user": {
      "displayName": "span amnuaisuk",
      "photoUrl": "",
      "userId": "17774227008582465577"
     },
     "user_tz": -480
    },
    "id": "IyXwP7H0QAy9",
    "outputId": "54bfa546-59d2-4f21-ba48-82907a07ce6c"
   },
   "outputs": [
    {
     "name": "stdout",
     "output_type": "stream",
     "text": [
      "# This is not a comment, but a string because it's inside quotes.\n",
      "A string may be enclosed in single', double \" or tripple '''\n",
      "This is a comment ...\n",
      "... in many ...\n",
      "... many lines\n"
     ]
    }
   ],
   "source": [
    "# this is the first comment\n",
    "spam = 1  # and this is the second comment\n",
    "          # ... and now a third!\n",
    "text1 = \"# This is not a comment, but a string because it\\'s inside quotes.\"\n",
    "text2 = \"A string may be enclosed in single\\', double \\\" or tripple \\'\\'\\'\"\n",
    "text3 = '''This is a comment ...\n",
    "... in many ...\n",
    "... many lines'''\n",
    "print(text1)\n",
    "print(text2)\n",
    "print(text3)\n",
    "\n"
   ]
  },
  {
   "cell_type": "markdown",
   "metadata": {
    "colab_type": "text",
    "id": "f0iVgRyXUIX0"
   },
   "source": [
    "### Numbers"
   ]
  },
  {
   "cell_type": "code",
   "execution_count": 0,
   "metadata": {
    "colab": {},
    "colab_type": "code",
    "id": "xMiktyOoCHSx"
   },
   "outputs": [],
   "source": [
    "# suppress output\n",
    "1+1;"
   ]
  },
  {
   "cell_type": "code",
   "execution_count": 0,
   "metadata": {
    "colab": {
     "base_uri": "https://localhost:8080/",
     "height": 35
    },
    "colab_type": "code",
    "executionInfo": {
     "elapsed": 1040,
     "status": "ok",
     "timestamp": 1573468525542,
     "user": {
      "displayName": "span amnuaisuk",
      "photoUrl": "",
      "userId": "17774227008582465577"
     },
     "user_tz": -480
    },
    "id": "8R3HPvw_CZ6T",
    "outputId": "f4adbc08-9fac-481b-8055-ef1bd1fb3ec0"
   },
   "outputs": [
    {
     "data": {
      "text/plain": [
       "2"
      ]
     },
     "execution_count": 9,
     "metadata": {
      "tags": []
     },
     "output_type": "execute_result"
    }
   ],
   "source": [
    "1+1"
   ]
  },
  {
   "cell_type": "code",
   "execution_count": 0,
   "metadata": {
    "colab": {
     "base_uri": "https://localhost:8080/",
     "height": 35
    },
    "colab_type": "code",
    "executionInfo": {
     "elapsed": 1228,
     "status": "ok",
     "timestamp": 1573468541832,
     "user": {
      "displayName": "span amnuaisuk",
      "photoUrl": "",
      "userId": "17774227008582465577"
     },
     "user_tz": -480
    },
    "id": "k7dpem88DDbe",
    "outputId": "f541fac4-221a-4147-ffba-0c5eb4d15f02"
   },
   "outputs": [
    {
     "data": {
      "text/plain": [
       "4"
      ]
     },
     "execution_count": 10,
     "metadata": {
      "tags": []
     },
     "output_type": "execute_result"
    }
   ],
   "source": [
    "# only the last output\n",
    "1+1\n",
    "2+2"
   ]
  },
  {
   "cell_type": "code",
   "execution_count": 0,
   "metadata": {
    "colab": {
     "base_uri": "https://localhost:8080/",
     "height": 35
    },
    "colab_type": "code",
    "executionInfo": {
     "elapsed": 1248,
     "status": "ok",
     "timestamp": 1573468565591,
     "user": {
      "displayName": "span amnuaisuk",
      "photoUrl": "",
      "userId": "17774227008582465577"
     },
     "user_tz": -480
    },
    "id": "miSN2eRwCq9V",
    "outputId": "86693b6c-a657-406f-e947-ed8d2918ff6a"
   },
   "outputs": [
    {
     "data": {
      "text/plain": [
       "8"
      ]
     },
     "execution_count": 11,
     "metadata": {
      "tags": []
     },
     "output_type": "execute_result"
    }
   ],
   "source": [
    "2**3"
   ]
  },
  {
   "cell_type": "code",
   "execution_count": 0,
   "metadata": {
    "colab": {
     "base_uri": "https://localhost:8080/",
     "height": 35
    },
    "colab_type": "code",
    "executionInfo": {
     "elapsed": 1027,
     "status": "ok",
     "timestamp": 1573468567845,
     "user": {
      "displayName": "span amnuaisuk",
      "photoUrl": "",
      "userId": "17774227008582465577"
     },
     "user_tz": -480
    },
    "id": "qjYnoByO4wfD",
    "outputId": "5e9c808e-ffa4-4463-abc3-6381ff1ead99"
   },
   "outputs": [
    {
     "data": {
      "text/plain": [
       "(3+4j)"
      ]
     },
     "execution_count": 12,
     "metadata": {
      "tags": []
     },
     "output_type": "execute_result"
    }
   ],
   "source": [
    "complex(3,4)"
   ]
  },
  {
   "cell_type": "code",
   "execution_count": 0,
   "metadata": {
    "colab": {
     "base_uri": "https://localhost:8080/",
     "height": 35
    },
    "colab_type": "code",
    "executionInfo": {
     "elapsed": 1037,
     "status": "ok",
     "timestamp": 1573468571702,
     "user": {
      "displayName": "span amnuaisuk",
      "photoUrl": "",
      "userId": "17774227008582465577"
     },
     "user_tz": -480
    },
    "id": "4lEM8_Wr5MLq",
    "outputId": "43f793b6-1120-452b-84d4-834e346b4dee"
   },
   "outputs": [
    {
     "data": {
      "text/plain": [
       "(25+0j)"
      ]
     },
     "execution_count": 13,
     "metadata": {
      "tags": []
     },
     "output_type": "execute_result"
    }
   ],
   "source": [
    "(3+4j) * (3-4j)"
   ]
  },
  {
   "cell_type": "code",
   "execution_count": 0,
   "metadata": {
    "colab": {
     "base_uri": "https://localhost:8080/",
     "height": 35
    },
    "colab_type": "code",
    "executionInfo": {
     "elapsed": 1047,
     "status": "ok",
     "timestamp": 1573468848460,
     "user": {
      "displayName": "span amnuaisuk",
      "photoUrl": "",
      "userId": "17774227008582465577"
     },
     "user_tz": -480
    },
    "id": "9mBNOl5pCYnM",
    "outputId": "f6d63cc6-85e5-4843-eb2f-dd995632b02a"
   },
   "outputs": [
    {
     "data": {
      "text/plain": [
       "(1.08-0.44j)"
      ]
     },
     "execution_count": 16,
     "metadata": {
      "tags": []
     },
     "output_type": "execute_result"
    }
   ],
   "source": [
    "(5+3j)/(3+4j)"
   ]
  },
  {
   "cell_type": "code",
   "execution_count": 0,
   "metadata": {
    "colab": {
     "base_uri": "https://localhost:8080/",
     "height": 35
    },
    "colab_type": "code",
    "executionInfo": {
     "elapsed": 1190,
     "status": "ok",
     "timestamp": 1573468580330,
     "user": {
      "displayName": "span amnuaisuk",
      "photoUrl": "",
      "userId": "17774227008582465577"
     },
     "user_tz": -480
    },
    "id": "IV8_c-rWCcoI",
    "outputId": "e18adb70-631b-4a35-a8c8-8a85bb620e2f"
   },
   "outputs": [
    {
     "name": "stdout",
     "output_type": "stream",
     "text": [
      "0 3 3 4 1\n"
     ]
    }
   ],
   "source": [
    "# Bitwise operations\n",
    "print(2&1,2|1,2^1,2<<1,2>>1)"
   ]
  },
  {
   "cell_type": "markdown",
   "metadata": {
    "colab_type": "text",
    "id": "uthKyHuNUduA"
   },
   "source": [
    "### Strings"
   ]
  },
  {
   "cell_type": "code",
   "execution_count": 0,
   "metadata": {
    "colab": {
     "base_uri": "https://localhost:8080/",
     "height": 84
    },
    "colab_type": "code",
    "executionInfo": {
     "elapsed": 852,
     "status": "ok",
     "timestamp": 1569077957306,
     "user": {
      "displayName": "span amnuaisuk",
      "photoUrl": "",
      "userId": "17774227008582465577"
     },
     "user_tz": -480
    },
    "id": "DAguGmZnhZjZ",
    "outputId": "badde137-6f3c-41d1-9187-cceaa85ce615"
   },
   "outputs": [
    {
     "name": "stdout",
     "output_type": "stream",
     "text": [
      "Hello Friends\n",
      "Hello Friends\n",
      "Hello Friends\n",
      "Hello Friends\n"
     ]
    }
   ],
   "source": [
    "# comment\n",
    "# This statement print a text on the console\n",
    "print('Hello Friends')\n",
    "print(\"Hello Friends\")\n",
    "print('''Hello Friends''')\n",
    "print(\"\"\"Hello Friends\"\"\")"
   ]
  },
  {
   "cell_type": "code",
   "execution_count": 0,
   "metadata": {
    "colab": {
     "base_uri": "https://localhost:8080/",
     "height": 118
    },
    "colab_type": "code",
    "executionInfo": {
     "elapsed": 856,
     "status": "ok",
     "timestamp": 1569078050770,
     "user": {
      "displayName": "span amnuaisuk",
      "photoUrl": "",
      "userId": "17774227008582465577"
     },
     "user_tz": -480
    },
    "id": "M5YiZAfIUqu_",
    "outputId": "6bae04ba-f27d-4852-bf57-f5f2849c0398"
   },
   "outputs": [
    {
     "name": "stdout",
     "output_type": "stream",
     "text": [
      "spam eggs\n",
      "doesn't\n",
      "doesn't\n",
      "\"Yes,\" they said.\n",
      "\"Yes,\" they said.\n",
      "\"Isn't,\" they said.\n"
     ]
    }
   ],
   "source": [
    "print('spam eggs')  # single quotes\n",
    "print('doesn\\'t')  # use \\' to escape the single quote...\n",
    "print(\"doesn't\")  # ...or use double quotes instead\n",
    "print('\"Yes,\" they said.')\n",
    "print(\"\\\"Yes,\\\" they said.\")\n",
    "print('\"Isn\\'t,\" they said.')"
   ]
  },
  {
   "cell_type": "code",
   "execution_count": 0,
   "metadata": {
    "colab": {
     "base_uri": "https://localhost:8080/",
     "height": 67
    },
    "colab_type": "code",
    "executionInfo": {
     "elapsed": 856,
     "status": "ok",
     "timestamp": 1569078253290,
     "user": {
      "displayName": "span amnuaisuk",
      "photoUrl": "",
      "userId": "17774227008582465577"
     },
     "user_tz": -480
    },
    "id": "HwEhDLiMWd3_",
    "outputId": "eec42ff9-b40c-4ca9-8093-e3c33fcd405a"
   },
   "outputs": [
    {
     "name": "stdout",
     "output_type": "stream",
     "text": [
      "C:\\some\n",
      "ame\n",
      "C:\\some\\name\n"
     ]
    }
   ],
   "source": [
    "print('C:\\some\\name')  # here \\n means newline!\n",
    "print(r'C:\\some\\name')"
   ]
  },
  {
   "cell_type": "code",
   "execution_count": 0,
   "metadata": {
    "colab": {
     "base_uri": "https://localhost:8080/",
     "height": 51
    },
    "colab_type": "code",
    "executionInfo": {
     "elapsed": 917,
     "status": "ok",
     "timestamp": 1570629672078,
     "user": {
      "displayName": "span amnuaisuk",
      "photoUrl": "",
      "userId": "17774227008582465577"
     },
     "user_tz": -480
    },
    "id": "sMOSDnxCz7uE",
    "outputId": "58a07761-58b7-4d4c-97f1-3f8b61ace19a"
   },
   "outputs": [
    {
     "name": "stdout",
     "output_type": "stream",
     "text": [
      "The value is 1 and string b\n",
      "The value is 1 and string b\n"
     ]
    }
   ],
   "source": [
    "a = 1\n",
    "b = \"string b\"\n",
    "print(f\"The value is {a} and {b}\")\n",
    "print(\"The value is {} and {}\".format(a,b))"
   ]
  },
  {
   "cell_type": "code",
   "execution_count": 0,
   "metadata": {
    "colab": {
     "base_uri": "https://localhost:8080/",
     "height": 34
    },
    "colab_type": "code",
    "executionInfo": {
     "elapsed": 748,
     "status": "ok",
     "timestamp": 1570630896118,
     "user": {
      "displayName": "span amnuaisuk",
      "photoUrl": "",
      "userId": "17774227008582465577"
     },
     "user_tz": -480
    },
    "id": "RowGFSmE4qY8",
    "outputId": "1da0dbeb-eb4a-4b2e-a78c-19692bf978b6"
   },
   "outputs": [
    {
     "name": "stdout",
     "output_type": "stream",
     "text": [
      "Epoch: 0010 12.340\n"
     ]
    }
   ],
   "source": [
    "print (\"Epoch:\", '%04d' %(10), \"{:.3f}\".format(12.34))"
   ]
  },
  {
   "cell_type": "markdown",
   "metadata": {
    "colab_type": "text",
    "id": "6HEpHLAXdnip"
   },
   "source": [
    "### Variables\n",
    "\n",
    "- A variable name must start with a letter or the underscore character\n",
    "- A variable name cannot start with a number\n",
    "- A variable name can only contain alpha-numeric characters and underscores (A-z, 0-9, and _ )\n",
    "- Variable names are case-sensitive (age, Age and AGE are three different variables)"
   ]
  },
  {
   "cell_type": "markdown",
   "metadata": {
    "colab_type": "text",
    "id": "Q27_neHzU0Gy"
   },
   "source": [
    "## Data Type\n",
    "\n",
    "Python is a dynamic typing language. This means data type can be changed after its declaration."
   ]
  },
  {
   "cell_type": "code",
   "execution_count": 0,
   "metadata": {
    "colab": {
     "base_uri": "https://localhost:8080/",
     "height": 85
    },
    "colab_type": "code",
    "executionInfo": {
     "elapsed": 1057,
     "status": "ok",
     "timestamp": 1569543624719,
     "user": {
      "displayName": "span amnuaisuk",
      "photoUrl": "",
      "userId": "17774227008582465577"
     },
     "user_tz": -480
    },
    "id": "Ha2xpHoPh7la",
    "outputId": "1c96d6de-f377-43ee-f823-0be8954adb68"
   },
   "outputs": [
    {
     "name": "stdout",
     "output_type": "stream",
     "text": [
      "1 <class 'int'>\n",
      "1.0 <class 'float'>\n",
      "1 <class 'str'>\n",
      "True <class 'bool'>\n"
     ]
    }
   ],
   "source": [
    "x = 1; print(x, type(x))\n",
    "x = 1.0; print(x, type(x))\n",
    "x = '1'; print(x, type(x))\n",
    "x = True; print(x, type(x))"
   ]
  },
  {
   "cell_type": "markdown",
   "metadata": {
    "colab_type": "text",
    "id": "-nPqLeUHf5o1"
   },
   "source": [
    "### Casting"
   ]
  },
  {
   "cell_type": "code",
   "execution_count": 0,
   "metadata": {
    "colab": {
     "base_uri": "https://localhost:8080/",
     "height": 119
    },
    "colab_type": "code",
    "executionInfo": {
     "elapsed": 1058,
     "status": "ok",
     "timestamp": 1569543775410,
     "user": {
      "displayName": "span amnuaisuk",
      "photoUrl": "",
      "userId": "17774227008582465577"
     },
     "user_tz": -480
    },
    "id": "AYTrmSQ59hjY",
    "outputId": "eb8afe49-44f1-4029-b353-5d578f79e0fb"
   },
   "outputs": [
    {
     "name": "stdout",
     "output_type": "stream",
     "text": [
      "<class 'int'>\n",
      "<class 'float'>\n",
      "<class 'bool'>\n",
      "<class 'str'>\n",
      "<class 'float'>\n",
      "<class 'int'>\n"
     ]
    }
   ],
   "source": [
    "a = 4;\n",
    "print(type(a))\n",
    "b = 4.0;\n",
    "print(type(b))\n",
    "c = True;\n",
    "print(type(c))\n",
    "d = \"A string\";\n",
    "print(type(d))\n",
    "a = float(a)\n",
    "print(type(a))\n",
    "b = int(b)\n",
    "print(type(b))"
   ]
  },
  {
   "cell_type": "code",
   "execution_count": 0,
   "metadata": {
    "colab": {},
    "colab_type": "code",
    "id": "-4ul4IhlgCq_"
   },
   "outputs": [],
   "source": [
    "x = int(1)   # x will be 1\n",
    "y = int(2.8) # y will be 2\n",
    "z = int(\"3\") # z will be 3"
   ]
  },
  {
   "cell_type": "code",
   "execution_count": 0,
   "metadata": {
    "colab": {},
    "colab_type": "code",
    "id": "shYNAk2Bf78Y"
   },
   "outputs": [],
   "source": [
    "x = float(1)     # x will be 1.0\n",
    "y = float(2.8)   # y will be 2.8\n",
    "z = float(\"3\")   # z will be 3.0\n",
    "w = float(\"4.2\") # w will be 4.2"
   ]
  },
  {
   "cell_type": "code",
   "execution_count": 0,
   "metadata": {
    "colab": {},
    "colab_type": "code",
    "id": "auv37gWrgtbY"
   },
   "outputs": [],
   "source": [
    "x = str(\"s1\") # x will be 's1'\n",
    "y = str(2)    # y will be '2'\n",
    "z = str(3.0)  # z will be '3.0'\n"
   ]
  },
  {
   "cell_type": "markdown",
   "metadata": {
    "colab_type": "text",
    "id": "f6dBbbb9TUal"
   },
   "source": [
    "## Operators\n",
    "<ul>\n",
    "    <li> Arithmetic operators: +, -, *, /, %, **, // </li>\n",
    "    <li> Comparison operators: ==, !=, <>, >, >, <, >=, <= </li>\n",
    "    <li> Assignment operators: =, +=, -=, *=, /=, %=, **=, //= </li>\n",
    "    <li> Bitwise operators: &, |, <<, >> </li>\n",
    "    <li> Logical operators: and, or, not, if-then </li> \n",
    "    <li> Membership operators: in, not in </li>   \n",
    "</ul>\n",
    "        \n",
    "### Operators' Precedence\n",
    "<ul>\n",
    "    <li> **, unary +, unary -, *, /, %, //, +, - </li>\n",
    "    <li> >>, <<, &, | </li>\n",
    "    <li> <=, <, >, >=, <>, ==, != </li>\n",
    "    <li> =, %=, /=, //=, -=, +=, *= </li>\n",
    "    <li> is, is not, in, not in, not, or, and </li>   \n",
    "</ul>\n",
    "        "
   ]
  },
  {
   "cell_type": "code",
   "execution_count": 0,
   "metadata": {
    "colab": {},
    "colab_type": "code",
    "id": "LvE9X8X6DId9"
   },
   "outputs": [],
   "source": [
    "print(pow(2,8))\n",
    "print(2**8)\n",
    "print(1/2)\n",
    "print(1./2)\n",
    "print(5/3)\n",
    "print(5//3)\n",
    "print(5%3)\n",
    "print(pow(16,1/2))"
   ]
  },
  {
   "cell_type": "code",
   "execution_count": 0,
   "metadata": {
    "colab": {
     "base_uri": "https://localhost:8080/",
     "height": 119
    },
    "colab_type": "code",
    "executionInfo": {
     "elapsed": 1470,
     "status": "ok",
     "timestamp": 1556973560489,
     "user": {
      "displayName": "Somnuk Phon-Amnuaisuk",
      "photoUrl": "",
      "userId": "02367141521173446408"
     },
     "user_tz": -480
    },
    "id": "biKL7prT0DnB",
    "outputId": "a47511ed-241e-4c17-dfb0-16d82a875b79"
   },
   "outputs": [
    {
     "name": "stdout",
     "output_type": "stream",
     "text": [
      "14\n",
      "False\n",
      "4\n",
      "16\n",
      "True\n",
      "False\n"
     ]
    }
   ],
   "source": [
    "print(2+3*4)\n",
    "print(False or not False and False)\n",
    "print(8 >> 1)\n",
    "print(8 << 1)\n",
    "print( 1 in [1,2,3])\n",
    "print( 4 in [1,2,3])"
   ]
  },
  {
   "cell_type": "code",
   "execution_count": 0,
   "metadata": {
    "colab": {
     "base_uri": "https://localhost:8080/",
     "height": 34
    },
    "colab_type": "code",
    "executionInfo": {
     "elapsed": 1116,
     "status": "ok",
     "timestamp": 1557007579717,
     "user": {
      "displayName": "Somnuk Phon-Amnuaisuk",
      "photoUrl": "",
      "userId": "02367141521173446408"
     },
     "user_tz": -480
    },
    "id": "9gYKUTon4UJK",
    "outputId": "8b67e0cf-6057-456b-bb42-b900100d367c"
   },
   "outputs": [
    {
     "data": {
      "text/plain": [
       "'Hello World'"
      ]
     },
     "execution_count": 2,
     "metadata": {
      "tags": []
     },
     "output_type": "execute_result"
    }
   ],
   "source": [
    "\"Hello\" + \" World\""
   ]
  },
  {
   "cell_type": "code",
   "execution_count": 0,
   "metadata": {
    "colab": {
     "base_uri": "https://localhost:8080/",
     "height": 126
    },
    "colab_type": "code",
    "executionInfo": {
     "elapsed": 1034,
     "status": "ok",
     "timestamp": 1573469088321,
     "user": {
      "displayName": "span amnuaisuk",
      "photoUrl": "",
      "userId": "17774227008582465577"
     },
     "user_tz": -480
    },
    "id": "YNZFZUBQiW2-",
    "outputId": "429ac16e-73de-4aa8-af3f-0058c1d47626"
   },
   "outputs": [
    {
     "name": "stdout",
     "output_type": "stream",
     "text": [
      "0.6666666666666666 0.5 1.5 0.75 2.0 1.3333333333333333\n",
      "0 0.0 1 0.0 2.0 1.0\n",
      "1 3\n",
      "6 12.0 8 81.0\n",
      "<class 'int'> <class 'int'> <class 'float'> <class 'int'> <class 'float'> <class 'bool'> <class 'str'>\n"
     ]
    }
   ],
   "source": [
    "# variables, data type and operations\n",
    "x = 2\n",
    "y = 3\n",
    "z = 4.0\n",
    "p = True\n",
    "s = \"Python is easy!\"\n",
    "print(x/y,x/z,y/x,y/z,z/x,z/y)\n",
    "print(x//y,x//z,y//x,y//z,z//x,z//y)\n",
    "print(33%4, -33%4)\n",
    "print(x*y,y*z,x**y,y**z)\n",
    "print(type(x),type(y),type(z),type(x*y),type(y*z), type(p), type(s))"
   ]
  },
  {
   "cell_type": "code",
   "execution_count": 0,
   "metadata": {
    "colab": {
     "base_uri": "https://localhost:8080/",
     "height": 35
    },
    "colab_type": "code",
    "executionInfo": {
     "elapsed": 1095,
     "status": "ok",
     "timestamp": 1573469135541,
     "user": {
      "displayName": "span amnuaisuk",
      "photoUrl": "",
      "userId": "17774227008582465577"
     },
     "user_tz": -480
    },
    "id": "b5jNCvqdKss0",
    "outputId": "1ea4baa6-65d3-4387-9f58-74492d51810b"
   },
   "outputs": [
    {
     "name": "stdout",
     "output_type": "stream",
     "text": [
      "True False True False True True True\n"
     ]
    }
   ],
   "source": [
    "# relational operators\n",
    "x,y,z,p,s = 3,4,5.0,False,\"multiple substitution\"\n",
    "print( x != y,x>y, x<y, x>=y, x<=y, z==5, p==False)\n"
   ]
  },
  {
   "cell_type": "code",
   "execution_count": 0,
   "metadata": {
    "colab": {},
    "colab_type": "code",
    "id": "v_n5lA7oaBNM"
   },
   "outputs": [],
   "source": [
    "# boolean\n",
    "Table = [(p,q) for p in [True,False] for q in [True,False]]\n",
    "for e in Table:\n",
    "  print(e[0], \" and \", e[1], \" is \", e[0] and e[1])\n",
    "for e in Table:\n",
    "  print(e[0], \" or \", e[1], \" is \", e[0] or e[1])\n",
    "for e in Table:\n",
    "  print(e[0], \" --> \", e[1], \" is \", (not e[0]) or e[1])"
   ]
  },
  {
   "cell_type": "code",
   "execution_count": 0,
   "metadata": {
    "colab": {
     "base_uri": "https://localhost:8080/",
     "height": 68
    },
    "colab_type": "code",
    "executionInfo": {
     "elapsed": 903,
     "status": "ok",
     "timestamp": 1557008242597,
     "user": {
      "displayName": "Somnuk Phon-Amnuaisuk",
      "photoUrl": "",
      "userId": "02367141521173446408"
     },
     "user_tz": -480
    },
    "id": "1TZn4vsm6ie2",
    "outputId": "32490551-945d-49a8-9e3a-951f95263b5f"
   },
   "outputs": [
    {
     "name": "stdout",
     "output_type": "stream",
     "text": [
      "<class 'list'>\n",
      "9\n",
      "[0, 1, 2, 3, 4, 5, 6, 7, 8]\n"
     ]
    }
   ],
   "source": [
    "# other operators e.g., on a list data structure\n",
    "nums = list(range(10)) \n",
    "print(type(nums))\n",
    "print(nums.pop())\n",
    "print(nums)"
   ]
  },
  {
   "cell_type": "markdown",
   "metadata": {
    "colab_type": "text",
    "id": "g5LtSzMq7nuT"
   },
   "source": [
    "### Index and Slicing"
   ]
  },
  {
   "cell_type": "code",
   "execution_count": 0,
   "metadata": {
    "colab": {
     "base_uri": "https://localhost:8080/",
     "height": 136
    },
    "colab_type": "code",
    "executionInfo": {
     "elapsed": 1191,
     "status": "ok",
     "timestamp": 1556974787722,
     "user": {
      "displayName": "Somnuk Phon-Amnuaisuk",
      "photoUrl": "",
      "userId": "02367141521173446408"
     },
     "user_tz": -480
    },
    "id": "NSDS5ioKRSmp",
    "outputId": "82e06ddf-0edc-40bb-8eeb-186dca4ac1ec"
   },
   "outputs": [
    {
     "name": "stdout",
     "output_type": "stream",
     "text": [
      "[0, 1, 2, 3, 4]\n",
      "[2, 3]\n",
      "[2, 3, 4]\n",
      "[0, 1]\n",
      "[0, 1, 2, 3, 4]\n",
      "[0, 1, 2, 3]\n",
      "[0, 1, 8, 9, 4]\n"
     ]
    }
   ],
   "source": [
    "nums = list(range(5))     # range is a built-in function that creates a list of integers\n",
    "print(nums)               # Prints \"[0, 1, 2, 3, 4]\"\n",
    "print(nums[2:4])          # Get a slice from index 2 to 4 (exclusive); prints \"[2, 3]\"\n",
    "print(nums[2:])           # Get a slice from index 2 to the end; prints \"[2, 3, 4]\"\n",
    "print(nums[:2])           # Get a slice from the start to index 2 (exclusive); prints \"[0, 1]\"\n",
    "print(nums[:])            # Get a slice of the whole list; prints \"[0, 1, 2, 3, 4]\"\n",
    "print(nums[:-1])          # Slice indices can be negative; prints \"[0, 1, 2, 3]\"\n",
    "nums[2:4] = [8, 9]        # Assign a new sublist to a slice\n",
    "print(nums)  "
   ]
  },
  {
   "cell_type": "code",
   "execution_count": 0,
   "metadata": {
    "colab": {},
    "colab_type": "code",
    "id": "lCdqniVomDja"
   },
   "outputs": [],
   "source": [
    "numbers = [2,3,4,5,6,7,8,9,10]\n",
    "print(numbers[0], numbers[-1], numbers[-3])\n",
    "print(numbers[:])\n",
    "print(numbers[0:3], numbers[0:], numbers[:3], numbers[:-3])"
   ]
  },
  {
   "cell_type": "code",
   "execution_count": 0,
   "metadata": {
    "colab": {
     "base_uri": "https://localhost:8080/",
     "height": 68
    },
    "colab_type": "code",
    "executionInfo": {
     "elapsed": 903,
     "status": "ok",
     "timestamp": 1557009314376,
     "user": {
      "displayName": "Somnuk Phon-Amnuaisuk",
      "photoUrl": "",
      "userId": "02367141521173446408"
     },
     "user_tz": -480
    },
    "id": "FAbYySKqRvgV",
    "outputId": "5e94d433-6f34-419c-d439-f6a4e4f5ee00"
   },
   "outputs": [
    {
     "name": "stdout",
     "output_type": "stream",
     "text": [
      "a\n",
      "[5, 6] [5, 6, 7, 8]\n",
      "[2, 5, 0]\n"
     ]
    }
   ],
   "source": [
    "M = list( [ [2,3,4,5],[5,6,7,8],[0,1,2,3] ] )\n",
    "print(M[1][:2], M[:][1])\n",
    "#\n",
    "N = list( [ [1,['a','b'],[3,4,'s']], [0,9] ])\n",
    "print(N[0][1][0])\n",
    "#\n",
    "print([x[0] for x in M])"
   ]
  },
  {
   "cell_type": "code",
   "execution_count": 0,
   "metadata": {
    "colab": {
     "base_uri": "https://localhost:8080/",
     "height": 84
    },
    "colab_type": "code",
    "executionInfo": {
     "elapsed": 854,
     "status": "ok",
     "timestamp": 1569078501548,
     "user": {
      "displayName": "span amnuaisuk",
      "photoUrl": "",
      "userId": "17774227008582465577"
     },
     "user_tz": -480
    },
    "id": "TdJV_PGrW3AY",
    "outputId": "827f6075-24f4-4922-ca75-8966a66b6529"
   },
   "outputs": [
    {
     "name": "stdout",
     "output_type": "stream",
     "text": [
      "P\n",
      "n\n",
      "n o\n",
      "Pyth thon\n"
     ]
    }
   ],
   "source": [
    "word = 'Python'\n",
    "print(word[0])  # character in position 0\n",
    "print(word[5])  # character in position 5\n",
    "print(word[-1],word[-2])\n",
    "print(word[:4],word[-4:])"
   ]
  },
  {
   "cell_type": "markdown",
   "metadata": {
    "colab_type": "text",
    "id": "j58rnZWWZxMA"
   },
   "source": [
    "### Reserved Words\n",
    "- https://www.w3schools.com/python/python_ref_keywords.asp"
   ]
  },
  {
   "cell_type": "markdown",
   "metadata": {
    "colab_type": "text",
    "id": "3mI58NHVSl9W"
   },
   "source": [
    "### import libraries"
   ]
  },
  {
   "cell_type": "code",
   "execution_count": 5,
   "metadata": {
    "colab": {
     "base_uri": "https://localhost:8080/",
     "height": 54
    },
    "colab_type": "code",
    "executionInfo": {
     "elapsed": 1637,
     "status": "ok",
     "timestamp": 1575257311532,
     "user": {
      "displayName": "span amnuaisuk",
      "photoUrl": "",
      "userId": "17774227008582465577"
     },
     "user_tz": -480
    },
    "id": "Pu_IL9SLHnVx",
    "outputId": "3e272b53-137f-43d5-9706-1b0d01ea7f17"
   },
   "outputs": [
    {
     "name": "stdout",
     "output_type": "stream",
     "text": [
      "3.6.8 (default, Oct  7 2019, 12:59:55) \n",
      "[GCC 8.3.0]\n"
     ]
    }
   ],
   "source": [
    "import sys\n",
    "import numpy as np\n",
    "import matplotlib.pyplot as plt\n",
    "print( sys.version )"
   ]
  },
  {
   "cell_type": "markdown",
   "metadata": {
    "colab_type": "text",
    "id": "-jWhqoc5fLgI"
   },
   "source": [
    "### Range, Linspace and Plot"
   ]
  },
  {
   "cell_type": "code",
   "execution_count": 6,
   "metadata": {
    "colab": {
     "base_uri": "https://localhost:8080/",
     "height": 319
    },
    "colab_type": "code",
    "executionInfo": {
     "elapsed": 1724,
     "status": "ok",
     "timestamp": 1575257316005,
     "user": {
      "displayName": "span amnuaisuk",
      "photoUrl": "",
      "userId": "17774227008582465577"
     },
     "user_tz": -480
    },
    "id": "ebX2wZePfKLw",
    "outputId": "03677336-fa2b-43ff-dacd-6005d1427870"
   },
   "outputs": [
    {
     "name": "stdout",
     "output_type": "stream",
     "text": [
      "range(-5, 5)\n",
      "[-5, -4, -3, -2, -1, 0, 1, 2, 3, 4]\n"
     ]
    },
    {
     "data": {
      "text/plain": [
       "[<matplotlib.lines.Line2D at 0x7f530ae97048>]"
      ]
     },
     "execution_count": 6,
     "metadata": {
      "tags": []
     },
     "output_type": "execute_result"
    },
    {
     "data": {
      "image/png": "[encoded data removed]",
      "text/plain": [
       "<Figure size 432x288 with 1 Axes>"
      ]
     },
     "metadata": {
      "tags": []
     },
     "output_type": "display_data"
    }
   ],
   "source": [
    "x = range(-5,5)\n",
    "print(x)\n",
    "x = list(x)\n",
    "print(x)\n",
    "plt.plot( range(-5,6), [x**2 for x in range(-5,6)] )"
   ]
  },
  {
   "cell_type": "code",
   "execution_count": 8,
   "metadata": {
    "colab": {
     "base_uri": "https://localhost:8080/",
     "height": 374
    },
    "colab_type": "code",
    "executionInfo": {
     "elapsed": 1745,
     "status": "ok",
     "timestamp": 1575257351086,
     "user": {
      "displayName": "span amnuaisuk",
      "photoUrl": "",
      "userId": "17774227008582465577"
     },
     "user_tz": -480
    },
    "id": "RvVDiYyvg9e-",
    "outputId": "ee06d217-f8af-45a2-908b-022300d8b573"
   },
   "outputs": [
    {
     "name": "stdout",
     "output_type": "stream",
     "text": [
      "[-5.         -4.65517241 -4.31034483 -3.96551724 -3.62068966 -3.27586207\n",
      " -2.93103448 -2.5862069  -2.24137931 -1.89655172 -1.55172414 -1.20689655\n",
      " -0.86206897 -0.51724138 -0.17241379  0.17241379  0.51724138  0.86206897\n",
      "  1.20689655  1.55172414  1.89655172  2.24137931  2.5862069   2.93103448\n",
      "  3.27586207  3.62068966  3.96551724  4.31034483  4.65517241  5.        ]\n"
     ]
    },
    {
     "data": {
      "text/plain": [
       "[<matplotlib.lines.Line2D at 0x7f530add12e8>]"
      ]
     },
     "execution_count": 8,
     "metadata": {
      "tags": []
     },
     "output_type": "execute_result"
    },
    {
     "data": {
      "image/png": "[encoded data removed]",
      "text/plain": [
       "<Figure size 432x288 with 1 Axes>"
      ]
     },
     "metadata": {
      "tags": []
     },
     "output_type": "display_data"
    }
   ],
   "source": [
    "x = np.linspace(-5,5,30)\n",
    "print(x)\n",
    "plt.plot(x,[x**2 for x in np.linspace(-5,5,30)])"
   ]
  },
  {
   "cell_type": "code",
   "execution_count": 9,
   "metadata": {
    "colab": {
     "base_uri": "https://localhost:8080/",
     "height": 35
    },
    "colab_type": "code",
    "executionInfo": {
     "elapsed": 1904,
     "status": "ok",
     "timestamp": 1575257362709,
     "user": {
      "displayName": "span amnuaisuk",
      "photoUrl": "",
      "userId": "17774227008582465577"
     },
     "user_tz": -480
    },
    "id": "v30rMELWDrje",
    "outputId": "6088b2a3-a6d1-4de6-e2b1-3795354e2c02"
   },
   "outputs": [
    {
     "name": "stdout",
     "output_type": "stream",
     "text": [
      "range(0, 10) []\n"
     ]
    }
   ],
   "source": [
    "x = range(10)\n",
    "y = list()\n",
    "print(x,y)"
   ]
  },
  {
   "cell_type": "code",
   "execution_count": 10,
   "metadata": {
    "colab": {
     "base_uri": "https://localhost:8080/",
     "height": 217
    },
    "colab_type": "code",
    "executionInfo": {
     "elapsed": 1961,
     "status": "ok",
     "timestamp": 1575257381586,
     "user": {
      "displayName": "span amnuaisuk",
      "photoUrl": "",
      "userId": "17774227008582465577"
     },
     "user_tz": -480
    },
    "id": "gXBvNlIUFCGi",
    "outputId": "98a4db25-1c75-4c49-ba26-0c60e14be01b"
   },
   "outputs": [
    {
     "name": "stdout",
     "output_type": "stream",
     "text": [
      "[25]\n",
      "[25, 16]\n",
      "[25, 16, 9]\n",
      "[25, 16, 9, 4]\n",
      "[25, 16, 9, 4, 1]\n",
      "[25, 16, 9, 4, 1, 0]\n",
      "[25, 16, 9, 4, 1, 0, 1]\n",
      "[25, 16, 9, 4, 1, 0, 1, 4]\n",
      "[25, 16, 9, 4, 1, 0, 1, 4, 9]\n",
      "[25, 16, 9, 4, 1, 0, 1, 4, 9, 16]\n",
      "[25, 16, 9, 4, 1, 0, 1, 4, 9, 16, 25]\n"
     ]
    }
   ],
   "source": [
    "x = range(-5,6)\n",
    "y = list()\n",
    "for i in x:\n",
    "  y.append(i**2)\n",
    "  print(y)"
   ]
  },
  {
   "cell_type": "code",
   "execution_count": 11,
   "metadata": {
    "colab": {
     "base_uri": "https://localhost:8080/",
     "height": 283
    },
    "colab_type": "code",
    "executionInfo": {
     "elapsed": 1501,
     "status": "ok",
     "timestamp": 1575257391521,
     "user": {
      "displayName": "span amnuaisuk",
      "photoUrl": "",
      "userId": "17774227008582465577"
     },
     "user_tz": -480
    },
    "id": "qV0yqlYGFWFs",
    "outputId": "280cac3e-fdf6-4af4-eef3-5aef12261fed"
   },
   "outputs": [
    {
     "data": {
      "text/plain": [
       "[<matplotlib.lines.Line2D at 0x7f530ad229b0>]"
      ]
     },
     "execution_count": 11,
     "metadata": {
      "tags": []
     },
     "output_type": "execute_result"
    },
    {
     "data": {
      "image/png": "[encoded data removed]",
      "text/plain": [
       "<Figure size 432x288 with 1 Axes>"
      ]
     },
     "metadata": {
      "tags": []
     },
     "output_type": "display_data"
    }
   ],
   "source": [
    "import matplotlib.pyplot as plt\n",
    "plt.plot(x,y)"
   ]
  },
  {
   "cell_type": "code",
   "execution_count": 12,
   "metadata": {
    "colab": {
     "base_uri": "https://localhost:8080/",
     "height": 283
    },
    "colab_type": "code",
    "executionInfo": {
     "elapsed": 1500,
     "status": "ok",
     "timestamp": 1575257397734,
     "user": {
      "displayName": "span amnuaisuk",
      "photoUrl": "",
      "userId": "17774227008582465577"
     },
     "user_tz": -480
    },
    "id": "5rggz5SDGnKt",
    "outputId": "2c634037-f74c-4654-dd86-8527215519b5"
   },
   "outputs": [
    {
     "data": {
      "text/plain": [
       "[<matplotlib.lines.Line2D at 0x7f530acfba58>]"
      ]
     },
     "execution_count": 12,
     "metadata": {
      "tags": []
     },
     "output_type": "execute_result"
    },
    {
     "data": {
      "image/png": "[encoded data removed]",
      "text/plain": [
       "<Figure size 432x288 with 1 Axes>"
      ]
     },
     "metadata": {
      "tags": []
     },
     "output_type": "display_data"
    }
   ],
   "source": [
    "x = [x for x in range(-5,6)]\n",
    "y = [x**2 for x in range(-5,6)]\n",
    "plt.plot(x,y)\n"
   ]
  },
  {
   "cell_type": "code",
   "execution_count": 13,
   "metadata": {
    "colab": {
     "base_uri": "https://localhost:8080/",
     "height": 283
    },
    "colab_type": "code",
    "executionInfo": {
     "elapsed": 1676,
     "status": "ok",
     "timestamp": 1575257406703,
     "user": {
      "displayName": "span amnuaisuk",
      "photoUrl": "",
      "userId": "17774227008582465577"
     },
     "user_tz": -480
    },
    "id": "lGdCdcTLJ1zv",
    "outputId": "3964ed67-382a-411d-d8ed-bdafbf5d77aa"
   },
   "outputs": [
    {
     "data": {
      "text/plain": [
       "[<matplotlib.lines.Line2D at 0x7f530acd8828>]"
      ]
     },
     "execution_count": 13,
     "metadata": {
      "tags": []
     },
     "output_type": "execute_result"
    },
    {
     "data": {
      "image/png": "[encoded data removed]",
      "text/plain": [
       "<Figure size 432x288 with 1 Axes>"
      ]
     },
     "metadata": {
      "tags": []
     },
     "output_type": "display_data"
    }
   ],
   "source": [
    "import numpy as np\n",
    "x = [x for x in range(100)]\n",
    "y = [np.sin(2*np.pi*n*2/len(x)) for n in range(100)]\n",
    "plt.plot(x,y)\n"
   ]
  },
  {
   "cell_type": "markdown",
   "metadata": {
    "colab_type": "text",
    "id": "4Hy2LCD2nN2T"
   },
   "source": [
    "## Control Flow"
   ]
  },
  {
   "cell_type": "code",
   "execution_count": 0,
   "metadata": {
    "colab": {},
    "colab_type": "code",
    "id": "nvsnjMCPnz_J"
   },
   "outputs": [],
   "source": [
    "# for loop\n",
    "for n in range(100):\n",
    "  print(n)"
   ]
  },
  {
   "cell_type": "code",
   "execution_count": 0,
   "metadata": {
    "colab": {},
    "colab_type": "code",
    "id": "6aSyZxtUn2su"
   },
   "outputs": [],
   "source": [
    "S = \"this is a string\"\n",
    "for s in S:\n",
    "  print(s)"
   ]
  },
  {
   "cell_type": "code",
   "execution_count": 0,
   "metadata": {
    "colab": {},
    "colab_type": "code",
    "id": "pjKsbZiNnTx3"
   },
   "outputs": [],
   "source": [
    "# It is not preferred to write a while true\n",
    "x = 0\n",
    "while True:\n",
    "  print(x)\n",
    "  x += 1\n",
    "  if (x==5):\n",
    "    break"
   ]
  },
  {
   "cell_type": "code",
   "execution_count": 0,
   "metadata": {
    "colab": {},
    "colab_type": "code",
    "id": "1YT9VIcRnc6y"
   },
   "outputs": [],
   "source": [
    "for n in range(2, 10):\n",
    "  for x in range(2, n):\n",
    "    if n % x == 0:\n",
    "      print(n, 'equals', x, '*', n//x)\n",
    "      break\n",
    "    else:\n",
    "      # loop fell through without finding a factor\n",
    "      print(n, 'is a prime number')"
   ]
  },
  {
   "cell_type": "code",
   "execution_count": 0,
   "metadata": {
    "colab": {},
    "colab_type": "code",
    "id": "yJah_qbsnfa1"
   },
   "outputs": [],
   "source": [
    "for num in range(2, 10):\n",
    "  if num % 2 == 0:\n",
    "    print(\"Found an even number\", num)\n",
    "    continue\n",
    "  print(\"Found a number\", num)"
   ]
  },
  {
   "cell_type": "code",
   "execution_count": 0,
   "metadata": {
    "colab": {},
    "colab_type": "code",
    "id": "g2ndcRdinqSc"
   },
   "outputs": [],
   "source": [
    "# range \n",
    "a = range(1,100)\n",
    "print(a,type(a), sum(a), type(sum(a)))\n",
    "for a in range(1,10):\n",
    "  print(a)"
   ]
  },
  {
   "cell_type": "code",
   "execution_count": 0,
   "metadata": {
    "colab": {},
    "colab_type": "code",
    "id": "c9rKEJRynqft"
   },
   "outputs": [],
   "source": []
  },
  {
   "cell_type": "markdown",
   "metadata": {
    "colab_type": "text",
    "id": "JBGIFTPk_Kg2"
   },
   "source": [
    "## Function (to be precise, Procedure)"
   ]
  },
  {
   "cell_type": "code",
   "execution_count": 0,
   "metadata": {
    "colab": {},
    "colab_type": "code",
    "id": "m2nDZ2zm9_-O"
   },
   "outputs": [],
   "source": [
    "def function1():\n",
    "    print('Do something here')\n",
    "    \n",
    "function1()"
   ]
  },
  {
   "cell_type": "code",
   "execution_count": 0,
   "metadata": {
    "colab": {},
    "colab_type": "code",
    "id": "8PEzueHM-K3w"
   },
   "outputs": [],
   "source": [
    "x = 1\n",
    "\n",
    "def function2(y):\n",
    "    x = 2\n",
    "    print('x = ', x + y)\n",
    "    \n",
    "function2(3)"
   ]
  },
  {
   "cell_type": "code",
   "execution_count": 0,
   "metadata": {
    "colab": {},
    "colab_type": "code",
    "id": "7OUAZhFd-SpX"
   },
   "outputs": [],
   "source": [
    "def CalAreaOfACircle(r):\n",
    "    # this is a comment\n",
    "    return np.pi*r*r\n",
    "\n",
    "CalAreaOfACircle(4)"
   ]
  },
  {
   "cell_type": "code",
   "execution_count": 0,
   "metadata": {
    "colab": {},
    "colab_type": "code",
    "id": "aGH0alcF-ml9"
   },
   "outputs": [],
   "source": [
    "a = function2(3)\n",
    "b = CalAreaOfACircle(1)\n",
    "print(a,\" and \",b)"
   ]
  },
  {
   "cell_type": "code",
   "execution_count": 0,
   "metadata": {
    "colab": {},
    "colab_type": "code",
    "id": "v1LYoYqn_KAT"
   },
   "outputs": [],
   "source": [
    "x = lambda a : a + 10\n",
    "print(x(5))"
   ]
  },
  {
   "cell_type": "markdown",
   "metadata": {
    "colab_type": "text",
    "id": "OVhK6GgAjTQB"
   },
   "source": [
    "#### Built-in Functions\n",
    "\n",
    "- https://www.w3schools.com/python/python_ref_functions.asp\n",
    "\n",
    "abs() delattr() hash() memoryview() set() all() dict() help() min() setattr() any() dir() hex() next() slice() ascii() divmod() id() object() sorted() bin() enumerate() input() oct() staticmethod() bool() eval() int() open() str() breakpoint() exec() isinstance() ord() sum() bytearray() filter() issubclass() pow() super() bytes() float() iter() print() tuple() callable() format() len() property() type() chr() frozenset() list() range() vars() classmethod() getattr() locals() repr() zip() compile() globals() map() reversed() import() complex() hasattr() max() round()\n",
    "\n"
   ]
  },
  {
   "cell_type": "markdown",
   "metadata": {
    "colab_type": "text",
    "id": "6gMxK10zyvSW"
   },
   "source": [
    "## Exercises\n",
    "\n",
    "Self explorarion\n",
    "- https://www.w3resource.com/python-exercises/python-basic-exercises.php\n",
    "\n",
    "Graphing the following functions\n",
    "\n",
    "1. $y = [10.1, 3.2, 2.0, 7.6, 10.2, 11.0, 4.5, 5.6]$ \n",
    "2. $y = x^2 + 2x -4$, where $x \\in [-5, 5]$\n",
    "3. $y = x^3 + 2x^2$, where $x \\in [-5, 5]$\n",
    "4. $y = sin(x^2)$, where $x \\in [0, 2 \\pi]$\n",
    "5. $y = sin^2(x)$, where $x \\in [0, \\pi]$\n",
    "6. $y = tan(x)$, where $x \\in [0, 2 \\pi]$\n",
    "7. $y = \\frac{sin(x)}{x}$, where $x \\in [-\\pi, \\pi]$\n",
    "8. Graph the function $x^2 + 3x +1$ over the interval [-5,5] then find the root of this function graphically.\n",
    "9. Write a function that takes two numbers as its arguments and decide which one is a bigger number.\n",
    "10. Write a function that takes a list of numbers as its argument and decide which one is the biggest.\n",
    "11. Write a function solveQuadratic(a,b,c) that takes coefficients a, b, c of $ax^2 + bx + c = 0$ and output the root of the equation.\n",
    "12. Write a function that takes a positive integer $n$ (must be bigger than 3) and output a Fibanocci sequence upto $n$.\n",
    "13. Write a function that calculates a factorial of a positive integer.\n",
    "14. Write a function mysubset(set1,set2) that check whether set1 is a subset of set2. The function should printout a report such as True, False, or Yes set1 is a subset of set2, No set1 is not a subset of set 2, etc.\n"
   ]
  },
  {
   "cell_type": "code",
   "execution_count": 27,
   "metadata": {
    "colab": {
     "base_uri": "https://localhost:8080/",
     "height": 746
    },
    "colab_type": "code",
    "executionInfo": {
     "elapsed": 1133,
     "status": "ok",
     "timestamp": 1575258019914,
     "user": {
      "displayName": "span amnuaisuk",
      "photoUrl": "",
      "userId": "17774227008582465577"
     },
     "user_tz": -480
    },
    "id": "1DanKfZ_oYnX",
    "outputId": "30574c3b-4e7b-4d33-ce81-3cf0abd01b17"
   },
   "outputs": [
    {
     "data": {
      "text/plain": [
       "{'CLICOLOR': '1',\n",
       " 'CLOUDSDK_CONFIG': '/content/.config',\n",
       " 'COLAB_GPU': '0',\n",
       " 'CUDA_PKG_VERSION': '10-1=10.1.243-1',\n",
       " 'CUDA_VERSION': '10.1.243',\n",
       " 'CUDNN_VERSION': '7.6.3.30',\n",
       " 'DATALAB_SETTINGS_OVERRIDES': '{\"kernelManagerProxyPort\":6000,\"kernelManagerProxyHost\":\"172.28.0.3\",\"jupyterArgs\":[\"--ip=\\\\\"172.28.0.2\\\\\"\"]}',\n",
       " 'DEBIAN_FRONTEND': 'noninteractive',\n",
       " 'ENV': '/root/.bashrc',\n",
       " 'GCS_READ_CACHE_BLOCK_SIZE_MB': '16',\n",
       " 'GIT_PAGER': 'cat',\n",
       " 'GLIBCPP_FORCE_NEW': '1',\n",
       " 'GLIBCXX_FORCE_NEW': '1',\n",
       " 'HOME': '/root',\n",
       " 'HOSTNAME': 'b6bf3053a6ff',\n",
       " 'JPY_PARENT_PID': '25',\n",
       " 'LANG': 'en_US.UTF-8',\n",
       " 'LAST_FORCED_REBUILD': '20191113',\n",
       " 'LD_LIBRARY_PATH': '/usr/local/nvidia/lib:/usr/local/nvidia/lib64',\n",
       " 'LD_PRELOAD': '/usr/lib/x86_64-linux-gnu/libtcmalloc.so.4',\n",
       " 'LIBRARY_PATH': '/usr/local/cuda/lib64/stubs',\n",
       " 'MPLBACKEND': 'module://ipykernel.pylab.backend_inline',\n",
       " 'NCCL_VERSION': '2.4.8',\n",
       " 'NO_GCE_CHECK': 'True',\n",
       " 'NVIDIA_DRIVER_CAPABILITIES': 'compute,utility',\n",
       " 'NVIDIA_REQUIRE_CUDA': 'cuda>=10.1 brand=tesla,driver>=384,driver<385 brand=tesla,driver>=396,driver<397 brand=tesla,driver>=410,driver<411',\n",
       " 'NVIDIA_VISIBLE_DEVICES': 'all',\n",
       " 'OLDPWD': '/',\n",
       " 'PAGER': 'cat',\n",
       " 'PATH': '/usr/local/nvidia/bin:/usr/local/cuda/bin:/usr/local/sbin:/usr/local/bin:/usr/sbin:/usr/bin:/sbin:/bin:/tools/node/bin:/tools/google-cloud-sdk/bin:/opt/bin',\n",
       " 'PWD': '/',\n",
       " 'PYTHONPATH': '/env/python',\n",
       " 'PYTHONWARNINGS': 'ignore:::pip._internal.cli.base_command',\n",
       " 'SHELL': '/bin/bash',\n",
       " 'SHLVL': '1',\n",
       " 'TBE_CREDS_ADDR': '172.28.0.1:8008',\n",
       " 'TERM': 'xterm-color',\n",
       " 'TF_FORCE_GPU_ALLOW_GROWTH': 'true',\n",
       " '_': '/tools/node/bin/node'}"
      ]
     },
     "execution_count": 27,
     "metadata": {
      "tags": []
     },
     "output_type": "execute_result"
    }
   ],
   "source": [
    "# Write a Python program to get the users environmentcd ..\n",
    "env"
   ]
  },
  {
   "cell_type": "code",
   "execution_count": 0,
   "metadata": {
    "colab": {},
    "colab_type": "code",
    "id": "oj5qeP8NrCHC"
   },
   "outputs": [],
   "source": [
    "# Write a Python program to calculate the sum of any four digits in an integer\n",
    "# sum4Digits(1234) --> 10\n",
    "num = int(input(\"Input a four digit numbers: \"))\n",
    "#x1 = put your code here\n",
    "#x2 = put your code here\n",
    "#x3 = put your code here \n",
    "#x4 = put your code here \n",
    "print(\"The sum of digits in the number is\", x1+x2+x3+x4)"
   ]
  },
  {
   "cell_type": "code",
   "execution_count": 0,
   "metadata": {
    "colab": {},
    "colab_type": "code",
    "id": "Ad2vmCcpoch_"
   },
   "outputs": [],
   "source": [
    "# Write a Python program to swap two variables\n",
    "def swap(a, b):\n",
    "  print(a,b)\n",
    "  pass\n",
    "  print(a,b)\n",
    "  return a,b\n",
    "      \n",
    "x = 1\n",
    "y = 2\n",
    "print(x,y)\n",
    "x,y = swap(x,y)\n",
    "print(x,y)"
   ]
  },
  {
   "cell_type": "code",
   "execution_count": 0,
   "metadata": {
    "colab": {},
    "colab_type": "code",
    "id": "vgfd4LOfsYAP"
   },
   "outputs": [],
   "source": [
    "# Write a Python program to find the maximum number from the given list\n",
    "a = [ 9, 7, 4, 12, 6, 4, 4, 11, 3, 8]"
   ]
  },
  {
   "cell_type": "code",
   "execution_count": 0,
   "metadata": {
    "colab": {},
    "colab_type": "code",
    "id": "M3XUBRhbsiZA"
   },
   "outputs": [],
   "source": [
    "# Write a Python program to find the maximum and the second maximum numbers from the given list\n",
    "b = [ 9, 7, 4, 12, 6, 4, 4, 11, 3, 8]"
   ]
  },
  {
   "cell_type": "markdown",
   "metadata": {
    "colab_type": "text",
    "id": "fx_l80zzVpKM"
   },
   "source": [
    "### End of Unit"
   ]
  },
  {
   "cell_type": "code",
   "execution_count": 0,
   "metadata": {
    "colab": {
     "base_uri": "https://localhost:8080/",
     "height": 35
    },
    "colab_type": "code",
    "executionInfo": {
     "elapsed": 1042,
     "status": "ok",
     "timestamp": 1573478347304,
     "user": {
      "displayName": "span amnuaisuk",
      "photoUrl": "",
      "userId": "17774227008582465577"
     },
     "user_tz": -480
    },
    "id": "bvc-aycomF7e",
    "outputId": "bac94a87-052a-4af1-dc6e-a23792a0a4cc"
   },
   "outputs": [
    {
     "data": {
      "text/plain": [
       "'float'"
      ]
     },
     "execution_count": 27,
     "metadata": {
      "tags": []
     },
     "output_type": "execute_result"
    }
   ],
   "source": [
    "t = 1.0\n",
    "type(t).__name__"
   ]
  },
  {
   "cell_type": "code",
   "execution_count": 0,
   "metadata": {
    "colab": {},
    "colab_type": "code",
    "id": "d1FJZh9jjqmR"
   },
   "outputs": [],
   "source": [
    "X = [1,3,2,4]"
   ]
  },
  {
   "cell_type": "code",
   "execution_count": 0,
   "metadata": {
    "colab": {
     "base_uri": "https://localhost:8080/",
     "height": 35
    },
    "colab_type": "code",
    "executionInfo": {
     "elapsed": 1062,
     "status": "ok",
     "timestamp": 1573477758869,
     "user": {
      "displayName": "span amnuaisuk",
      "photoUrl": "",
      "userId": "17774227008582465577"
     },
     "user_tz": -480
    },
    "id": "bQWX5YN0lBu-",
    "outputId": "4ecf3b58-a25c-4ad0-fe01-d9ce7062ea78"
   },
   "outputs": [
    {
     "data": {
      "text/plain": [
       "140148580222728"
      ]
     },
     "execution_count": 11,
     "metadata": {
      "tags": []
     },
     "output_type": "execute_result"
    }
   ],
   "source": [
    "id(X)"
   ]
  },
  {
   "cell_type": "code",
   "execution_count": 0,
   "metadata": {
    "colab": {
     "base_uri": "https://localhost:8080/",
     "height": 35
    },
    "colab_type": "code",
    "executionInfo": {
     "elapsed": 1041,
     "status": "ok",
     "timestamp": 1573477786503,
     "user": {
      "displayName": "span amnuaisuk",
      "photoUrl": "",
      "userId": "17774227008582465577"
     },
     "user_tz": -480
    },
    "id": "8HZ1sXa2lYtH",
    "outputId": "56ae69d2-82ac-4fe9-9ea4-d71f2c106b7d"
   },
   "outputs": [
    {
     "data": {
      "text/plain": [
       "140148580222728"
      ]
     },
     "execution_count": 14,
     "metadata": {
      "tags": []
     },
     "output_type": "execute_result"
    }
   ],
   "source": [
    "id(X)"
   ]
  },
  {
   "cell_type": "code",
   "execution_count": 0,
   "metadata": {
    "colab": {},
    "colab_type": "code",
    "id": "OLacm-2Kj3Os"
   },
   "outputs": [],
   "source": [
    "X.sort()"
   ]
  },
  {
   "cell_type": "code",
   "execution_count": 0,
   "metadata": {
    "colab": {
     "base_uri": "https://localhost:8080/",
     "height": 35
    },
    "colab_type": "code",
    "executionInfo": {
     "elapsed": 1055,
     "status": "ok",
     "timestamp": 1573477775370,
     "user": {
      "displayName": "span amnuaisuk",
      "photoUrl": "",
      "userId": "17774227008582465577"
     },
     "user_tz": -480
    },
    "id": "ufKtwgp3k38e",
    "outputId": "8fd4a7cd-cb14-436c-a5e3-a002f0de0d8c"
   },
   "outputs": [
    {
     "data": {
      "text/plain": [
       "[1, 2, 3, 4]"
      ]
     },
     "execution_count": 13,
     "metadata": {
      "tags": []
     },
     "output_type": "execute_result"
    }
   ],
   "source": [
    "X"
   ]
  }
 ],
 "metadata": {
  "colab": {
   "collapsed_sections": [
    "3mI58NHVSl9W",
    "-jWhqoc5fLgI",
    "4Hy2LCD2nN2T",
    "JBGIFTPk_Kg2"
   ],
   "name": "_PythonKickStart1",
   "provenance": []
  },
  "kernelspec": {
   "display_name": "Python 3",
   "language": "python",
   "name": "python3"
  },
  "language_info": {
   "codemirror_mode": {
    "name": "ipython",
    "version": 3
   },
   "file_extension": ".py",
   "mimetype": "text/x-python",
   "name": "python",
   "nbconvert_exporter": "python",
   "pygments_lexer": "ipython3",
   "version": "3.7.4"
  }
 },
 "nbformat": 4,
 "nbformat_minor": 1
}
