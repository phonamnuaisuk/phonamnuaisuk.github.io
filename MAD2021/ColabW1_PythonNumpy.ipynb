{
  "nbformat": 4,
  "nbformat_minor": 0,
  "metadata": {
    "kernelspec": {
      "display_name": "Python 3",
      "language": "python",
      "name": "python3"
    },
    "language_info": {
      "codemirror_mode": {
        "name": "ipython",
        "version": 3
      },
      "file_extension": ".py",
      "mimetype": "text/x-python",
      "name": "python",
      "nbconvert_exporter": "python",
      "pygments_lexer": "ipython3",
      "version": "3.8.5"
    },
    "colab": {
      "name": "ColabW1_PythonNumpy.ipynb",
      "provenance": []
    }
  },
  "cells": [
    {
      "cell_type": "markdown",
      "metadata": {
        "id": "erxSgVFxMVWF"
      },
      "source": [
        "# Python & Numpy"
      ]
    },
    {
      "cell_type": "markdown",
      "metadata": {
        "id": "Ulusv2FUMY7C"
      },
      "source": [
        "## Variables"
      ]
    },
    {
      "cell_type": "code",
      "metadata": {
        "id": "tUlzXMY8MX_R"
      },
      "source": [
        "a = 1"
      ],
      "execution_count": null,
      "outputs": []
    },
    {
      "cell_type": "code",
      "metadata": {
        "id": "fnW7LszgMYfC"
      },
      "source": [
        "a = 1.0"
      ],
      "execution_count": null,
      "outputs": []
    },
    {
      "cell_type": "code",
      "metadata": {
        "id": "qHUD9FigMheV"
      },
      "source": [
        "a = 'a'"
      ],
      "execution_count": null,
      "outputs": []
    },
    {
      "cell_type": "markdown",
      "metadata": {
        "id": "W5Bg4oYTMVWG"
      },
      "source": [
        "## Python List and array"
      ]
    },
    {
      "cell_type": "code",
      "metadata": {
        "id": "KWglstsEMVWH"
      },
      "source": [
        "a = list()\n",
        "a"
      ],
      "execution_count": null,
      "outputs": []
    },
    {
      "cell_type": "code",
      "metadata": {
        "id": "FeYcYRCoMVWJ"
      },
      "source": [
        "a.append(2)\n",
        "a.append(3)\n",
        "a.extend([4,5])\n",
        "a"
      ],
      "execution_count": null,
      "outputs": []
    },
    {
      "cell_type": "code",
      "metadata": {
        "id": "33d-qYerMVWJ"
      },
      "source": [
        "a.pop()"
      ],
      "execution_count": null,
      "outputs": []
    },
    {
      "cell_type": "code",
      "metadata": {
        "id": "IeA77KGxMVWK"
      },
      "source": [
        "a = list()\n",
        "a.append(2)\n",
        "a.append(3)\n",
        "a.extend([4,5,6,7,8,9])"
      ],
      "execution_count": null,
      "outputs": []
    },
    {
      "cell_type": "code",
      "metadata": {
        "id": "FRqdlVuyMVWK"
      },
      "source": [
        "a"
      ],
      "execution_count": null,
      "outputs": []
    },
    {
      "cell_type": "code",
      "metadata": {
        "id": "5_vTZ9EJMVWL"
      },
      "source": [
        "a[2:5]"
      ],
      "execution_count": null,
      "outputs": []
    },
    {
      "cell_type": "code",
      "metadata": {
        "id": "ZOAG2qPKMVWM"
      },
      "source": [
        "a = [[1,2,3,4,5], [4,5,6,7,8], [3,4,5,6,7]]\n",
        "print(len(a))\n",
        "a\n",
        "# can you perform slicing here"
      ],
      "execution_count": null,
      "outputs": []
    },
    {
      "cell_type": "code",
      "metadata": {
        "id": "LeJvrnIDMVWN",
        "outputId": "f6712105-3b14-4100-cfd7-221f876f0b1f",
        "colab": {
          "base_uri": "https://localhost:8080/"
        }
      },
      "source": [
        "a = [1,2,3]; b = [3,2,4];\n",
        "print(a,b)"
      ],
      "execution_count": 2,
      "outputs": [
        {
          "output_type": "stream",
          "text": [
            "[1, 2, 3] [3, 2, 4]\n"
          ],
          "name": "stdout"
        }
      ]
    },
    {
      "cell_type": "code",
      "metadata": {
        "id": "d6ScIXU9MVWO"
      },
      "source": [
        "a*3"
      ],
      "execution_count": null,
      "outputs": []
    },
    {
      "cell_type": "code",
      "metadata": {
        "id": "iV08421fMVWO"
      },
      "source": [
        "a+b"
      ],
      "execution_count": null,
      "outputs": []
    },
    {
      "cell_type": "code",
      "metadata": {
        "id": "wlT8xnzaMVWP"
      },
      "source": [
        "a = np.array([1,2,3]); b = np.array([3,2,4]);\n",
        "print(a,b)"
      ],
      "execution_count": null,
      "outputs": []
    },
    {
      "cell_type": "code",
      "metadata": {
        "id": "REF1gQ1QMVWP"
      },
      "source": [
        "a*3"
      ],
      "execution_count": null,
      "outputs": []
    },
    {
      "cell_type": "code",
      "metadata": {
        "id": "oyd7a6dkMVWQ"
      },
      "source": [
        "a+b"
      ],
      "execution_count": null,
      "outputs": []
    },
    {
      "cell_type": "markdown",
      "metadata": {
        "id": "-8hTs2ZCMVWQ"
      },
      "source": [
        "## Python and Numpy"
      ]
    },
    {
      "cell_type": "code",
      "metadata": {
        "id": "sYnsFhsgNNzJ"
      },
      "source": [
        "import numpy as np"
      ],
      "execution_count": 8,
      "outputs": []
    },
    {
      "cell_type": "code",
      "metadata": {
        "id": "fYFJfXVQNE1W"
      },
      "source": [
        "a, b = 2, 3"
      ],
      "execution_count": 4,
      "outputs": []
    },
    {
      "cell_type": "code",
      "metadata": {
        "id": "FPrBeGLhMVWQ",
        "outputId": "e767fcf0-8923-4325-ec87-fe313c6e9116",
        "colab": {
          "base_uri": "https://localhost:8080/"
        }
      },
      "source": [
        "a*b"
      ],
      "execution_count": 5,
      "outputs": [
        {
          "output_type": "execute_result",
          "data": {
            "text/plain": [
              "6"
            ]
          },
          "metadata": {
            "tags": []
          },
          "execution_count": 5
        }
      ]
    },
    {
      "cell_type": "code",
      "metadata": {
        "id": "f4qEib0wMVWR",
        "outputId": "9f746887-0dae-4853-9df4-ba1371b7dc36",
        "colab": {
          "base_uri": "https://localhost:8080/"
        }
      },
      "source": [
        "a/b"
      ],
      "execution_count": 6,
      "outputs": [
        {
          "output_type": "execute_result",
          "data": {
            "text/plain": [
              "0.6666666666666666"
            ]
          },
          "metadata": {
            "tags": []
          },
          "execution_count": 6
        }
      ]
    },
    {
      "cell_type": "code",
      "metadata": {
        "id": "f6PgqMzfMVWR",
        "outputId": "3e3495dc-6220-4274-d09f-996e69c30fa6",
        "colab": {
          "base_uri": "https://localhost:8080/"
        }
      },
      "source": [
        "a = [[1,2,3,4,5], [4,5,6,7,8], [3,4,5,6,7]]\n",
        "a = np.array(a)\n",
        "a[1:3,1:4]"
      ],
      "execution_count": 9,
      "outputs": [
        {
          "output_type": "execute_result",
          "data": {
            "text/plain": [
              "array([[5, 6, 7],\n",
              "       [4, 5, 6]])"
            ]
          },
          "metadata": {
            "tags": []
          },
          "execution_count": 9
        }
      ]
    },
    {
      "cell_type": "markdown",
      "metadata": {
        "id": "JO3ViHitMVWR"
      },
      "source": [
        "## Zeros, Ones, Reshape"
      ]
    },
    {
      "cell_type": "code",
      "metadata": {
        "id": "PwLvhsqlMVWU"
      },
      "source": [
        "z = np.zeros((3, 4))\n",
        "print(z)\n",
        "\n",
        "o = np.ones( (2,3,4), dtype=np.int16 )  \n",
        "print(o)\n",
        "\n",
        "e = np.empty( (2,3) )\n",
        "print(e)"
      ],
      "execution_count": null,
      "outputs": []
    },
    {
      "cell_type": "code",
      "metadata": {
        "id": "rQOZl0vXMVWT"
      },
      "source": [
        "a = np.arange(15).reshape(3, 5)\n",
        "print(a.shape,a.ndim,a.dtype.name,a.itemsize,a.size,type(a))\n",
        "a"
      ],
      "execution_count": null,
      "outputs": []
    },
    {
      "cell_type": "code",
      "metadata": {
        "id": "Sb4_kPSiMVWT"
      },
      "source": [
        "b = np.array([(1.5,2,3), (4,5,6)])\n",
        "print(b.shape,b.ndim,b.dtype.name,b.itemsize,b.size,type(b))\n",
        "b"
      ],
      "execution_count": null,
      "outputs": []
    },
    {
      "cell_type": "code",
      "metadata": {
        "id": "ulQ1Y8LmMVWU"
      },
      "source": [
        ""
      ],
      "execution_count": null,
      "outputs": []
    }
  ]
}