{
 "cells": [
  {
   "cell_type": "markdown",
   "metadata": {},
   "source": [
    "# Graded Homework: Perceptron\n",
    "\n",
    "Prior this lecture session: Visit a neural network playground https://playground.tensorflow.org/ explore various network architectures"
   ]
  },
  {
   "cell_type": "code",
   "execution_count": null,
   "metadata": {},
   "outputs": [],
   "source": [
    "# import libraries\n",
    "import tensorflow as tf\n",
    "import numpy as np\n",
    "import matplotlib.pyplot as plt"
   ]
  },
  {
   "cell_type": "code",
   "execution_count": null,
   "metadata": {},
   "outputs": [],
   "source": [
    "# Generate data\n",
    "def gendata(n=1,t=\"AND\"):\n",
    "    d = []\n",
    "    if (t==\"AND\"):\n",
    "        d = [ [1,1,0,0]*n, [1,0,1,0]*n, [1,0,0,0]*n ]\n",
    "    if (t==\"OR\"):\n",
    "        d = [ [1,1,0,0]*n, [1,0,1,0]*n, [1,1,1,0]*n ]\n",
    "    #\n",
    "    d = np.array(d)\n",
    "    d = d.transpose()\n",
    "    d = d[np.random.permutation(4*n)]\n",
    "    X = d[:,:2]\n",
    "    y = d[:,2]\n",
    "    return (X,y)\n",
    "    \n",
    "    \n",
    "x_train,y_train = gendata(1000)\n",
    "x_test,y_test = gendata(1000)"
   ]
  },
  {
   "cell_type": "code",
   "execution_count": null,
   "metadata": {},
   "outputs": [],
   "source": [
    "print(x_train.shape,x_train.dtype, y_train.shape, y_train.dtype)"
   ]
  },
  {
   "cell_type": "markdown",
   "metadata": {},
   "source": [
    "## First Perceptron Model"
   ]
  },
  {
   "cell_type": "code",
   "execution_count": null,
   "metadata": {},
   "outputs": [],
   "source": [
    "# create a perceptron model using Keras Sequential model\n",
    "model = tf.keras.Sequential()\n",
    "# add layer, inpput and output here"
   ]
  },
  {
   "cell_type": "code",
   "execution_count": null,
   "metadata": {},
   "outputs": [],
   "source": [
    "# compile the model"
   ]
  },
  {
   "cell_type": "code",
   "execution_count": null,
   "metadata": {},
   "outputs": [],
   "source": [
    "# train the model"
   ]
  },
  {
   "cell_type": "code",
   "execution_count": null,
   "metadata": {},
   "outputs": [],
   "source": [
    "# display the weight"
   ]
  },
  {
   "cell_type": "markdown",
   "metadata": {},
   "source": [
    "## Questions\n",
    "\n",
    "1. Explain the perceptron, the input output and the 'Sigmoid' activation function\n",
    "2. Experiment with AND dataset, OR dataset and XOR dataset, discuss the dataset preparation and discuss the results\n",
    "3. Findout the weights of the trained model\n",
    "4. Search the Internet to find information about SGD, and MSE options\n",
    "5. Plot the model accuracy during training"
   ]
  },
  {
   "cell_type": "code",
   "execution_count": null,
   "metadata": {},
   "outputs": [],
   "source": []
  }
 ],
 "metadata": {
  "kernelspec": {
   "display_name": "Python 3",
   "language": "python",
   "name": "python3"
  },
  "language_info": {
   "codemirror_mode": {
    "name": "ipython",
    "version": 3
   },
   "file_extension": ".py",
   "mimetype": "text/x-python",
   "name": "python",
   "nbconvert_exporter": "python",
   "pygments_lexer": "ipython3",
   "version": "3.8.5"
  }
 },
 "nbformat": 4,
 "nbformat_minor": 4
}
