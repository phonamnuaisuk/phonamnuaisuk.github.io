{
 "cells": [
  {
   "cell_type": "markdown",
   "metadata": {},
   "source": [
    "## Programming in Python (40 mins)\n",
    "\n",
    "\n",
    "We will start with the most important function **help()**"
   ]
  },
  {
   "cell_type": "code",
   "execution_count": null,
   "metadata": {},
   "outputs": [],
   "source": [
    "help(str)"
   ]
  },
  {
   "cell_type": "markdown",
   "metadata": {},
   "source": [
    "### Data Structures: Set, List, Tuple, Dictionary, Matrix and Array"
   ]
  },
  {
   "cell_type": "code",
   "execution_count": null,
   "metadata": {},
   "outputs": [],
   "source": [
    "A = {1,2,3,5,7}\n",
    "print(type(A),'\\n',len(A))"
   ]
  },
  {
   "cell_type": "code",
   "execution_count": null,
   "metadata": {},
   "outputs": [],
   "source": [
    "A = set([1,2,3,4])\n",
    "print(A)\n",
    "B = set([3,4,5,6])\n",
    "print(B)\n",
    "print(A.union(B))\n",
    "print(A.intersection(B))\n",
    "print(A.difference(B))\n",
    "print(B.difference(A))\n",
    "A.add('a')\n",
    "print(A)\n",
    "A.update({1,'b'})\n",
    "print(A)\n",
    "A.remove(2)\n",
    "print(A)\n",
    "A.remove('a')\n",
    "print(A)"
   ]
  },
  {
   "cell_type": "code",
   "execution_count": null,
   "metadata": {},
   "outputs": [],
   "source": [
    "{x for x in range(-5,5) if x > 0}"
   ]
  },
  {
   "cell_type": "code",
   "execution_count": null,
   "metadata": {},
   "outputs": [],
   "source": [
    "L = [1,2,3,'a','b','c',1,2]\n",
    "print(L[0])\n",
    "print(L[-1])\n",
    "print(L.pop())\n",
    "print(L.append('x'),L)\n",
    "print(L.reverse(),L)\n",
    "print(len(L))\n",
    "L.insert(0,'A')\n",
    "L.insert(3,'B')\n",
    "print(L, len(L))"
   ]
  },
  {
   "cell_type": "code",
   "execution_count": null,
   "metadata": {},
   "outputs": [],
   "source": [
    "L = [8,3,-7,10,6]\n",
    "print(L.sort(),L)\n",
    "print(L[:3])\n",
    "print(max(L))\n",
    "print(min(L))"
   ]
  },
  {
   "cell_type": "code",
   "execution_count": null,
   "metadata": {},
   "outputs": [],
   "source": [
    "# tuple and list\n",
    "p = (1,2,3,4,5)\n",
    "q = (4,5,6,7,8)\n",
    "print(p+q)\n",
    "print( p[0], p[0:2], p[0:5:2])\n",
    "p = [1,2,3,4,5]\n",
    "q = [4,5,6,7,8]\n",
    "print(p+q)\n",
    "print( p[0], p[0:2], p[0:5:2])"
   ]
  },
  {
   "cell_type": "code",
   "execution_count": null,
   "metadata": {},
   "outputs": [],
   "source": [
    "fruits = ['orange', 'apple', 'pear', 'banana', 'kiwi', 'apple', 'banana']\n",
    "print(len(fruits))\n",
    "fruits.append('garlic')\n",
    "print(fruits)\n",
    "fruits.count('banana')\n",
    "fruits.reverse()\n",
    "print(fruits)\n",
    "print(fruits.pop())\n",
    "print(fruits)"
   ]
  },
  {
   "cell_type": "code",
   "execution_count": null,
   "metadata": {},
   "outputs": [],
   "source": [
    "D = {'a':'apple', 'b':'banana', 'c':3, 4:'d'}\n",
    "print(D['a'],D['c'],D[4])"
   ]
  },
  {
   "cell_type": "code",
   "execution_count": null,
   "metadata": {},
   "outputs": [],
   "source": [
    "M = [[1,2,3],[4,5,6]]\n",
    "N = [[7,8,9],[10,11,12]]\n",
    "M+N"
   ]
  },
  {
   "cell_type": "code",
   "execution_count": null,
   "metadata": {},
   "outputs": [],
   "source": [
    "import numpy as np\n",
    "M1 = np.array(M)\n",
    "N1 = np.array(N)\n",
    "M1*N1"
   ]
  },
  {
   "cell_type": "code",
   "execution_count": null,
   "metadata": {},
   "outputs": [],
   "source": [
    "np.dot(M1,np.transpose(N1))"
   ]
  },
  {
   "cell_type": "code",
   "execution_count": null,
   "metadata": {},
   "outputs": [],
   "source": [
    "np.dot(np.transpose(M1),N1)"
   ]
  },
  {
   "cell_type": "markdown",
   "metadata": {},
   "source": [
    "### Flow Chart, Control Flow and Control Structure\n",
    "\n",
    "- See https://en.wikipedia.org/wiki/Flowchart\n",
    "- See https://docs.python.org/3/tutorial/controlflow.html\n",
    "- Discuss the nature of control ones would expect from writing a computer program"
   ]
  },
  {
   "cell_type": "code",
   "execution_count": null,
   "metadata": {},
   "outputs": [],
   "source": [
    "def f1():\n",
    "    \"\"\"\n",
    "    add a lot of comment here\n",
    "    \"\"\"\n",
    "    # add one line coomment here\n",
    "    x = int(input(\"Please enter an integer: \"))\n",
    "    if x < 0:\n",
    "        x = 0\n",
    "        print('Negative changed to zero')\n",
    "    elif x == 0:\n",
    "        print('Zero')\n",
    "    elif x == 1:\n",
    "        print('Single')\n",
    "    else:\n",
    "        print('Higher than 1')\n",
    "    \n",
    "f1()    "
   ]
  },
  {
   "cell_type": "code",
   "execution_count": null,
   "metadata": {},
   "outputs": [],
   "source": [
    "def f2():\n",
    "    words = ['cat', 'window', 'defenestrate']\n",
    "    for w in words:\n",
    "        print(w, len(w), type(w))\n",
    "    \n",
    "f2()"
   ]
  },
  {
   "cell_type": "code",
   "execution_count": null,
   "metadata": {},
   "outputs": [],
   "source": [
    "def f3():\n",
    "    for num in range(2, 10):\n",
    "        if num % 2 == 0:\n",
    "            print(\"Found an even number\", num)\n",
    "            continue\n",
    "        print(\"Found a number\", num)\n",
    "    \n",
    "f3()"
   ]
  },
  {
   "cell_type": "code",
   "execution_count": null,
   "metadata": {},
   "outputs": [],
   "source": [
    "def f4(max):\n",
    "    n = max-1\n",
    "    if max == 2:\n",
    "        print(max, 'is a prime number')\n",
    "    else:\n",
    "        for n in range(2, max):\n",
    "            if max % n == 0:\n",
    "                print(max, 'is not prime')\n",
    "                break\n",
    "    if n==(max-1):\n",
    "        print(max, 'is a prime number')\n",
    "        \n",
    "f4(22)"
   ]
  },
  {
   "cell_type": "code",
   "execution_count": null,
   "metadata": {},
   "outputs": [],
   "source": [
    "def f5():\n",
    "    try:\n",
    "        1/0\n",
    "    except:\n",
    "        print( \"Divide by zero\" )\n",
    "    finally:\n",
    "        return 0/1\n",
    "    \n",
    "f5()"
   ]
  },
  {
   "cell_type": "markdown",
   "metadata": {},
   "source": [
    "### Built-in Math Functions"
   ]
  },
  {
   "cell_type": "code",
   "execution_count": null,
   "metadata": {},
   "outputs": [],
   "source": [
    "import math\n",
    "print( abs(-10), max([1,2,3,4,3,2,1]), min([1,2,3,4,3,2,1]) )\n",
    "print( math.e, math.pi )\n",
    "print( math.ceil(12/5), math.floor(12/5), math.exp(1), math.log(math.exp(10)), math.log10(10) )\n",
    "print( math.pow(2,3), math.sqrt(16) )"
   ]
  },
  {
   "cell_type": "code",
   "execution_count": null,
   "metadata": {},
   "outputs": [],
   "source": [
    "print(math.sin(0))\n",
    "print(math.cos(0))\n",
    "print(math.sin(math.pi))\n",
    "print(math.cos(math.pi/2))\n",
    "print(math.sin(math.pi/2))\n",
    "print(math.cos(math.pi))"
   ]
  },
  {
   "cell_type": "code",
   "execution_count": null,
   "metadata": {},
   "outputs": [],
   "source": [
    "import random\n",
    "print( random.random() )\n",
    "print( random.choice([1,2,3,4,5]) )\n",
    "print( random.randrange (-5,6) )\n",
    "a = [1,2,3,4,5]\n",
    "print( random.shuffle(a),a )"
   ]
  },
  {
   "cell_type": "markdown",
   "metadata": {},
   "source": [
    "## Object Oriented Programming \n",
    "\n",
    "All classes have a function called __init__(), which is always executed when the class is being initiated.\n",
    "\n",
    "Use the __init__() function to assign values to object properties, or other operations that are necessary to do when the object is being created."
   ]
  },
  {
   "cell_type": "code",
   "execution_count": null,
   "metadata": {},
   "outputs": [],
   "source": [
    "class A:\n",
    "    var1 = 12\n",
    "    var2 = 'bars'\n",
    "  \n",
    "a1 = A()\n",
    "a2 = A()\n",
    "print(a1.var1, a1.var2)\n",
    "print(a2.var1, a2.var2)\n",
    "a1.var1 = 'foo'\n",
    "a1.var2 = 12\n",
    "print(a1.var1, a1.var2)\n",
    "print(a2.var1, a2.var2)"
   ]
  },
  {
   "cell_type": "code",
   "execution_count": null,
   "metadata": {},
   "outputs": [],
   "source": [
    "class B:\n",
    "    def __init__(self):\n",
    "        self.var1 = 16\n",
    "        self.var2 = 'bars'\n",
    "  \n",
    "    def boo(self):\n",
    "        print(self.var1+1,'foo'+self.var2)\n",
    "  \n",
    "b1 = B()\n",
    "print(b1.var1, b1.var2)\n",
    "b1.boo()"
   ]
  },
  {
   "cell_type": "code",
   "execution_count": null,
   "metadata": {},
   "outputs": [],
   "source": [
    "class C(B):\n",
    "    def __init__(self):\n",
    "        super().__init__()\n",
    "        self.var3 = 144\n",
    "        self.var4 = 'bottles'\n",
    "  \n",
    "    def boom(self):\n",
    "        print(self.var3,self.var4)\n",
    "  \n",
    "c1 = C()\n",
    "print(c1.var1, c1.var2)\n",
    "print(c1.var3, c1.var4)\n",
    "c1.boo()\n",
    "c1.boom()"
   ]
  },
  {
   "cell_type": "code",
   "execution_count": null,
   "metadata": {},
   "outputs": [],
   "source": [
    "class D(A,C):\n",
    "    def __init__(self):\n",
    "        super().__init__()\n",
    "    \n",
    "d1 = D()\n",
    "print(d1.var1, d1.var2)\n",
    "d1.boo()\n",
    "d1.boom()"
   ]
  },
  {
   "cell_type": "markdown",
   "metadata": {},
   "source": [
    "### Excercise\n",
    "\n",
    "#### 1. Write a bubleSort program https://en.wikipedia.org/wiki/Bubble_sort\n",
    "    <code>\n",
    "    procedure bubbleSort(A : list of sortable items)\n",
    "        n := length(A)\n",
    "        repeat\n",
    "            swapped := false\n",
    "            for i := 1 to n-1 inclusive do\n",
    "                /* if this pair is out of order */\n",
    "                if A[i-1] > A[i] then\n",
    "                    /* swap them and remember something changed */\n",
    "                    swap(A[i-1], A[i])\n",
    "                    swapped := true\n",
    "                end if\n",
    "            end for\n",
    "        until not swapped\n",
    "    end procedure\n",
    "    </code>\n",
    "\n",
    "#### 2. Write a quickSort program https://en.wikipedia.org/wiki/Quicksort\n"
   ]
  },
  {
   "cell_type": "code",
   "execution_count": null,
   "metadata": {},
   "outputs": [],
   "source": [
    "def bubbleSort(arr):\n",
    "    n = len(arr)\n",
    "    for i in range(n):\n",
    "        for j in range(0, n-i-1):\n",
    "            #if (arr[j] > arr[j+1]):\n",
    "            #\n",
    "    return arr\n",
    "\n",
    "print(bubbleSort([3,6,8,10,1,2,1]))"
   ]
  },
  {
   "cell_type": "code",
   "execution_count": null,
   "metadata": {},
   "outputs": [],
   "source": [
    "def quickSort(arr):\n",
    "    if len(arr) <= 1:\n",
    "        return arr\n",
    "    # your code\n",
    "    #pivot = arr[0]\n",
    "    #left = ... element < pivot\n",
    "    #middle = [pivot]\n",
    "    #right =  ... element > pivot\n",
    "    return quickSort(left) + middle + quickSort(right)\n",
    "\n",
    "print(quickSort([3,6,8,10,1,2,1]))"
   ]
  },
  {
   "cell_type": "code",
   "execution_count": null,
   "metadata": {},
   "outputs": [],
   "source": [
    "quickSort([12,4,5,6,7,3,1,15])"
   ]
  },
  {
   "cell_type": "code",
   "execution_count": null,
   "metadata": {},
   "outputs": [],
   "source": []
  }
 ],
 "metadata": {
  "kernelspec": {
   "display_name": "Python 3",
   "language": "python",
   "name": "python3"
  },
  "language_info": {
   "codemirror_mode": {
    "name": "ipython",
    "version": 3
   },
   "file_extension": ".py",
   "mimetype": "text/x-python",
   "name": "python",
   "nbconvert_exporter": "python",
   "pygments_lexer": "ipython3",
   "version": "3.8.5"
  }
 },
 "nbformat": 4,
 "nbformat_minor": 4
}
