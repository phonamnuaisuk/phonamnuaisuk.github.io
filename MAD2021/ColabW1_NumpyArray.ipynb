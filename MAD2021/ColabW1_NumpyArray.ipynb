{
  "nbformat": 4,
  "nbformat_minor": 0,
  "metadata": {
    "anaconda-cloud": {},
    "kernelspec": {
      "display_name": "Python 3",
      "language": "python",
      "name": "python3"
    },
    "language_info": {
      "codemirror_mode": {
        "name": "ipython",
        "version": 3
      },
      "file_extension": ".py",
      "mimetype": "text/x-python",
      "name": "python",
      "nbconvert_exporter": "python",
      "pygments_lexer": "ipython3",
      "version": "3.8.5"
    },
    "colab": {
      "name": "ColabW1_NumpyArray.ipynb",
      "provenance": []
    }
  },
  "cells": [
    {
      "cell_type": "markdown",
      "metadata": {
        "id": "CUsgwsKJJiuJ"
      },
      "source": [
        "# The Basics of NumPy Arrays\n",
        "\n"
      ]
    },
    {
      "cell_type": "markdown",
      "metadata": {
        "id": "w4Yy1anLJiuN"
      },
      "source": [
        "## NumPy Array Attributes"
      ]
    },
    {
      "cell_type": "code",
      "metadata": {
        "id": "8gpj32U2JiuP",
        "outputId": "ca13a95a-3022-4fa7-86e2-234d744db889",
        "colab": {
          "base_uri": "https://localhost:8080/",
          "height": 35
        }
      },
      "source": [
        "import numpy\n",
        "numpy.__version__"
      ],
      "execution_count": 1,
      "outputs": [
        {
          "output_type": "execute_result",
          "data": {
            "application/vnd.google.colaboratory.intrinsic+json": {
              "type": "string"
            },
            "text/plain": [
              "'1.19.5'"
            ]
          },
          "metadata": {
            "tags": []
          },
          "execution_count": 1
        }
      ]
    },
    {
      "cell_type": "code",
      "metadata": {
        "id": "voeCU_B9JiuP"
      },
      "source": [
        "import numpy as np\n",
        "np.random.seed(0)  # seed for reproducibility\n",
        "\n",
        "x1 = np.random.randint(10, size=6)  # One-dimensional array\n",
        "x2 = np.random.randint(10, size=(3, 4))  # Two-dimensional array\n",
        "x3 = np.random.randint(10, size=(3, 4, 5))  # Three-dimensional array"
      ],
      "execution_count": 2,
      "outputs": []
    },
    {
      "cell_type": "code",
      "metadata": {
        "id": "6F9wZUT_JiuR",
        "outputId": "3c0252b8-e466-4cd3-ca37-7da618e585bb",
        "colab": {
          "base_uri": "https://localhost:8080/"
        }
      },
      "source": [
        "print(\"x3 ndim: \", x3.ndim)\n",
        "print(\"x3 shape:\", x3.shape)\n",
        "print(\"x3 size: \", x3.size)"
      ],
      "execution_count": 3,
      "outputs": [
        {
          "output_type": "stream",
          "text": [
            "x3 ndim:  3\n",
            "x3 shape: (3, 4, 5)\n",
            "x3 size:  60\n"
          ],
          "name": "stdout"
        }
      ]
    },
    {
      "cell_type": "markdown",
      "metadata": {
        "id": "34o5Ij6GJiuU"
      },
      "source": [
        "Another useful attribute is the ``dtype``, the data type of the array (which we discussed previously in [Understanding Data Types in Python](02.01-Understanding-Data-Types.ipynb)):"
      ]
    },
    {
      "cell_type": "code",
      "metadata": {
        "id": "2p3mjT8RJiuW",
        "outputId": "f68e88e9-96d2-494f-b68f-f01077485a4c",
        "colab": {
          "base_uri": "https://localhost:8080/"
        }
      },
      "source": [
        "print(\"dtype:\", x3.dtype)"
      ],
      "execution_count": 4,
      "outputs": [
        {
          "output_type": "stream",
          "text": [
            "dtype: int64\n"
          ],
          "name": "stdout"
        }
      ]
    },
    {
      "cell_type": "markdown",
      "metadata": {
        "id": "6khmVKoLJiuX"
      },
      "source": [
        "Other attributes include ``itemsize``, which lists the size (in bytes) of each array element, and ``nbytes``, which lists the total size (in bytes) of the array:"
      ]
    },
    {
      "cell_type": "code",
      "metadata": {
        "id": "hSU2cpmFJiuY",
        "outputId": "d028e797-c6d2-4db3-8910-e1d266ea74a7",
        "colab": {
          "base_uri": "https://localhost:8080/"
        }
      },
      "source": [
        "print(\"itemsize:\", x3.itemsize, \"bytes\")\n",
        "print(\"nbytes:\", x3.nbytes, \"bytes\")"
      ],
      "execution_count": 5,
      "outputs": [
        {
          "output_type": "stream",
          "text": [
            "itemsize: 8 bytes\n",
            "nbytes: 480 bytes\n"
          ],
          "name": "stdout"
        }
      ]
    },
    {
      "cell_type": "markdown",
      "metadata": {
        "id": "aoz3L6CvJiuY"
      },
      "source": [
        "In general, we expect that ``nbytes`` is equal to ``itemsize`` times ``size``."
      ]
    },
    {
      "cell_type": "markdown",
      "metadata": {
        "id": "hdoODBjuJiuZ"
      },
      "source": [
        "## Array Indexing: Accessing Single Elements"
      ]
    },
    {
      "cell_type": "code",
      "metadata": {
        "id": "bKamNi1EJiuZ",
        "outputId": "288cf270-a156-4d02-96bd-d9648b9e0724"
      },
      "source": [
        "x1"
      ],
      "execution_count": null,
      "outputs": [
        {
          "output_type": "execute_result",
          "data": {
            "text/plain": [
              "array([5, 0, 3, 3, 7, 9])"
            ]
          },
          "metadata": {
            "tags": []
          },
          "execution_count": 5
        }
      ]
    },
    {
      "cell_type": "code",
      "metadata": {
        "id": "tO59C1iWJiua",
        "outputId": "5b627d1d-a19b-4eab-df2d-b08aa6944741"
      },
      "source": [
        "x1[0]"
      ],
      "execution_count": null,
      "outputs": [
        {
          "output_type": "execute_result",
          "data": {
            "text/plain": [
              "5"
            ]
          },
          "metadata": {
            "tags": []
          },
          "execution_count": 6
        }
      ]
    },
    {
      "cell_type": "code",
      "metadata": {
        "id": "ezwN-TrCJiub",
        "outputId": "28c533b9-1bb8-48b0-90d8-04bccfdcc576"
      },
      "source": [
        "x1[4]"
      ],
      "execution_count": null,
      "outputs": [
        {
          "output_type": "execute_result",
          "data": {
            "text/plain": [
              "7"
            ]
          },
          "metadata": {
            "tags": []
          },
          "execution_count": 7
        }
      ]
    },
    {
      "cell_type": "markdown",
      "metadata": {
        "id": "WrpWgJToJiub"
      },
      "source": [
        "To index from the end of the array, you can use negative indices:"
      ]
    },
    {
      "cell_type": "code",
      "metadata": {
        "id": "p4c1RlZ2Jiub",
        "outputId": "61c52ee5-09f7-42e8-e09c-1b490f40d176"
      },
      "source": [
        "x1[-1]"
      ],
      "execution_count": null,
      "outputs": [
        {
          "output_type": "execute_result",
          "data": {
            "text/plain": [
              "9"
            ]
          },
          "metadata": {
            "tags": []
          },
          "execution_count": 8
        }
      ]
    },
    {
      "cell_type": "code",
      "metadata": {
        "id": "XMwqYj_fJiub",
        "outputId": "8d9533d8-e32d-4388-cc9f-f9f3dde4ce26"
      },
      "source": [
        "x1[-2]"
      ],
      "execution_count": null,
      "outputs": [
        {
          "output_type": "execute_result",
          "data": {
            "text/plain": [
              "7"
            ]
          },
          "metadata": {
            "tags": []
          },
          "execution_count": 9
        }
      ]
    },
    {
      "cell_type": "markdown",
      "metadata": {
        "id": "TU0YdUd6Jiub"
      },
      "source": [
        "In a multi-dimensional array, items can be accessed using a comma-separated tuple of indices:"
      ]
    },
    {
      "cell_type": "code",
      "metadata": {
        "id": "tojdfw6nJiuc",
        "outputId": "448c4884-5cd2-4849-845e-1ce5a4bcc57a"
      },
      "source": [
        "x2"
      ],
      "execution_count": null,
      "outputs": [
        {
          "output_type": "execute_result",
          "data": {
            "text/plain": [
              "array([[3, 5, 2, 4],\n",
              "       [7, 6, 8, 8],\n",
              "       [1, 6, 7, 7]])"
            ]
          },
          "metadata": {
            "tags": []
          },
          "execution_count": 10
        }
      ]
    },
    {
      "cell_type": "code",
      "metadata": {
        "id": "HwjqLxJmJiuc",
        "outputId": "ddbdf451-f697-4204-b3d5-f475f7ea4155"
      },
      "source": [
        "x2[0, 0]"
      ],
      "execution_count": null,
      "outputs": [
        {
          "output_type": "execute_result",
          "data": {
            "text/plain": [
              "3"
            ]
          },
          "metadata": {
            "tags": []
          },
          "execution_count": 11
        }
      ]
    },
    {
      "cell_type": "code",
      "metadata": {
        "id": "Yh_CkNCVJiud",
        "outputId": "5cc11a37-07a3-4419-a172-e23e4be815b5"
      },
      "source": [
        "x2[2, 0]"
      ],
      "execution_count": null,
      "outputs": [
        {
          "output_type": "execute_result",
          "data": {
            "text/plain": [
              "1"
            ]
          },
          "metadata": {
            "tags": []
          },
          "execution_count": 12
        }
      ]
    },
    {
      "cell_type": "code",
      "metadata": {
        "id": "vRml-ME4Jiue",
        "outputId": "665f60fe-ba5c-459d-f46e-dcd526dc4111"
      },
      "source": [
        "x2[2, -1]"
      ],
      "execution_count": null,
      "outputs": [
        {
          "output_type": "execute_result",
          "data": {
            "text/plain": [
              "7"
            ]
          },
          "metadata": {
            "tags": []
          },
          "execution_count": 13
        }
      ]
    },
    {
      "cell_type": "markdown",
      "metadata": {
        "id": "CpuOjAKbJiuf"
      },
      "source": [
        "Values can also be modified using any of the above index notation:"
      ]
    },
    {
      "cell_type": "code",
      "metadata": {
        "id": "i0EbfsgZJiuf",
        "outputId": "0ad80e1a-3ba7-4e31-f646-21f6fd81efef"
      },
      "source": [
        "x2[0, 0] = 12\n",
        "x2"
      ],
      "execution_count": null,
      "outputs": [
        {
          "output_type": "execute_result",
          "data": {
            "text/plain": [
              "array([[12,  5,  2,  4],\n",
              "       [ 7,  6,  8,  8],\n",
              "       [ 1,  6,  7,  7]])"
            ]
          },
          "metadata": {
            "tags": []
          },
          "execution_count": 14
        }
      ]
    },
    {
      "cell_type": "code",
      "metadata": {
        "id": "zvgDKlaOJiuf",
        "outputId": "da7d4f3e-863b-4602-ab70-07ddf1d2957a"
      },
      "source": [
        "x1[0] = 3.14159  # this will be truncated!\n",
        "x1"
      ],
      "execution_count": null,
      "outputs": [
        {
          "output_type": "execute_result",
          "data": {
            "text/plain": [
              "array([3, 0, 3, 3, 7, 9])"
            ]
          },
          "metadata": {
            "tags": []
          },
          "execution_count": 15
        }
      ]
    },
    {
      "cell_type": "markdown",
      "metadata": {
        "id": "Fl01X0_ZJiug"
      },
      "source": [
        "## Array Slicing: Accessing Subarrays"
      ]
    },
    {
      "cell_type": "markdown",
      "metadata": {
        "id": "mhdAmJEOJiug"
      },
      "source": [
        "Just as we can use square brackets to access individual array elements, we can also use them to access subarrays with the *slice* notation, marked by the colon (``:``) character.\n",
        "The NumPy slicing syntax follows that of the standard Python list; to access a slice of an array ``x``, use this:\n",
        "``` python\n",
        "x[start:stop:step]\n",
        "```\n",
        "If any of these are unspecified, they default to the values ``start=0``, ``stop=``*``size of dimension``*, ``step=1``.\n",
        "We'll take a look at accessing sub-arrays in one dimension and in multiple dimensions."
      ]
    },
    {
      "cell_type": "markdown",
      "metadata": {
        "id": "QlqRr7CxJiuh"
      },
      "source": [
        "### One-dimensional subarrays"
      ]
    },
    {
      "cell_type": "code",
      "metadata": {
        "id": "qYx65UJ-Jiuh",
        "outputId": "78175f09-f784-448c-d91c-f31b7feff093"
      },
      "source": [
        "x = np.arange(10)\n",
        "x"
      ],
      "execution_count": null,
      "outputs": [
        {
          "output_type": "execute_result",
          "data": {
            "text/plain": [
              "array([0, 1, 2, 3, 4, 5, 6, 7, 8, 9])"
            ]
          },
          "metadata": {
            "tags": []
          },
          "execution_count": 16
        }
      ]
    },
    {
      "cell_type": "code",
      "metadata": {
        "id": "O7gjzuQaJiuh",
        "outputId": "14b90517-638e-4f29-ec98-b4af1d02c683"
      },
      "source": [
        "x[:5]  # first five elements"
      ],
      "execution_count": null,
      "outputs": [
        {
          "output_type": "execute_result",
          "data": {
            "text/plain": [
              "array([0, 1, 2, 3, 4])"
            ]
          },
          "metadata": {
            "tags": []
          },
          "execution_count": 17
        }
      ]
    },
    {
      "cell_type": "code",
      "metadata": {
        "id": "bcSV-j8mJiui",
        "outputId": "befd16f1-fec3-43b2-e323-c2e4e2ec1174"
      },
      "source": [
        "x[5:]  # elements after index 5"
      ],
      "execution_count": null,
      "outputs": [
        {
          "output_type": "execute_result",
          "data": {
            "text/plain": [
              "array([5, 6, 7, 8, 9])"
            ]
          },
          "metadata": {
            "tags": []
          },
          "execution_count": 18
        }
      ]
    },
    {
      "cell_type": "code",
      "metadata": {
        "id": "TAagC4fTJiui",
        "outputId": "c07eec76-1ab7-41d4-f910-e48aa89009e1"
      },
      "source": [
        "x[4:7]  # middle sub-array"
      ],
      "execution_count": null,
      "outputs": [
        {
          "output_type": "execute_result",
          "data": {
            "text/plain": [
              "array([4, 5, 6])"
            ]
          },
          "metadata": {
            "tags": []
          },
          "execution_count": 19
        }
      ]
    },
    {
      "cell_type": "code",
      "metadata": {
        "id": "aEYW620HJiuj",
        "outputId": "0f8fd749-2b9e-41c6-cd66-ef4680c5e461"
      },
      "source": [
        "x[::2]  # every other element"
      ],
      "execution_count": null,
      "outputs": [
        {
          "output_type": "execute_result",
          "data": {
            "text/plain": [
              "array([0, 2, 4, 6, 8])"
            ]
          },
          "metadata": {
            "tags": []
          },
          "execution_count": 20
        }
      ]
    },
    {
      "cell_type": "code",
      "metadata": {
        "id": "TzwEzbLxJiuj",
        "outputId": "2a4af9b5-776e-4297-e339-6cecb3d73623"
      },
      "source": [
        "x[1::2]  # every other element, starting at index 1"
      ],
      "execution_count": null,
      "outputs": [
        {
          "output_type": "execute_result",
          "data": {
            "text/plain": [
              "array([1, 3, 5, 7, 9])"
            ]
          },
          "metadata": {
            "tags": []
          },
          "execution_count": 21
        }
      ]
    },
    {
      "cell_type": "markdown",
      "metadata": {
        "id": "N7Hl5LQLJiuk"
      },
      "source": [
        "A potentially confusing case is when the ``step`` value is negative.\n",
        "In this case, the defaults for ``start`` and ``stop`` are swapped.\n",
        "This becomes a convenient way to reverse an array:"
      ]
    },
    {
      "cell_type": "code",
      "metadata": {
        "id": "D1ybrTofJiuk",
        "outputId": "f53102b3-e035-464e-beeb-d94aa08f29c5"
      },
      "source": [
        "x[::-1]  # all elements, reversed"
      ],
      "execution_count": null,
      "outputs": [
        {
          "output_type": "execute_result",
          "data": {
            "text/plain": [
              "array([9, 8, 7, 6, 5, 4, 3, 2, 1, 0])"
            ]
          },
          "metadata": {
            "tags": []
          },
          "execution_count": 22
        }
      ]
    },
    {
      "cell_type": "code",
      "metadata": {
        "id": "LZCIIEpfJiuk",
        "outputId": "eca5f300-2ff7-4bbd-ab9d-dfb595d6760e"
      },
      "source": [
        "x[5::-2]  # reversed every other from index 5"
      ],
      "execution_count": null,
      "outputs": [
        {
          "output_type": "execute_result",
          "data": {
            "text/plain": [
              "array([5, 3, 1])"
            ]
          },
          "metadata": {
            "tags": []
          },
          "execution_count": 23
        }
      ]
    },
    {
      "cell_type": "markdown",
      "metadata": {
        "id": "xvxiaQpOJiul"
      },
      "source": [
        "### Multi-dimensional subarrays\n",
        "\n",
        "Multi-dimensional slices work in the same way, with multiple slices separated by commas.\n",
        "For example:"
      ]
    },
    {
      "cell_type": "code",
      "metadata": {
        "id": "Xuw34YX2Jiul",
        "outputId": "36cb0843-e14b-4f99-8636-805a9b36a309"
      },
      "source": [
        "x2"
      ],
      "execution_count": null,
      "outputs": [
        {
          "output_type": "execute_result",
          "data": {
            "text/plain": [
              "array([[12,  5,  2,  4],\n",
              "       [ 7,  6,  8,  8],\n",
              "       [ 1,  6,  7,  7]])"
            ]
          },
          "metadata": {
            "tags": []
          },
          "execution_count": 24
        }
      ]
    },
    {
      "cell_type": "code",
      "metadata": {
        "id": "ERMXpK3TJium",
        "outputId": "ca26bea0-199b-4c50-aa8e-7d3d57f8b79d"
      },
      "source": [
        "x2[:2, :3]  # two rows, three columns"
      ],
      "execution_count": null,
      "outputs": [
        {
          "output_type": "execute_result",
          "data": {
            "text/plain": [
              "array([[12,  5,  2],\n",
              "       [ 7,  6,  8]])"
            ]
          },
          "metadata": {
            "tags": []
          },
          "execution_count": 25
        }
      ]
    },
    {
      "cell_type": "code",
      "metadata": {
        "id": "MM1earCcJium",
        "outputId": "7d549045-21d4-42d8-932b-c2615d0543e1"
      },
      "source": [
        "x2[:3, ::2]  # all rows, every other column"
      ],
      "execution_count": null,
      "outputs": [
        {
          "output_type": "execute_result",
          "data": {
            "text/plain": [
              "array([[12,  2],\n",
              "       [ 7,  8],\n",
              "       [ 1,  7]])"
            ]
          },
          "metadata": {
            "tags": []
          },
          "execution_count": 26
        }
      ]
    },
    {
      "cell_type": "markdown",
      "metadata": {
        "id": "bjtgYP2xJium"
      },
      "source": [
        "Finally, subarray dimensions can even be reversed together:"
      ]
    },
    {
      "cell_type": "code",
      "metadata": {
        "id": "Nq0Zz6Q_Jiun",
        "outputId": "fd1b1e76-ffaa-4593-f44d-4ef307323762"
      },
      "source": [
        "x2[::-1, ::-1]"
      ],
      "execution_count": null,
      "outputs": [
        {
          "output_type": "execute_result",
          "data": {
            "text/plain": [
              "array([[ 7,  7,  6,  1],\n",
              "       [ 8,  8,  6,  7],\n",
              "       [ 4,  2,  5, 12]])"
            ]
          },
          "metadata": {
            "tags": []
          },
          "execution_count": 27
        }
      ]
    },
    {
      "cell_type": "markdown",
      "metadata": {
        "id": "_W7PT3qYJiun"
      },
      "source": [
        "#### Accessing array rows and columns\n",
        "\n",
        "One commonly needed routine is accessing of single rows or columns of an array.\n",
        "This can be done by combining indexing and slicing, using an empty slice marked by a single colon (``:``):"
      ]
    },
    {
      "cell_type": "code",
      "metadata": {
        "id": "Tl0nZZeIJiuo",
        "outputId": "b1c3d257-160b-4bc6-fd93-3aa7f1dcc592"
      },
      "source": [
        "print(x2[:, 0])  # first column of x2"
      ],
      "execution_count": null,
      "outputs": [
        {
          "output_type": "stream",
          "text": [
            "[12  7  1]\n"
          ],
          "name": "stdout"
        }
      ]
    },
    {
      "cell_type": "code",
      "metadata": {
        "id": "wXSx-l42Jiuo",
        "outputId": "71559e27-0b25-48eb-97a6-9a3a393e58c0"
      },
      "source": [
        "print(x2[0, :])  # first row of x2"
      ],
      "execution_count": null,
      "outputs": [
        {
          "output_type": "stream",
          "text": [
            "[12  5  2  4]\n"
          ],
          "name": "stdout"
        }
      ]
    },
    {
      "cell_type": "markdown",
      "metadata": {
        "id": "Au2b93LHJiup"
      },
      "source": [
        "In the case of row access, the empty slice can be omitted for a more compact syntax:"
      ]
    },
    {
      "cell_type": "code",
      "metadata": {
        "id": "QGeY0vhZJiup",
        "outputId": "4c937850-f3d7-45b8-c9fa-417baa78e57f"
      },
      "source": [
        "print(x2[0])  # equivalent to x2[0, :]"
      ],
      "execution_count": null,
      "outputs": [
        {
          "output_type": "stream",
          "text": [
            "[12  5  2  4]\n"
          ],
          "name": "stdout"
        }
      ]
    },
    {
      "cell_type": "markdown",
      "metadata": {
        "id": "6wx25V1LJiup"
      },
      "source": [
        "### Subarrays as no-copy views\n",
        "\n",
        "One important–and extremely useful–thing to know about array slices is that they return *views* rather than *copies* of the array data.\n",
        "This is one area in which NumPy array slicing differs from Python list slicing: in lists, slices will be copies.\n",
        "Consider our two-dimensional array from before:"
      ]
    },
    {
      "cell_type": "code",
      "metadata": {
        "id": "R8Zq2LmrJiuq",
        "outputId": "fca288c5-318c-44ee-8206-7211c9ec554e"
      },
      "source": [
        "print(x2)"
      ],
      "execution_count": null,
      "outputs": [
        {
          "output_type": "stream",
          "text": [
            "[[12  5  2  4]\n",
            " [ 7  6  8  8]\n",
            " [ 1  6  7  7]]\n"
          ],
          "name": "stdout"
        }
      ]
    },
    {
      "cell_type": "markdown",
      "metadata": {
        "id": "1bhltuXBJiuq"
      },
      "source": [
        "Let's extract a $2 \\times 2$ subarray from this:"
      ]
    },
    {
      "cell_type": "code",
      "metadata": {
        "id": "Rw0aTU8YJiur",
        "outputId": "ff31d3e2-340f-4ac9-8668-e963344687d2"
      },
      "source": [
        "x2_sub = x2[:2, :2]\n",
        "print(x2_sub)"
      ],
      "execution_count": null,
      "outputs": [
        {
          "output_type": "stream",
          "text": [
            "[[12  5]\n",
            " [ 7  6]]\n"
          ],
          "name": "stdout"
        }
      ]
    },
    {
      "cell_type": "markdown",
      "metadata": {
        "id": "6NhS6cKkJiur"
      },
      "source": [
        "Now if we modify this subarray, we'll see that the original array is changed! Observe:"
      ]
    },
    {
      "cell_type": "code",
      "metadata": {
        "id": "qQPbTnzuJiur",
        "outputId": "7e2399b8-3371-4ffb-e0bd-e1cdd7d96006"
      },
      "source": [
        "x2_sub[0, 0] = 99\n",
        "print(x2_sub)"
      ],
      "execution_count": null,
      "outputs": [
        {
          "output_type": "stream",
          "text": [
            "[[99  5]\n",
            " [ 7  6]]\n"
          ],
          "name": "stdout"
        }
      ]
    },
    {
      "cell_type": "code",
      "metadata": {
        "id": "tnRe6QE-Jiur",
        "outputId": "0b1f24fd-d5e1-4345-8f86-54c7ea0996d8"
      },
      "source": [
        "print(x2)"
      ],
      "execution_count": null,
      "outputs": [
        {
          "output_type": "stream",
          "text": [
            "[[99  5  2  4]\n",
            " [ 7  6  8  8]\n",
            " [ 1  6  7  7]]\n"
          ],
          "name": "stdout"
        }
      ]
    },
    {
      "cell_type": "markdown",
      "metadata": {
        "id": "RBkiy6GGJiur"
      },
      "source": [
        "This default behavior is actually quite useful: it means that when we work with large datasets, we can access and process pieces of these datasets without the need to copy the underlying data buffer."
      ]
    },
    {
      "cell_type": "markdown",
      "metadata": {
        "id": "7YkMbYvMJius"
      },
      "source": [
        "### Creating copies of arrays\n",
        "\n",
        "Despite the nice features of array views, it is sometimes useful to instead explicitly copy the data within an array or a subarray. This can be most easily done with the ``copy()`` method:"
      ]
    },
    {
      "cell_type": "code",
      "metadata": {
        "id": "dauT0wlgJius",
        "outputId": "79766ec0-d77d-4a7e-8956-caa126507651"
      },
      "source": [
        "x2_sub_copy = x2[:2, :2].copy()\n",
        "print(x2_sub_copy)"
      ],
      "execution_count": null,
      "outputs": [
        {
          "output_type": "stream",
          "text": [
            "[[99  5]\n",
            " [ 7  6]]\n"
          ],
          "name": "stdout"
        }
      ]
    },
    {
      "cell_type": "markdown",
      "metadata": {
        "id": "kcdvSidGJius"
      },
      "source": [
        "If we now modify this subarray, the original array is not touched:"
      ]
    },
    {
      "cell_type": "code",
      "metadata": {
        "id": "3pPUL-tBJiut",
        "outputId": "13fc5d79-9811-43fe-d8ca-d7383ffc133a"
      },
      "source": [
        "x2_sub_copy[0, 0] = 42\n",
        "print(x2_sub_copy)"
      ],
      "execution_count": null,
      "outputs": [
        {
          "output_type": "stream",
          "text": [
            "[[42  5]\n",
            " [ 7  6]]\n"
          ],
          "name": "stdout"
        }
      ]
    },
    {
      "cell_type": "code",
      "metadata": {
        "id": "LbVxe12VJiut",
        "outputId": "8e51d1c8-001b-4147-b80a-b95bd62518ed"
      },
      "source": [
        "print(x2)"
      ],
      "execution_count": null,
      "outputs": [
        {
          "output_type": "stream",
          "text": [
            "[[99  5  2  4]\n",
            " [ 7  6  8  8]\n",
            " [ 1  6  7  7]]\n"
          ],
          "name": "stdout"
        }
      ]
    },
    {
      "cell_type": "markdown",
      "metadata": {
        "id": "z8phe-E8Jiut"
      },
      "source": [
        "## Reshaping of Arrays\n",
        "\n",
        "Another useful type of operation is reshaping of arrays.\n",
        "The most flexible way of doing this is with the ``reshape`` method.\n",
        "For example, if you want to put the numbers 1 through 9 in a $3 \\times 3$ grid, you can do the following:"
      ]
    },
    {
      "cell_type": "code",
      "metadata": {
        "id": "LB4v6t6jJiut",
        "outputId": "80e07ab2-2a97-4eda-f350-6e6042154a52"
      },
      "source": [
        "grid = np.arange(1, 10).reshape((3, 3))\n",
        "print(grid)"
      ],
      "execution_count": null,
      "outputs": [
        {
          "output_type": "stream",
          "text": [
            "[[1 2 3]\n",
            " [4 5 6]\n",
            " [7 8 9]]\n"
          ],
          "name": "stdout"
        }
      ]
    },
    {
      "cell_type": "markdown",
      "metadata": {
        "id": "YSStgWYDJiuu"
      },
      "source": [
        "Note that for this to work, the size of the initial array must match the size of the reshaped array. \n",
        "Where possible, the ``reshape`` method will use a no-copy view of the initial array, but with non-contiguous memory buffers this is not always the case.\n",
        "\n",
        "Another common reshaping pattern is the conversion of a one-dimensional array into a two-dimensional row or column matrix.\n",
        "This can be done with the ``reshape`` method, or more easily done by making use of the ``newaxis`` keyword within a slice operation:"
      ]
    },
    {
      "cell_type": "code",
      "metadata": {
        "id": "jS-7bK9wJiuu",
        "outputId": "44409c1f-d7bc-4821-819c-37edfeeda353"
      },
      "source": [
        "x = np.array([1, 2, 3])\n",
        "\n",
        "# row vector via reshape\n",
        "x.reshape((1, 3))"
      ],
      "execution_count": null,
      "outputs": [
        {
          "output_type": "execute_result",
          "data": {
            "text/plain": [
              "array([[1, 2, 3]])"
            ]
          },
          "metadata": {
            "tags": []
          },
          "execution_count": 39
        }
      ]
    },
    {
      "cell_type": "code",
      "metadata": {
        "id": "VMdlntSlJiuu",
        "outputId": "34870be8-95d6-44d5-cd2d-628f17c08591"
      },
      "source": [
        "# row vector via newaxis\n",
        "x[np.newaxis, :]"
      ],
      "execution_count": null,
      "outputs": [
        {
          "output_type": "execute_result",
          "data": {
            "text/plain": [
              "array([[1, 2, 3]])"
            ]
          },
          "metadata": {
            "tags": []
          },
          "execution_count": 40
        }
      ]
    },
    {
      "cell_type": "code",
      "metadata": {
        "id": "Mps2rWovJiuu",
        "outputId": "86808406-f3cb-4869-ac4a-daf637dd3bf4"
      },
      "source": [
        "# column vector via reshape\n",
        "x.reshape((3, 1))"
      ],
      "execution_count": null,
      "outputs": [
        {
          "output_type": "execute_result",
          "data": {
            "text/plain": [
              "array([[1],\n",
              "       [2],\n",
              "       [3]])"
            ]
          },
          "metadata": {
            "tags": []
          },
          "execution_count": 41
        }
      ]
    },
    {
      "cell_type": "code",
      "metadata": {
        "id": "QDtfSrxnJiuv",
        "outputId": "e3664253-2c00-41b9-96f5-ebfc5d2c2bd6"
      },
      "source": [
        "# column vector via newaxis\n",
        "x[:, np.newaxis]"
      ],
      "execution_count": null,
      "outputs": [
        {
          "output_type": "execute_result",
          "data": {
            "text/plain": [
              "array([[1],\n",
              "       [2],\n",
              "       [3]])"
            ]
          },
          "metadata": {
            "tags": []
          },
          "execution_count": 42
        }
      ]
    },
    {
      "cell_type": "markdown",
      "metadata": {
        "id": "-MdOfMPaJiuv"
      },
      "source": [
        "We will see this type of transformation often throughout the remainder of the book."
      ]
    },
    {
      "cell_type": "markdown",
      "metadata": {
        "id": "1kPL526aJiuw"
      },
      "source": [
        "## Array Concatenation and Splitting\n",
        "\n",
        "All of the preceding routines worked on single arrays. It's also possible to combine multiple arrays into one, and to conversely split a single array into multiple arrays. We'll take a look at those operations here."
      ]
    },
    {
      "cell_type": "markdown",
      "metadata": {
        "id": "0rI5vCDPJiuw"
      },
      "source": [
        "### Concatenation of arrays\n",
        "\n",
        "Concatenation, or joining of two arrays in NumPy, is primarily accomplished using the routines ``np.concatenate``, ``np.vstack``, and ``np.hstack``.\n",
        "``np.concatenate`` takes a tuple or list of arrays as its first argument, as we can see here:"
      ]
    },
    {
      "cell_type": "code",
      "metadata": {
        "id": "VFDEeTDvJiuw",
        "outputId": "90096ed4-9e34-47de-b82c-19b3b4df2c2c"
      },
      "source": [
        "x = np.array([1, 2, 3])\n",
        "y = np.array([3, 2, 1])\n",
        "np.concatenate([x, y])"
      ],
      "execution_count": null,
      "outputs": [
        {
          "output_type": "execute_result",
          "data": {
            "text/plain": [
              "array([1, 2, 3, 3, 2, 1])"
            ]
          },
          "metadata": {
            "tags": []
          },
          "execution_count": 43
        }
      ]
    },
    {
      "cell_type": "markdown",
      "metadata": {
        "id": "WrujL26OJiux"
      },
      "source": [
        "You can also concatenate more than two arrays at once:"
      ]
    },
    {
      "cell_type": "code",
      "metadata": {
        "id": "K5dsfuAWJiux",
        "outputId": "e35545d2-b479-422b-83b9-8100b47a6825"
      },
      "source": [
        "z = [99, 99, 99]\n",
        "print(np.concatenate([x, y, z]))"
      ],
      "execution_count": null,
      "outputs": [
        {
          "output_type": "stream",
          "text": [
            "[ 1  2  3  3  2  1 99 99 99]\n"
          ],
          "name": "stdout"
        }
      ]
    },
    {
      "cell_type": "markdown",
      "metadata": {
        "id": "2iNYea4mJiux"
      },
      "source": [
        "It can also be used for two-dimensional arrays:"
      ]
    },
    {
      "cell_type": "code",
      "metadata": {
        "id": "S0Z06rOfJiux"
      },
      "source": [
        "grid = np.array([[1, 2, 3],\n",
        "                 [4, 5, 6]])"
      ],
      "execution_count": null,
      "outputs": []
    },
    {
      "cell_type": "code",
      "metadata": {
        "id": "XFz5FJQGJiux",
        "outputId": "cd4dde19-384e-4872-d1fd-3470b40e94f9"
      },
      "source": [
        "# concatenate along the first axis\n",
        "np.concatenate([grid, grid])"
      ],
      "execution_count": null,
      "outputs": [
        {
          "output_type": "execute_result",
          "data": {
            "text/plain": [
              "array([[1, 2, 3],\n",
              "       [4, 5, 6],\n",
              "       [1, 2, 3],\n",
              "       [4, 5, 6]])"
            ]
          },
          "metadata": {
            "tags": []
          },
          "execution_count": 46
        }
      ]
    },
    {
      "cell_type": "code",
      "metadata": {
        "id": "TABkZFfcJiux",
        "outputId": "240039a1-ac73-4edc-ef4f-40d3456a3409"
      },
      "source": [
        "# concatenate along the second axis (zero-indexed)\n",
        "np.concatenate([grid, grid], axis=1)"
      ],
      "execution_count": null,
      "outputs": [
        {
          "output_type": "execute_result",
          "data": {
            "text/plain": [
              "array([[1, 2, 3, 1, 2, 3],\n",
              "       [4, 5, 6, 4, 5, 6]])"
            ]
          },
          "metadata": {
            "tags": []
          },
          "execution_count": 47
        }
      ]
    },
    {
      "cell_type": "markdown",
      "metadata": {
        "id": "j-gdv9gMJiux"
      },
      "source": [
        "For working with arrays of mixed dimensions, it can be clearer to use the ``np.vstack`` (vertical stack) and ``np.hstack`` (horizontal stack) functions:"
      ]
    },
    {
      "cell_type": "code",
      "metadata": {
        "id": "JPL0oV-kJiuy",
        "outputId": "c80af3fb-9d1f-404b-c2c7-85b1a6cf8e9d"
      },
      "source": [
        "x = np.array([1, 2, 3])\n",
        "grid = np.array([[9, 8, 7],\n",
        "                 [6, 5, 4]])\n",
        "\n",
        "# vertically stack the arrays\n",
        "np.vstack([x, grid])"
      ],
      "execution_count": null,
      "outputs": [
        {
          "output_type": "execute_result",
          "data": {
            "text/plain": [
              "array([[1, 2, 3],\n",
              "       [9, 8, 7],\n",
              "       [6, 5, 4]])"
            ]
          },
          "metadata": {
            "tags": []
          },
          "execution_count": 48
        }
      ]
    },
    {
      "cell_type": "code",
      "metadata": {
        "id": "58yLq8XQJiuy",
        "outputId": "e6c46d1e-a260-4308-ebaa-23be27045d57"
      },
      "source": [
        "# horizontally stack the arrays\n",
        "y = np.array([[99],\n",
        "              [99]])\n",
        "np.hstack([grid, y])"
      ],
      "execution_count": null,
      "outputs": [
        {
          "output_type": "execute_result",
          "data": {
            "text/plain": [
              "array([[ 9,  8,  7, 99],\n",
              "       [ 6,  5,  4, 99]])"
            ]
          },
          "metadata": {
            "tags": []
          },
          "execution_count": 49
        }
      ]
    },
    {
      "cell_type": "markdown",
      "metadata": {
        "id": "InTvW6WjJiuz"
      },
      "source": [
        "Similary, ``np.dstack`` will stack arrays along the third axis."
      ]
    },
    {
      "cell_type": "markdown",
      "metadata": {
        "id": "o1ryQCSqJiuz"
      },
      "source": [
        "### Splitting of arrays\n",
        "\n",
        "The opposite of concatenation is splitting, which is implemented by the functions ``np.split``, ``np.hsplit``, and ``np.vsplit``.  For each of these, we can pass a list of indices giving the split points:"
      ]
    },
    {
      "cell_type": "code",
      "metadata": {
        "id": "_lubplFoJiuz",
        "outputId": "0cd13f16-c3c2-45ee-b8e7-8fc591fc8388"
      },
      "source": [
        "x = [1, 2, 3, 99, 99, 3, 2, 1]\n",
        "x1, x2, x3 = np.split(x, [3, 5])\n",
        "print(x1, x2, x3)"
      ],
      "execution_count": null,
      "outputs": [
        {
          "output_type": "stream",
          "text": [
            "[1 2 3] [99 99] [3 2 1]\n"
          ],
          "name": "stdout"
        }
      ]
    },
    {
      "cell_type": "markdown",
      "metadata": {
        "id": "ZTx6VBJiJiuz"
      },
      "source": [
        "Notice that *N* split-points, leads to *N + 1* subarrays.\n",
        "The related functions ``np.hsplit`` and ``np.vsplit`` are similar:"
      ]
    },
    {
      "cell_type": "code",
      "metadata": {
        "id": "FnKaaYKnJiu0",
        "outputId": "449e91e8-cc3f-459e-bfe3-faae317e1284"
      },
      "source": [
        "grid = np.arange(16).reshape((4, 4))\n",
        "grid"
      ],
      "execution_count": null,
      "outputs": [
        {
          "output_type": "execute_result",
          "data": {
            "text/plain": [
              "array([[ 0,  1,  2,  3],\n",
              "       [ 4,  5,  6,  7],\n",
              "       [ 8,  9, 10, 11],\n",
              "       [12, 13, 14, 15]])"
            ]
          },
          "metadata": {
            "tags": []
          },
          "execution_count": 51
        }
      ]
    },
    {
      "cell_type": "code",
      "metadata": {
        "id": "T6MI5jBKJiu0",
        "outputId": "c832ba0f-e4f0-4179-b6c1-8b522787b685"
      },
      "source": [
        "upper, lower = np.vsplit(grid, [2])\n",
        "print(upper)\n",
        "print(lower)"
      ],
      "execution_count": null,
      "outputs": [
        {
          "output_type": "stream",
          "text": [
            "[[0 1 2 3]\n",
            " [4 5 6 7]]\n",
            "[[ 8  9 10 11]\n",
            " [12 13 14 15]]\n"
          ],
          "name": "stdout"
        }
      ]
    },
    {
      "cell_type": "code",
      "metadata": {
        "id": "Qbn6NfzdJiu0",
        "outputId": "312eeaec-463c-4810-f3e5-9956af72dc8f"
      },
      "source": [
        "left, right = np.hsplit(grid, [2])\n",
        "print(left)\n",
        "print(right)"
      ],
      "execution_count": null,
      "outputs": [
        {
          "output_type": "stream",
          "text": [
            "[[ 0  1]\n",
            " [ 4  5]\n",
            " [ 8  9]\n",
            " [12 13]]\n",
            "[[ 2  3]\n",
            " [ 6  7]\n",
            " [10 11]\n",
            " [14 15]]\n"
          ],
          "name": "stdout"
        }
      ]
    },
    {
      "cell_type": "markdown",
      "metadata": {
        "id": "N5fB1iSLJiu1"
      },
      "source": [
        "Similarly, ``np.dsplit`` will split arrays along the third axis."
      ]
    }
  ]
}