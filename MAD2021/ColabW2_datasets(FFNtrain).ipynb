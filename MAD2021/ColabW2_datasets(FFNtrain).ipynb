{
 "cells": [
  {
   "cell_type": "markdown",
   "metadata": {},
   "source": [
    "# Datasets\n",
    "\n",
    "## Preprocessing and Features representation"
   ]
  },
  {
   "cell_type": "code",
   "execution_count": 1,
   "metadata": {},
   "outputs": [],
   "source": [
    "import pandas as pd\n",
    "import numpy as np\n",
    "import matplotlib.pyplot as plt\n",
    "from sklearn.datasets import load_iris\n",
    "\n",
    "# Make numpy values easier to read.\n",
    "np.set_printoptions(precision=3, suppress=True)\n",
    "\n",
    "import tensorflow as tf\n",
    "from tensorflow.keras import layers\n",
    "from tensorflow.keras.layers.experimental import preprocessing"
   ]
  },
  {
   "cell_type": "markdown",
   "metadata": {},
   "source": [
    "## Iris Dataset"
   ]
  },
  {
   "cell_type": "code",
   "execution_count": 2,
   "metadata": {},
   "outputs": [],
   "source": [
    "iris = load_iris()\n",
    "X = iris.data[:, (2, 3)]  # petal length, petal width\n",
    "y = (iris.target == 0).astype(np.int)"
   ]
  },
  {
   "cell_type": "code",
   "execution_count": 3,
   "metadata": {},
   "outputs": [
    {
     "data": {
      "text/plain": [
       "[<matplotlib.lines.Line2D at 0x7f182179c040>]"
      ]
     },
     "execution_count": 3,
     "metadata": {},
     "output_type": "execute_result"
    },
    {
     "data": {
      "image/png": "[encoded data removed]",
      "text/plain": [
       "<Figure size 432x288 with 1 Axes>"
      ]
     },
     "metadata": {
      "needs_background": "light"
     },
     "output_type": "display_data"
    }
   ],
   "source": [
    "plt.plot(X[y==0, 0], X[y==0, 1], \"bs\", label=\"Not Iris-Setosa\")\n",
    "plt.plot(X[y==1, 0], X[y==1, 1], \"yo\", label=\"Iris-Setosa\")"
   ]
  },
  {
   "cell_type": "code",
   "execution_count": 4,
   "metadata": {},
   "outputs": [],
   "source": [
    "iris_model = tf.keras.Sequential([\n",
    "  layers.Dense(2),\n",
    "  layers.Dense(1)\n",
    "])"
   ]
  },
  {
   "cell_type": "code",
   "execution_count": 5,
   "metadata": {},
   "outputs": [],
   "source": [
    "iris_model.compile(loss = tf.losses.MeanSquaredError(),optimizer = tf.optimizers.Adam(), metrics=['mae','mape'])\n",
    "#iris_model.compile(loss = tf.losses.MeanSquaredError(),optimizer = tf.optimizers.Adam(), metrics=['accuracy'])"
   ]
  },
  {
   "cell_type": "code",
   "execution_count": 6,
   "metadata": {},
   "outputs": [
    {
     "name": "stdout",
     "output_type": "stream",
     "text": [
      "Epoch 1/100\n",
      "5/5 [==============================] - 0s 846us/step - loss: 0.1463 - accuracy: 0.6667\n",
      "Epoch 2/100\n",
      "5/5 [==============================] - 0s 782us/step - loss: 0.1434 - accuracy: 0.6667\n",
      "Epoch 3/100\n",
      "5/5 [==============================] - 0s 706us/step - loss: 0.1406 - accuracy: 0.6667\n",
      "Epoch 4/100\n",
      "5/5 [==============================] - 0s 819us/step - loss: 0.1380 - accuracy: 0.6667\n",
      "Epoch 5/100\n",
      "5/5 [==============================] - 0s 805us/step - loss: 0.1349 - accuracy: 0.6667\n",
      "Epoch 6/100\n",
      "5/5 [==============================] - 0s 848us/step - loss: 0.1324 - accuracy: 0.6667\n",
      "Epoch 7/100\n",
      "5/5 [==============================] - 0s 1ms/step - loss: 0.1299 - accuracy: 0.6667\n",
      "Epoch 8/100\n",
      "5/5 [==============================] - 0s 920us/step - loss: 0.1274 - accuracy: 0.6667\n",
      "Epoch 9/100\n",
      "5/5 [==============================] - 0s 711us/step - loss: 0.1250 - accuracy: 0.6667\n",
      "Epoch 10/100\n",
      "5/5 [==============================] - 0s 2ms/step - loss: 0.1226 - accuracy: 0.6667\n",
      "Epoch 11/100\n",
      "5/5 [==============================] - 0s 728us/step - loss: 0.1207 - accuracy: 0.6667\n",
      "Epoch 12/100\n",
      "5/5 [==============================] - 0s 694us/step - loss: 0.1187 - accuracy: 0.6667\n",
      "Epoch 13/100\n",
      "5/5 [==============================] - 0s 772us/step - loss: 0.1170 - accuracy: 0.6667\n",
      "Epoch 14/100\n",
      "5/5 [==============================] - 0s 660us/step - loss: 0.1153 - accuracy: 0.6667\n",
      "Epoch 15/100\n",
      "5/5 [==============================] - 0s 617us/step - loss: 0.1139 - accuracy: 0.6667\n",
      "Epoch 16/100\n",
      "5/5 [==============================] - 0s 614us/step - loss: 0.1124 - accuracy: 0.6733\n",
      "Epoch 17/100\n",
      "5/5 [==============================] - 0s 775us/step - loss: 0.1110 - accuracy: 0.6733\n",
      "Epoch 18/100\n",
      "5/5 [==============================] - 0s 716us/step - loss: 0.1098 - accuracy: 0.7000\n",
      "Epoch 19/100\n",
      "5/5 [==============================] - 0s 730us/step - loss: 0.1088 - accuracy: 0.7000\n",
      "Epoch 20/100\n",
      "5/5 [==============================] - 0s 703us/step - loss: 0.1076 - accuracy: 0.7000\n",
      "Epoch 21/100\n",
      "5/5 [==============================] - 0s 582us/step - loss: 0.1066 - accuracy: 0.7000\n",
      "Epoch 22/100\n",
      "5/5 [==============================] - 0s 613us/step - loss: 0.1055 - accuracy: 0.7000\n",
      "Epoch 23/100\n",
      "5/5 [==============================] - 0s 800us/step - loss: 0.1045 - accuracy: 0.7133\n",
      "Epoch 24/100\n",
      "5/5 [==============================] - 0s 766us/step - loss: 0.1036 - accuracy: 0.8533\n",
      "Epoch 25/100\n",
      "5/5 [==============================] - 0s 652us/step - loss: 0.1026 - accuracy: 0.8933\n",
      "Epoch 26/100\n",
      "5/5 [==============================] - 0s 635us/step - loss: 0.1016 - accuracy: 0.8933\n",
      "Epoch 27/100\n",
      "5/5 [==============================] - 0s 609us/step - loss: 0.1007 - accuracy: 0.8933\n",
      "Epoch 28/100\n",
      "5/5 [==============================] - 0s 693us/step - loss: 0.0998 - accuracy: 0.8933\n",
      "Epoch 29/100\n",
      "5/5 [==============================] - 0s 611us/step - loss: 0.0988 - accuracy: 0.8933\n",
      "Epoch 30/100\n",
      "5/5 [==============================] - 0s 656us/step - loss: 0.0979 - accuracy: 0.8933\n",
      "Epoch 31/100\n",
      "5/5 [==============================] - 0s 650us/step - loss: 0.0970 - accuracy: 0.8933\n",
      "Epoch 32/100\n",
      "5/5 [==============================] - 0s 631us/step - loss: 0.0961 - accuracy: 0.8933\n",
      "Epoch 33/100\n",
      "5/5 [==============================] - 0s 681us/step - loss: 0.0952 - accuracy: 0.8933\n",
      "Epoch 34/100\n",
      "5/5 [==============================] - 0s 635us/step - loss: 0.0943 - accuracy: 0.8933\n",
      "Epoch 35/100\n",
      "5/5 [==============================] - 0s 778us/step - loss: 0.0934 - accuracy: 0.9400\n",
      "Epoch 36/100\n",
      "5/5 [==============================] - 0s 674us/step - loss: 0.0925 - accuracy: 0.9400\n",
      "Epoch 37/100\n",
      "5/5 [==============================] - 0s 654us/step - loss: 0.0916 - accuracy: 0.9400\n",
      "Epoch 38/100\n",
      "5/5 [==============================] - 0s 745us/step - loss: 0.0907 - accuracy: 0.9400\n",
      "Epoch 39/100\n",
      "5/5 [==============================] - 0s 769us/step - loss: 0.0898 - accuracy: 0.9400\n",
      "Epoch 40/100\n",
      "5/5 [==============================] - 0s 764us/step - loss: 0.0890 - accuracy: 0.9400\n",
      "Epoch 41/100\n",
      "5/5 [==============================] - 0s 786us/step - loss: 0.0880 - accuracy: 0.9400\n",
      "Epoch 42/100\n",
      "5/5 [==============================] - 0s 873us/step - loss: 0.0872 - accuracy: 0.9400\n",
      "Epoch 43/100\n",
      "5/5 [==============================] - 0s 694us/step - loss: 0.0863 - accuracy: 0.9400\n",
      "Epoch 44/100\n",
      "5/5 [==============================] - 0s 763us/step - loss: 0.0855 - accuracy: 0.9400\n",
      "Epoch 45/100\n",
      "5/5 [==============================] - 0s 906us/step - loss: 0.0846 - accuracy: 0.9400\n",
      "Epoch 46/100\n",
      "5/5 [==============================] - 0s 791us/step - loss: 0.0837 - accuracy: 0.9400\n",
      "Epoch 47/100\n",
      "5/5 [==============================] - 0s 775us/step - loss: 0.0829 - accuracy: 0.9400\n",
      "Epoch 48/100\n",
      "5/5 [==============================] - 0s 941us/step - loss: 0.0821 - accuracy: 0.9400\n",
      "Epoch 49/100\n",
      "5/5 [==============================] - 0s 846us/step - loss: 0.0812 - accuracy: 0.9400\n",
      "Epoch 50/100\n",
      "5/5 [==============================] - 0s 789us/step - loss: 0.0804 - accuracy: 0.9400\n",
      "Epoch 51/100\n",
      "5/5 [==============================] - 0s 948us/step - loss: 0.0796 - accuracy: 0.9400\n",
      "Epoch 52/100\n",
      "5/5 [==============================] - 0s 773us/step - loss: 0.0788 - accuracy: 0.9733\n",
      "Epoch 53/100\n",
      "5/5 [==============================] - 0s 761us/step - loss: 0.0780 - accuracy: 0.9867\n",
      "Epoch 54/100\n",
      "5/5 [==============================] - 0s 894us/step - loss: 0.0772 - accuracy: 0.9867\n",
      "Epoch 55/100\n",
      "5/5 [==============================] - 0s 723us/step - loss: 0.0765 - accuracy: 0.9867\n",
      "Epoch 56/100\n",
      "5/5 [==============================] - 0s 769us/step - loss: 0.0756 - accuracy: 0.9867\n",
      "Epoch 57/100\n",
      "5/5 [==============================] - 0s 1ms/step - loss: 0.0748 - accuracy: 0.9867\n",
      "Epoch 58/100\n",
      "5/5 [==============================] - 0s 721us/step - loss: 0.0741 - accuracy: 0.9867\n",
      "Epoch 59/100\n",
      "5/5 [==============================] - 0s 766us/step - loss: 0.0733 - accuracy: 0.9867\n",
      "Epoch 60/100\n",
      "5/5 [==============================] - 0s 910us/step - loss: 0.0725 - accuracy: 0.9867\n",
      "Epoch 61/100\n",
      "5/5 [==============================] - ETA: 0s - loss: 0.0612 - accuracy: 1.00 - 0s 808us/step - loss: 0.0717 - accuracy: 0.9867\n",
      "Epoch 62/100\n",
      "5/5 [==============================] - 0s 783us/step - loss: 0.0711 - accuracy: 0.9867\n",
      "Epoch 63/100\n",
      "5/5 [==============================] - 0s 812us/step - loss: 0.0702 - accuracy: 0.9867\n",
      "Epoch 64/100\n",
      "5/5 [==============================] - 0s 680us/step - loss: 0.0695 - accuracy: 0.9867\n",
      "Epoch 65/100\n",
      "5/5 [==============================] - 0s 687us/step - loss: 0.0688 - accuracy: 0.9867\n",
      "Epoch 66/100\n",
      "5/5 [==============================] - 0s 950us/step - loss: 0.0680 - accuracy: 0.9867\n",
      "Epoch 67/100\n",
      "5/5 [==============================] - 0s 856us/step - loss: 0.0673 - accuracy: 0.9867\n",
      "Epoch 68/100\n",
      "5/5 [==============================] - 0s 802us/step - loss: 0.0666 - accuracy: 0.9867\n",
      "Epoch 69/100\n",
      "5/5 [==============================] - 0s 803us/step - loss: 0.0659 - accuracy: 0.9867\n",
      "Epoch 70/100\n",
      "5/5 [==============================] - 0s 653us/step - loss: 0.0651 - accuracy: 0.9867\n",
      "Epoch 71/100\n",
      "5/5 [==============================] - 0s 659us/step - loss: 0.0644 - accuracy: 0.9867\n",
      "Epoch 72/100\n",
      "5/5 [==============================] - 0s 722us/step - loss: 0.0637 - accuracy: 0.9867\n",
      "Epoch 73/100\n",
      "5/5 [==============================] - 0s 741us/step - loss: 0.0630 - accuracy: 0.9867\n",
      "Epoch 74/100\n",
      "5/5 [==============================] - 0s 645us/step - loss: 0.0624 - accuracy: 0.9867\n",
      "Epoch 75/100\n",
      "5/5 [==============================] - 0s 695us/step - loss: 0.0617 - accuracy: 0.9867\n",
      "Epoch 76/100\n",
      "5/5 [==============================] - 0s 748us/step - loss: 0.0610 - accuracy: 0.9867\n",
      "Epoch 77/100\n",
      "5/5 [==============================] - 0s 635us/step - loss: 0.0604 - accuracy: 0.9933\n",
      "Epoch 78/100\n",
      "5/5 [==============================] - 0s 746us/step - loss: 0.0597 - accuracy: 0.9933\n",
      "Epoch 79/100\n",
      "5/5 [==============================] - 0s 734us/step - loss: 0.0590 - accuracy: 0.9933\n",
      "Epoch 80/100\n",
      "5/5 [==============================] - 0s 794us/step - loss: 0.0584 - accuracy: 0.9933\n",
      "Epoch 81/100\n",
      "5/5 [==============================] - 0s 699us/step - loss: 0.0577 - accuracy: 0.9933\n",
      "Epoch 82/100\n"
     ]
    },
    {
     "name": "stdout",
     "output_type": "stream",
     "text": [
      "5/5 [==============================] - 0s 672us/step - loss: 0.0571 - accuracy: 0.9933\n",
      "Epoch 83/100\n",
      "5/5 [==============================] - 0s 1ms/step - loss: 0.0565 - accuracy: 0.9933\n",
      "Epoch 84/100\n",
      "5/5 [==============================] - 0s 658us/step - loss: 0.0559 - accuracy: 0.9933\n",
      "Epoch 85/100\n",
      "5/5 [==============================] - 0s 696us/step - loss: 0.0553 - accuracy: 0.9933\n",
      "Epoch 86/100\n",
      "5/5 [==============================] - 0s 816us/step - loss: 0.0546 - accuracy: 0.9933\n",
      "Epoch 87/100\n",
      "5/5 [==============================] - 0s 720us/step - loss: 0.0540 - accuracy: 0.9933\n",
      "Epoch 88/100\n",
      "5/5 [==============================] - 0s 761us/step - loss: 0.0535 - accuracy: 0.9933\n",
      "Epoch 89/100\n",
      "5/5 [==============================] - 0s 724us/step - loss: 0.0529 - accuracy: 0.9933\n",
      "Epoch 90/100\n",
      "5/5 [==============================] - 0s 850us/step - loss: 0.0523 - accuracy: 0.9933\n",
      "Epoch 91/100\n",
      "5/5 [==============================] - 0s 609us/step - loss: 0.0517 - accuracy: 0.9933\n",
      "Epoch 92/100\n",
      "5/5 [==============================] - 0s 634us/step - loss: 0.0511 - accuracy: 0.9933\n",
      "Epoch 93/100\n",
      "5/5 [==============================] - 0s 877us/step - loss: 0.0506 - accuracy: 0.9933\n",
      "Epoch 94/100\n",
      "5/5 [==============================] - 0s 747us/step - loss: 0.0501 - accuracy: 0.9933\n",
      "Epoch 95/100\n",
      "5/5 [==============================] - 0s 781us/step - loss: 0.0495 - accuracy: 0.9933\n",
      "Epoch 96/100\n",
      "5/5 [==============================] - 0s 816us/step - loss: 0.0489 - accuracy: 0.9933\n",
      "Epoch 97/100\n",
      "5/5 [==============================] - 0s 774us/step - loss: 0.0484 - accuracy: 0.9933\n",
      "Epoch 98/100\n",
      "5/5 [==============================] - 0s 652us/step - loss: 0.0478 - accuracy: 0.9933\n",
      "Epoch 99/100\n",
      "5/5 [==============================] - 0s 720us/step - loss: 0.0474 - accuracy: 0.9933\n",
      "Epoch 100/100\n",
      "5/5 [==============================] - 0s 825us/step - loss: 0.0468 - accuracy: 0.9933\n"
     ]
    }
   ],
   "source": [
    "history = iris_model.fit(X, y, epochs=100)"
   ]
  },
  {
   "cell_type": "code",
   "execution_count": 7,
   "metadata": {},
   "outputs": [
    {
     "data": {
      "text/plain": [
       "array([[0.702],\n",
       "       [0.702],\n",
       "       [0.701],\n",
       "       [0.702],\n",
       "       [0.702],\n",
       "       [0.595],\n",
       "       [0.649],\n",
       "       [0.702],\n",
       "       [0.702],\n",
       "       [0.75 ],\n",
       "       [0.702],\n",
       "       [0.703],\n",
       "       [0.75 ],\n",
       "       [0.747],\n",
       "       [0.7  ],\n",
       "       [0.593],\n",
       "       [0.591],\n",
       "       [0.649],\n",
       "       [0.652],\n",
       "       [0.65 ],\n",
       "       [0.704],\n",
       "       [0.593],\n",
       "       [0.698],\n",
       "       [0.536],\n",
       "       [0.706],\n",
       "       [0.703],\n",
       "       [0.594],\n",
       "       [0.702],\n",
       "       [0.702],\n",
       "       [0.703],\n",
       "       [0.703],\n",
       "       [0.593],\n",
       "       [0.75 ],\n",
       "       [0.702],\n",
       "       [0.702],\n",
       "       [0.7  ],\n",
       "       [0.701],\n",
       "       [0.75 ],\n",
       "       [0.701],\n",
       "       [0.702],\n",
       "       [0.648],\n",
       "       [0.648],\n",
       "       [0.701],\n",
       "       [0.474],\n",
       "       [0.597],\n",
       "       [0.649],\n",
       "       [0.703],\n",
       "       [0.702],\n",
       "       [0.702],\n",
       "       [0.702],\n",
       "       [0.131],\n",
       "       [0.105],\n",
       "       [0.107],\n",
       "       [0.157],\n",
       "       [0.106],\n",
       "       [0.16 ],\n",
       "       [0.085],\n",
       "       [0.271],\n",
       "       [0.161],\n",
       "       [0.127],\n",
       "       [0.273],\n",
       "       [0.104],\n",
       "       [0.278],\n",
       "       [0.131],\n",
       "       [0.155],\n",
       "       [0.13 ],\n",
       "       [0.105],\n",
       "       [0.279],\n",
       "       [0.105],\n",
       "       [0.231],\n",
       "       [0.055],\n",
       "       [0.157],\n",
       "       [0.107],\n",
       "       [0.197],\n",
       "       [0.159],\n",
       "       [0.13 ],\n",
       "       [0.132],\n",
       "       [0.069],\n",
       "       [0.105],\n",
       "       [0.273],\n",
       "       [0.23 ],\n",
       "       [0.275],\n",
       "       [0.191],\n",
       "       [0.087],\n",
       "       [0.105],\n",
       "       [0.085],\n",
       "       [0.106],\n",
       "       [0.159],\n",
       "       [0.158],\n",
       "       [0.157],\n",
       "       [0.195],\n",
       "       [0.131],\n",
       "       [0.192],\n",
       "       [0.271],\n",
       "       [0.158],\n",
       "       [0.193],\n",
       "       [0.158],\n",
       "       [0.159],\n",
       "       [0.224],\n",
       "       [0.158],\n",
       "       [0.011],\n",
       "       [0.044],\n",
       "       [0.029],\n",
       "       [0.057],\n",
       "       [0.023],\n",
       "       [0.03 ],\n",
       "       [0.068],\n",
       "       [0.058],\n",
       "       [0.057],\n",
       "       [0.011],\n",
       "       [0.035],\n",
       "       [0.044],\n",
       "       [0.028],\n",
       "       [0.035],\n",
       "       [0.014],\n",
       "       [0.017],\n",
       "       [0.056],\n",
       "       [0.023],\n",
       "       [0.019],\n",
       "       [0.107],\n",
       "       [0.018],\n",
       "       [0.035],\n",
       "       [0.037],\n",
       "       [0.055],\n",
       "       [0.028],\n",
       "       [0.058],\n",
       "       [0.055],\n",
       "       [0.055],\n",
       "       [0.028],\n",
       "       [0.089],\n",
       "       [0.046],\n",
       "       [0.037],\n",
       "       [0.022],\n",
       "       [0.108],\n",
       "       [0.136],\n",
       "       [0.018],\n",
       "       [0.014],\n",
       "       [0.056],\n",
       "       [0.055],\n",
       "       [0.028],\n",
       "       [0.014],\n",
       "       [0.017],\n",
       "       [0.044],\n",
       "       [0.018],\n",
       "       [0.011],\n",
       "       [0.017],\n",
       "       [0.044],\n",
       "       [0.035],\n",
       "       [0.017],\n",
       "       [0.055]], dtype=float32)"
      ]
     },
     "execution_count": 7,
     "metadata": {},
     "output_type": "execute_result"
    }
   ],
   "source": [
    "iris_model.predict(X)"
   ]
  },
  {
   "cell_type": "code",
   "execution_count": 10,
   "metadata": {},
   "outputs": [
    {
     "data": {
      "text/plain": [
       "[<tf.Variable 'dense/kernel:0' shape=(2, 2) dtype=float32, numpy=\n",
       " array([[ 0.603,  0.282],\n",
       "        [ 0.054, -1.413]], dtype=float32)>,\n",
       " <tf.Variable 'dense/bias:0' shape=(2,) dtype=float32, numpy=array([-0.352,  0.397], dtype=float32)>]"
      ]
     },
     "execution_count": 10,
     "metadata": {},
     "output_type": "execute_result"
    }
   ],
   "source": [
    "iris_model.layers[0].weights"
   ]
  },
  {
   "cell_type": "markdown",
   "metadata": {},
   "source": [
    "For any small CSV dataset the simplest way to train a TensorFlow model on it is to load it into memory as a pandas Dataframe or a NumPy array. \n",
    "\n",
    "## Abalone dataset\n",
    "\n",
    "Numeric data, Regression to predict Abalone age"
   ]
  },
  {
   "cell_type": "code",
   "execution_count": null,
   "metadata": {},
   "outputs": [],
   "source": [
    "abalone_train = pd.read_csv(\n",
    "    \"https://storage.googleapis.com/download.tensorflow.org/data/abalone_train.csv\",\n",
    "    names=[\"Length\", \"Diameter\", \"Height\", \"Whole weight\", \"Shucked weight\",\n",
    "           \"Viscera weight\", \"Shell weight\", \"Age\"])\n",
    "\n",
    "abalone_train.head()"
   ]
  },
  {
   "cell_type": "code",
   "execution_count": null,
   "metadata": {},
   "outputs": [],
   "source": [
    "abalone_train.shape"
   ]
  },
  {
   "cell_type": "code",
   "execution_count": null,
   "metadata": {},
   "outputs": [],
   "source": [
    "abalone_features = abalone_train.copy()\n",
    "abalone_labels = abalone_features.pop('Age')"
   ]
  },
  {
   "cell_type": "code",
   "execution_count": null,
   "metadata": {},
   "outputs": [],
   "source": [
    "abalone_features.head()"
   ]
  },
  {
   "cell_type": "code",
   "execution_count": null,
   "metadata": {},
   "outputs": [],
   "source": [
    "abalone_model = tf.keras.Sequential([\n",
    "  layers.Dense(64),\n",
    "  layers.Dense(1)\n",
    "])\n",
    "\n",
    "abalone_model.compile(loss = tf.losses.MeanSquaredError(),optimizer = tf.optimizers.Adam(), metrics=['mae','mape'])"
   ]
  },
  {
   "cell_type": "code",
   "execution_count": null,
   "metadata": {},
   "outputs": [],
   "source": [
    "history = abalone_model.fit(abalone_features, abalone_labels, epochs=10)"
   ]
  },
  {
   "cell_type": "code",
   "execution_count": null,
   "metadata": {},
   "outputs": [],
   "source": [
    "history.history"
   ]
  },
  {
   "cell_type": "markdown",
   "metadata": {},
   "source": [
    "## Titanic dataset\n",
    "\n",
    "Mixed data types, Perform classification "
   ]
  },
  {
   "cell_type": "code",
   "execution_count": null,
   "metadata": {},
   "outputs": [],
   "source": [
    "titanic = pd.read_csv(\"https://storage.googleapis.com/tf-datasets/titanic/train.csv\")\n",
    "titanic.head()"
   ]
  },
  {
   "cell_type": "code",
   "execution_count": null,
   "metadata": {},
   "outputs": [],
   "source": [
    "titanic_features = titanic.copy()\n",
    "titanic_labels = titanic_features.pop('survived')"
   ]
  },
  {
   "cell_type": "code",
   "execution_count": null,
   "metadata": {},
   "outputs": [],
   "source": [
    "titanic_features.head()"
   ]
  },
  {
   "cell_type": "code",
   "execution_count": null,
   "metadata": {},
   "outputs": [],
   "source": [
    "titanic_labels"
   ]
  },
  {
   "cell_type": "code",
   "execution_count": null,
   "metadata": {},
   "outputs": [],
   "source": [
    "for name, column in titanic_features.items():\n",
    "    dtype = column.dtype\n",
    "    print(dtype)"
   ]
  },
  {
   "cell_type": "code",
   "execution_count": null,
   "metadata": {},
   "outputs": [],
   "source": [
    "inputs = {}\n",
    "\n",
    "for name, column in titanic_features.items():\n",
    "    dtype = column.dtype\n",
    "    if dtype == object:\n",
    "        dtype = tf.string\n",
    "    else:\n",
    "        dtype = tf.float32\n",
    "\n",
    "    inputs[name] = tf.keras.Input(shape=(1,), name=name, dtype=dtype)\n",
    "\n",
    "inputs"
   ]
  },
  {
   "cell_type": "code",
   "execution_count": null,
   "metadata": {},
   "outputs": [],
   "source": [
    "numeric_inputs.values()"
   ]
  },
  {
   "cell_type": "code",
   "execution_count": null,
   "metadata": {},
   "outputs": [],
   "source": [
    "numeric_inputs = {name:input for name,input in inputs.items()\n",
    "                  if input.dtype==tf.float32}"
   ]
  },
  {
   "cell_type": "code",
   "execution_count": null,
   "metadata": {},
   "outputs": [],
   "source": [
    "numeric_inputs = {name:input for name,input in inputs.items()\n",
    "                  if input.dtype==tf.float32}\n",
    "\n",
    "x = layers.Concatenate()(list(numeric_inputs.values()))\n",
    "norm = preprocessing.Normalization()\n",
    "norm.adapt(np.array(titanic[numeric_inputs.keys()]))\n",
    "all_numeric_inputs = norm(x)\n",
    "\n",
    "all_numeric_inputs"
   ]
  },
  {
   "cell_type": "code",
   "execution_count": null,
   "metadata": {},
   "outputs": [],
   "source": [
    "preprocessed_inputs = [all_numeric_inputs]\n",
    "for name, input in inputs.items():\n",
    "    if input.dtype == tf.float32:\n",
    "        continue\n",
    "\n",
    "    lookup = preprocessing.StringLookup(vocabulary=np.unique(titanic_features[name]))\n",
    "    one_hot = preprocessing.CategoryEncoding(max_tokens=lookup.vocab_size())\n",
    "\n",
    "    x = lookup(input)\n",
    "    x = one_hot(x)\n",
    "    preprocessed_inputs.append(x)\n"
   ]
  },
  {
   "cell_type": "code",
   "execution_count": null,
   "metadata": {},
   "outputs": [],
   "source": [
    "preprocessed_inputs"
   ]
  },
  {
   "cell_type": "code",
   "execution_count": null,
   "metadata": {},
   "outputs": [],
   "source": [
    "preprocessed_inputs_cat = layers.Concatenate()(preprocessed_inputs)\n",
    "\n",
    "titanic_preprocessing = tf.keras.Model(inputs, preprocessed_inputs_cat)\n",
    "\n",
    "tf.keras.utils.plot_model(model = titanic_preprocessing , rankdir=\"LR\", dpi=72, show_shapes=True)"
   ]
  },
  {
   "cell_type": "code",
   "execution_count": null,
   "metadata": {},
   "outputs": [],
   "source": [
    "titanic_features_dict = {name: np.array(value) \n",
    "                         for name, value in titanic_features.items()}"
   ]
  },
  {
   "cell_type": "code",
   "execution_count": null,
   "metadata": {},
   "outputs": [],
   "source": [
    "features_dict = {name:values[:1] for name, values in titanic_features_dict.items()}\n",
    "titanic_preprocessing(features_dict)"
   ]
  },
  {
   "cell_type": "code",
   "execution_count": null,
   "metadata": {},
   "outputs": [],
   "source": [
    "def titanic_model(preprocessing_head, inputs):\n",
    "    body = tf.keras.Sequential([\n",
    "        layers.Dense(64),\n",
    "        layers.Dense(1)\n",
    "    ])\n",
    "\n",
    "    preprocessed_inputs = preprocessing_head(inputs)\n",
    "    result = body(preprocessed_inputs)\n",
    "    model = tf.keras.Model(inputs, result)\n",
    "\n",
    "    model.compile(loss=tf.losses.BinaryCrossentropy(from_logits=True),optimizer=tf.optimizers.Adam(),metrics=['accuracy'])\n",
    "    return model\n",
    "\n",
    "titanic_model = titanic_model(titanic_preprocessing, inputs)\n"
   ]
  },
  {
   "cell_type": "code",
   "execution_count": null,
   "metadata": {},
   "outputs": [],
   "source": [
    "history = titanic_model.fit(x=titanic_features_dict, y=titanic_labels, epochs=10)"
   ]
  },
  {
   "cell_type": "code",
   "execution_count": null,
   "metadata": {},
   "outputs": [],
   "source": [
    "plt.plot(history.history['accuracy'])"
   ]
  }
 ],
 "metadata": {
  "kernelspec": {
   "display_name": "Python 3",
   "language": "python",
   "name": "python3"
  },
  "language_info": {
   "codemirror_mode": {
    "name": "ipython",
    "version": 3
   },
   "file_extension": ".py",
   "mimetype": "text/x-python",
   "name": "python",
   "nbconvert_exporter": "python",
   "pygments_lexer": "ipython3",
   "version": "3.8.5"
  }
 },
 "nbformat": 4,
 "nbformat_minor": 4
}
